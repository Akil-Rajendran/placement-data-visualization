{
  "cells": [
    {
      "cell_type": "markdown",
      "metadata": {
        "id": "sKRGrJ_FnsbY"
      },
      "source": [
        "## Import Libraries"
      ]
    },
    {
      "cell_type": "code",
      "execution_count": 187,
      "metadata": {
        "id": "tOWqBZq0W_5h"
      },
      "outputs": [],
      "source": [
        "import pandas as pd\n",
        "import warnings\n",
        "warnings.filterwarnings(\"ignore\")\n",
        "import seaborn as sns\n",
        "import matplotlib.pyplot as plt\n",
        "import plotly.express as px"
      ]
    },
    {
      "cell_type": "markdown",
      "metadata": {
        "id": "Z7La_MoDnw-A"
      },
      "source": [
        "# Pull in data"
      ]
    },
    {
      "cell_type": "code",
      "execution_count": 188,
      "metadata": {
        "id": "oGL33di-QTUE"
      },
      "outputs": [],
      "source": [
        "data = pd.read_csv(\"placement dataset for web - Internship and Placement Detail.csv\")"
      ]
    },
    {
      "cell_type": "code",
      "execution_count": 189,
      "metadata": {
        "colab": {
          "base_uri": "https://localhost:8080/"
        },
        "id": "fQ79jc1BeKqF",
        "outputId": "5edad7d1-833e-44a4-eaa6-39c58f0562fd"
      },
      "outputs": [
        {
          "data": {
            "text/plain": [
              "(69, 20)"
            ]
          },
          "execution_count": 189,
          "metadata": {},
          "output_type": "execute_result"
        }
      ],
      "source": [
        "data.shape"
      ]
    },
    {
      "cell_type": "code",
      "execution_count": 190,
      "metadata": {
        "colab": {
          "base_uri": "https://localhost:8080/"
        },
        "id": "NUdgK9BFX_VE",
        "outputId": "ae553634-725b-43d2-aa1a-4fb21f2b585a"
      },
      "outputs": [
        {
          "data": {
            "text/html": [
              "<div>\n",
              "<style scoped>\n",
              "    .dataframe tbody tr th:only-of-type {\n",
              "        vertical-align: middle;\n",
              "    }\n",
              "\n",
              "    .dataframe tbody tr th {\n",
              "        vertical-align: top;\n",
              "    }\n",
              "\n",
              "    .dataframe thead th {\n",
              "        text-align: right;\n",
              "    }\n",
              "</style>\n",
              "<table border=\"1\" class=\"dataframe\">\n",
              "  <thead>\n",
              "    <tr style=\"text-align: right;\">\n",
              "      <th></th>\n",
              "      <th>Unnamed: 0</th>\n",
              "      <th>III BTECH IT G1 [2018-2022 Batch] - PLACEMENT AND INTENSHIP DETAILS -</th>\n",
              "      <th>Unnamed: 2</th>\n",
              "      <th>Unnamed: 3</th>\n",
              "      <th>Unnamed: 4</th>\n",
              "      <th>Unnamed: 5</th>\n",
              "      <th>Unnamed: 6</th>\n",
              "      <th>Unnamed: 7</th>\n",
              "      <th>Unnamed: 8</th>\n",
              "      <th>Unnamed: 9</th>\n",
              "      <th>Unnamed: 10</th>\n",
              "      <th>Unnamed: 11</th>\n",
              "      <th>Unnamed: 12</th>\n",
              "      <th>Unnamed: 13</th>\n",
              "      <th>Unnamed: 14</th>\n",
              "      <th>Unnamed: 15</th>\n",
              "      <th>Unnamed: 16</th>\n",
              "      <th>Unnamed: 17</th>\n",
              "      <th>Unnamed: 18</th>\n",
              "      <th>Unnamed: 19</th>\n",
              "    </tr>\n",
              "  </thead>\n",
              "  <tbody>\n",
              "    <tr>\n",
              "      <th>0</th>\n",
              "      <td>NaN</td>\n",
              "      <td>S.NO</td>\n",
              "      <td>Roll Number</td>\n",
              "      <td>Name</td>\n",
              "      <td>CGPA</td>\n",
              "      <td>Company Name</td>\n",
              "      <td>Location with complete details</td>\n",
              "      <td>Month &amp; Year Placed</td>\n",
              "      <td>Package (FTE)</td>\n",
              "      <td>Package (Intern)</td>\n",
              "      <td>Internship Period</td>\n",
              "      <td>Intern Offer Letter Received On</td>\n",
              "      <td>Intern Joining Date</td>\n",
              "      <td>Job Offer Letter Received On</td>\n",
              "      <td>FTE Joining Date</td>\n",
              "      <td>Upload Internship Offer Letter</td>\n",
              "      <td>Upload Full Time Offer Letter</td>\n",
              "      <td>Higher Studies (Y/N)</td>\n",
              "      <td>EXAMS Preparing for (GATE/IELTS/ TOEFL/GRE/MAT...</td>\n",
              "      <td>Higher Studies - College / University</td>\n",
              "    </tr>\n",
              "    <tr>\n",
              "      <th>1</th>\n",
              "      <td>NaN</td>\n",
              "      <td>1</td>\n",
              "      <td>17I226</td>\n",
              "      <td>NANTHAGOPAN N</td>\n",
              "      <td>8.74</td>\n",
              "      <td>Verizon</td>\n",
              "      <td>8th Floor, Citius Block- B, Olympia Technology...</td>\n",
              "      <td>09-2021</td>\n",
              "      <td>9,66,500</td>\n",
              "      <td>28,000/month</td>\n",
              "      <td>4.5 months</td>\n",
              "      <td>3-Feb-2022</td>\n",
              "      <td>14-Feb-2022</td>\n",
              "      <td>27 May 2022</td>\n",
              "      <td>18-July-2022</td>\n",
              "      <td>https://drive.google.com/file/d/1YCD0YPj_xKJ2C...</td>\n",
              "      <td>https://drive.google.com/file/d/1moVzC4oU1LOEU...</td>\n",
              "      <td>N</td>\n",
              "      <td>N</td>\n",
              "      <td>N</td>\n",
              "    </tr>\n",
              "    <tr>\n",
              "      <th>2</th>\n",
              "      <td>NaN</td>\n",
              "      <td>2</td>\n",
              "      <td>18I201</td>\n",
              "      <td>ABINAYA M P</td>\n",
              "      <td>8.91</td>\n",
              "      <td>Caterpillar</td>\n",
              "      <td>NaN</td>\n",
              "      <td>08-2021</td>\n",
              "      <td>10,35,851</td>\n",
              "      <td>NaN</td>\n",
              "      <td>6 months</td>\n",
              "      <td>17-Dec-2021</td>\n",
              "      <td>03-Jan-2022</td>\n",
              "      <td>NaN</td>\n",
              "      <td>NaN</td>\n",
              "      <td>https://drive.google.com/file/d/1nSKvi1_rcHMkX...</td>\n",
              "      <td>https://drive.google.com/file/d/1Ah9otLvipxt32...</td>\n",
              "      <td>NaN</td>\n",
              "      <td>NaN</td>\n",
              "      <td>NaN</td>\n",
              "    </tr>\n",
              "    <tr>\n",
              "      <th>3</th>\n",
              "      <td>NaN</td>\n",
              "      <td>3</td>\n",
              "      <td>18I202</td>\n",
              "      <td>ABIRAMI A P</td>\n",
              "      <td>8.17</td>\n",
              "      <td>Ericsson Global</td>\n",
              "      <td>Ericsson India Global Services Private Limited...</td>\n",
              "      <td>09-2021</td>\n",
              "      <td>11,50,000</td>\n",
              "      <td>30,000/month</td>\n",
              "      <td>5 months</td>\n",
              "      <td>10-Jan-2022</td>\n",
              "      <td>17-Jan-2022</td>\n",
              "      <td>NaN</td>\n",
              "      <td>16-Jan-2022</td>\n",
              "      <td>https://drive.google.com/file/d/1o2GzaBi0anD19...</td>\n",
              "      <td>nil</td>\n",
              "      <td>N</td>\n",
              "      <td>N</td>\n",
              "      <td>N</td>\n",
              "    </tr>\n",
              "    <tr>\n",
              "      <th>4</th>\n",
              "      <td>NaN</td>\n",
              "      <td>4</td>\n",
              "      <td>18I203</td>\n",
              "      <td>ADITHYA HARISH S M</td>\n",
              "      <td>9.53</td>\n",
              "      <td>Fidelity Investments</td>\n",
              "      <td>Manyata tech park, Outer ring road, Nagavara,....</td>\n",
              "      <td>07-2021</td>\n",
              "      <td>12,93,000</td>\n",
              "      <td>35,000/ month</td>\n",
              "      <td>5 months</td>\n",
              "      <td>27 Nov 2021</td>\n",
              "      <td>24 Jan 2022</td>\n",
              "      <td>07 Dec 2021</td>\n",
              "      <td>NaN</td>\n",
              "      <td>https://drive.google.com/file/d/1h34ribpdcE3e5...</td>\n",
              "      <td>https://drive.google.com/file/d/1bUzOCoYulInbg...</td>\n",
              "      <td>N</td>\n",
              "      <td>N</td>\n",
              "      <td>N</td>\n",
              "    </tr>\n",
              "    <tr>\n",
              "      <th>...</th>\n",
              "      <td>...</td>\n",
              "      <td>...</td>\n",
              "      <td>...</td>\n",
              "      <td>...</td>\n",
              "      <td>...</td>\n",
              "      <td>...</td>\n",
              "      <td>...</td>\n",
              "      <td>...</td>\n",
              "      <td>...</td>\n",
              "      <td>...</td>\n",
              "      <td>...</td>\n",
              "      <td>...</td>\n",
              "      <td>...</td>\n",
              "      <td>...</td>\n",
              "      <td>...</td>\n",
              "      <td>...</td>\n",
              "      <td>...</td>\n",
              "      <td>...</td>\n",
              "      <td>...</td>\n",
              "      <td>...</td>\n",
              "    </tr>\n",
              "    <tr>\n",
              "      <th>64</th>\n",
              "      <td>NaN</td>\n",
              "      <td>64</td>\n",
              "      <td>19I432</td>\n",
              "      <td>GOPIKUMAR S</td>\n",
              "      <td>Not Opted</td>\n",
              "      <td>NaN</td>\n",
              "      <td>NaN</td>\n",
              "      <td>NaN</td>\n",
              "      <td>NaN</td>\n",
              "      <td>NaN</td>\n",
              "      <td>NaN</td>\n",
              "      <td>NaN</td>\n",
              "      <td>NaN</td>\n",
              "      <td>NaN</td>\n",
              "      <td>NaN</td>\n",
              "      <td>NaN</td>\n",
              "      <td>NaN</td>\n",
              "      <td>NaN</td>\n",
              "      <td>NaN</td>\n",
              "      <td>NaN</td>\n",
              "    </tr>\n",
              "    <tr>\n",
              "      <th>65</th>\n",
              "      <td>NaN</td>\n",
              "      <td>65</td>\n",
              "      <td>19I433</td>\n",
              "      <td>NAVEEN G</td>\n",
              "      <td>9.23</td>\n",
              "      <td>Microsoft</td>\n",
              "      <td>NaN</td>\n",
              "      <td>9/13/2021</td>\n",
              "      <td>12,08,800</td>\n",
              "      <td>NIL</td>\n",
              "      <td>NIL</td>\n",
              "      <td>NIL</td>\n",
              "      <td>NIL</td>\n",
              "      <td>NIL</td>\n",
              "      <td>NaN</td>\n",
              "      <td>NIL</td>\n",
              "      <td>NaN</td>\n",
              "      <td>NaN</td>\n",
              "      <td>NaN</td>\n",
              "      <td>NaN</td>\n",
              "    </tr>\n",
              "    <tr>\n",
              "      <th>66</th>\n",
              "      <td>NaN</td>\n",
              "      <td>66</td>\n",
              "      <td>19I434</td>\n",
              "      <td>RISHIKA M</td>\n",
              "      <td>8.62</td>\n",
              "      <td>Wipro</td>\n",
              "      <td>NaN</td>\n",
              "      <td>9/21/2021</td>\n",
              "      <td>6,50,000</td>\n",
              "      <td>NaN</td>\n",
              "      <td>NaN</td>\n",
              "      <td>NaN</td>\n",
              "      <td>NaN</td>\n",
              "      <td>NaN</td>\n",
              "      <td>NaN</td>\n",
              "      <td>https://drive.google.com/file/d/16R3BulO5iaiZI...</td>\n",
              "      <td>NaN</td>\n",
              "      <td>NaN</td>\n",
              "      <td>NaN</td>\n",
              "      <td>NaN</td>\n",
              "    </tr>\n",
              "    <tr>\n",
              "      <th>67</th>\n",
              "      <td>NaN</td>\n",
              "      <td>67</td>\n",
              "      <td>19I435</td>\n",
              "      <td>ARUN KUMAR S</td>\n",
              "      <td>7.31</td>\n",
              "      <td>bosch</td>\n",
              "      <td>NaN</td>\n",
              "      <td>11/2/2022</td>\n",
              "      <td>5,00,000</td>\n",
              "      <td>NaN</td>\n",
              "      <td>NaN</td>\n",
              "      <td>NaN</td>\n",
              "      <td>NaN</td>\n",
              "      <td>Nil</td>\n",
              "      <td>NaN</td>\n",
              "      <td>NaN</td>\n",
              "      <td>NaN</td>\n",
              "      <td>NaN</td>\n",
              "      <td>NaN</td>\n",
              "      <td>NaN</td>\n",
              "    </tr>\n",
              "    <tr>\n",
              "      <th>68</th>\n",
              "      <td>NaN</td>\n",
              "      <td>68</td>\n",
              "      <td>19I436</td>\n",
              "      <td>VIJAYAN C</td>\n",
              "      <td>7.66</td>\n",
              "      <td>Wipro</td>\n",
              "      <td>NaN</td>\n",
              "      <td>9/21/2021</td>\n",
              "      <td>6,50,000</td>\n",
              "      <td>NaN</td>\n",
              "      <td>NaN</td>\n",
              "      <td>NaN</td>\n",
              "      <td>NaN</td>\n",
              "      <td>NaN</td>\n",
              "      <td>NaN</td>\n",
              "      <td>NaN</td>\n",
              "      <td>https://drive.google.com/file/d/1EE8Jq-hCURHcE...</td>\n",
              "      <td>NaN</td>\n",
              "      <td>NaN</td>\n",
              "      <td>NaN</td>\n",
              "    </tr>\n",
              "  </tbody>\n",
              "</table>\n",
              "<p>69 rows × 20 columns</p>\n",
              "</div>"
            ],
            "text/plain": [
              "    Unnamed: 0  \\\n",
              "0          NaN   \n",
              "1          NaN   \n",
              "2          NaN   \n",
              "3          NaN   \n",
              "4          NaN   \n",
              "..         ...   \n",
              "64         NaN   \n",
              "65         NaN   \n",
              "66         NaN   \n",
              "67         NaN   \n",
              "68         NaN   \n",
              "\n",
              "   III BTECH IT G1 [2018-2022 Batch] - PLACEMENT AND INTENSHIP DETAILS -   \\\n",
              "0                                                S.NO                       \n",
              "1                                                   1                       \n",
              "2                                                   2                       \n",
              "3                                                   3                       \n",
              "4                                                   4                       \n",
              "..                                                ...                       \n",
              "64                                                 64                       \n",
              "65                                                 65                       \n",
              "66                                                 66                       \n",
              "67                                                 67                       \n",
              "68                                                 68                       \n",
              "\n",
              "     Unnamed: 2          Unnamed: 3 Unnamed: 4              Unnamed: 5  \\\n",
              "0   Roll Number                Name       CGPA            Company Name   \n",
              "1        17I226       NANTHAGOPAN N       8.74                 Verizon   \n",
              "2        18I201         ABINAYA M P       8.91             Caterpillar   \n",
              "3        18I202         ABIRAMI A P       8.17         Ericsson Global   \n",
              "4        18I203  ADITHYA HARISH S M       9.53    Fidelity Investments   \n",
              "..          ...                 ...        ...                     ...   \n",
              "64       19I432         GOPIKUMAR S  Not Opted                     NaN   \n",
              "65       19I433            NAVEEN G       9.23               Microsoft   \n",
              "66       19I434           RISHIKA M       8.62                   Wipro   \n",
              "67       19I435        ARUN KUMAR S       7.31                   bosch   \n",
              "68       19I436           VIJAYAN C       7.66                   Wipro   \n",
              "\n",
              "                                           Unnamed: 6           Unnamed: 7  \\\n",
              "0                      Location with complete details  Month & Year Placed   \n",
              "1   8th Floor, Citius Block- B, Olympia Technology...              09-2021   \n",
              "2                                                 NaN              08-2021   \n",
              "3   Ericsson India Global Services Private Limited...              09-2021   \n",
              "4   Manyata tech park, Outer ring road, Nagavara,....              07-2021   \n",
              "..                                                ...                  ...   \n",
              "64                                                NaN                  NaN   \n",
              "65                                                NaN            9/13/2021   \n",
              "66                                                NaN            9/21/2021   \n",
              "67                                                NaN            11/2/2022   \n",
              "68                                                NaN            9/21/2021   \n",
              "\n",
              "                    Unnamed: 8        Unnamed: 9        Unnamed: 10  \\\n",
              "0                Package (FTE)  Package (Intern)  Internship Period   \n",
              "1                     9,66,500      28,000/month         4.5 months   \n",
              "2                    10,35,851               NaN           6 months   \n",
              "3                    11,50,000      30,000/month           5 months   \n",
              "4                    12,93,000     35,000/ month           5 months   \n",
              "..                         ...               ...                ...   \n",
              "64                         NaN               NaN                NaN   \n",
              "65                   12,08,800               NIL                NIL   \n",
              "66                    6,50,000               NaN                NaN   \n",
              "67                    5,00,000               NaN                NaN   \n",
              "68                    6,50,000               NaN                NaN   \n",
              "\n",
              "                        Unnamed: 11          Unnamed: 12  \\\n",
              "0   Intern Offer Letter Received On  Intern Joining Date   \n",
              "1                        3-Feb-2022          14-Feb-2022   \n",
              "2                       17-Dec-2021          03-Jan-2022   \n",
              "3                       10-Jan-2022          17-Jan-2022   \n",
              "4                       27 Nov 2021          24 Jan 2022   \n",
              "..                              ...                  ...   \n",
              "64                              NaN                  NaN   \n",
              "65                              NIL                  NIL   \n",
              "66                              NaN                  NaN   \n",
              "67                              NaN                  NaN   \n",
              "68                              NaN                  NaN   \n",
              "\n",
              "                     Unnamed: 13       Unnamed: 14  \\\n",
              "0   Job Offer Letter Received On  FTE Joining Date   \n",
              "1                    27 May 2022      18-July-2022   \n",
              "2                            NaN               NaN   \n",
              "3                            NaN       16-Jan-2022   \n",
              "4                    07 Dec 2021               NaN   \n",
              "..                           ...               ...   \n",
              "64                           NaN               NaN   \n",
              "65                           NIL               NaN   \n",
              "66                           NaN               NaN   \n",
              "67                           Nil               NaN   \n",
              "68                           NaN               NaN   \n",
              "\n",
              "                                          Unnamed: 15  \\\n",
              "0                      Upload Internship Offer Letter   \n",
              "1   https://drive.google.com/file/d/1YCD0YPj_xKJ2C...   \n",
              "2   https://drive.google.com/file/d/1nSKvi1_rcHMkX...   \n",
              "3   https://drive.google.com/file/d/1o2GzaBi0anD19...   \n",
              "4   https://drive.google.com/file/d/1h34ribpdcE3e5...   \n",
              "..                                                ...   \n",
              "64                                                NaN   \n",
              "65                                                NIL   \n",
              "66  https://drive.google.com/file/d/16R3BulO5iaiZI...   \n",
              "67                                                NaN   \n",
              "68                                                NaN   \n",
              "\n",
              "                                          Unnamed: 16           Unnamed: 17  \\\n",
              "0                       Upload Full Time Offer Letter  Higher Studies (Y/N)   \n",
              "1   https://drive.google.com/file/d/1moVzC4oU1LOEU...                     N   \n",
              "2   https://drive.google.com/file/d/1Ah9otLvipxt32...                   NaN   \n",
              "3                                                 nil                     N   \n",
              "4   https://drive.google.com/file/d/1bUzOCoYulInbg...                     N   \n",
              "..                                                ...                   ...   \n",
              "64                                                NaN                   NaN   \n",
              "65                                                NaN                   NaN   \n",
              "66                                                NaN                   NaN   \n",
              "67                                                NaN                   NaN   \n",
              "68  https://drive.google.com/file/d/1EE8Jq-hCURHcE...                   NaN   \n",
              "\n",
              "                                          Unnamed: 18  \\\n",
              "0   EXAMS Preparing for (GATE/IELTS/ TOEFL/GRE/MAT...   \n",
              "1                                                   N   \n",
              "2                                                 NaN   \n",
              "3                                                   N   \n",
              "4                                                   N   \n",
              "..                                                ...   \n",
              "64                                                NaN   \n",
              "65                                                NaN   \n",
              "66                                                NaN   \n",
              "67                                                NaN   \n",
              "68                                                NaN   \n",
              "\n",
              "                              Unnamed: 19  \n",
              "0   Higher Studies - College / University  \n",
              "1                                       N  \n",
              "2                                     NaN  \n",
              "3                                       N  \n",
              "4                                       N  \n",
              "..                                    ...  \n",
              "64                                    NaN  \n",
              "65                                    NaN  \n",
              "66                                    NaN  \n",
              "67                                    NaN  \n",
              "68                                    NaN  \n",
              "\n",
              "[69 rows x 20 columns]"
            ]
          },
          "execution_count": 190,
          "metadata": {},
          "output_type": "execute_result"
        }
      ],
      "source": [
        "data"
      ]
    },
    {
      "cell_type": "markdown",
      "metadata": {
        "id": "zcd3xF6bn2TT"
      },
      "source": [
        "# Data Cleaning"
      ]
    },
    {
      "cell_type": "code",
      "execution_count": 191,
      "metadata": {
        "colab": {
          "base_uri": "https://localhost:8080/",
          "height": 817
        },
        "id": "CPu-FAh8YBPa",
        "outputId": "3a831aca-9651-459b-e5f5-0a8857f3ebea"
      },
      "outputs": [
        {
          "data": {
            "text/html": [
              "<div>\n",
              "<style scoped>\n",
              "    .dataframe tbody tr th:only-of-type {\n",
              "        vertical-align: middle;\n",
              "    }\n",
              "\n",
              "    .dataframe tbody tr th {\n",
              "        vertical-align: top;\n",
              "    }\n",
              "\n",
              "    .dataframe thead th {\n",
              "        text-align: right;\n",
              "    }\n",
              "</style>\n",
              "<table border=\"1\" class=\"dataframe\">\n",
              "  <thead>\n",
              "    <tr style=\"text-align: right;\">\n",
              "      <th></th>\n",
              "      <th>NaN</th>\n",
              "      <th>S.NO</th>\n",
              "      <th>Roll Number</th>\n",
              "      <th>Name</th>\n",
              "      <th>CGPA</th>\n",
              "      <th>Company Name</th>\n",
              "      <th>Location with complete details</th>\n",
              "      <th>Month &amp; Year Placed</th>\n",
              "      <th>Package (FTE)</th>\n",
              "      <th>Package (Intern)</th>\n",
              "      <th>Internship Period</th>\n",
              "      <th>Intern Offer Letter Received On</th>\n",
              "      <th>Intern Joining Date</th>\n",
              "      <th>Job Offer Letter Received On</th>\n",
              "      <th>FTE Joining Date</th>\n",
              "      <th>Upload Internship Offer Letter</th>\n",
              "      <th>Upload Full Time Offer Letter</th>\n",
              "      <th>Higher Studies (Y/N)</th>\n",
              "      <th>EXAMS Preparing for (GATE/IELTS/ TOEFL/GRE/MAT/CAT/XAT)</th>\n",
              "      <th>Higher Studies - College / University</th>\n",
              "    </tr>\n",
              "  </thead>\n",
              "  <tbody>\n",
              "    <tr>\n",
              "      <th>1</th>\n",
              "      <td>NaN</td>\n",
              "      <td>1</td>\n",
              "      <td>17I226</td>\n",
              "      <td>NANTHAGOPAN N</td>\n",
              "      <td>8.74</td>\n",
              "      <td>Verizon</td>\n",
              "      <td>8th Floor, Citius Block- B, Olympia Technology...</td>\n",
              "      <td>09-2021</td>\n",
              "      <td>9,66,500</td>\n",
              "      <td>28,000/month</td>\n",
              "      <td>4.5 months</td>\n",
              "      <td>3-Feb-2022</td>\n",
              "      <td>14-Feb-2022</td>\n",
              "      <td>27 May 2022</td>\n",
              "      <td>18-July-2022</td>\n",
              "      <td>https://drive.google.com/file/d/1YCD0YPj_xKJ2C...</td>\n",
              "      <td>https://drive.google.com/file/d/1moVzC4oU1LOEU...</td>\n",
              "      <td>N</td>\n",
              "      <td>N</td>\n",
              "      <td>N</td>\n",
              "    </tr>\n",
              "    <tr>\n",
              "      <th>2</th>\n",
              "      <td>NaN</td>\n",
              "      <td>2</td>\n",
              "      <td>18I201</td>\n",
              "      <td>ABINAYA M P</td>\n",
              "      <td>8.91</td>\n",
              "      <td>Caterpillar</td>\n",
              "      <td>NaN</td>\n",
              "      <td>08-2021</td>\n",
              "      <td>10,35,851</td>\n",
              "      <td>NaN</td>\n",
              "      <td>6 months</td>\n",
              "      <td>17-Dec-2021</td>\n",
              "      <td>03-Jan-2022</td>\n",
              "      <td>NaN</td>\n",
              "      <td>NaN</td>\n",
              "      <td>https://drive.google.com/file/d/1nSKvi1_rcHMkX...</td>\n",
              "      <td>https://drive.google.com/file/d/1Ah9otLvipxt32...</td>\n",
              "      <td>NaN</td>\n",
              "      <td>NaN</td>\n",
              "      <td>NaN</td>\n",
              "    </tr>\n",
              "    <tr>\n",
              "      <th>3</th>\n",
              "      <td>NaN</td>\n",
              "      <td>3</td>\n",
              "      <td>18I202</td>\n",
              "      <td>ABIRAMI A P</td>\n",
              "      <td>8.17</td>\n",
              "      <td>Ericsson Global</td>\n",
              "      <td>Ericsson India Global Services Private Limited...</td>\n",
              "      <td>09-2021</td>\n",
              "      <td>11,50,000</td>\n",
              "      <td>30,000/month</td>\n",
              "      <td>5 months</td>\n",
              "      <td>10-Jan-2022</td>\n",
              "      <td>17-Jan-2022</td>\n",
              "      <td>NaN</td>\n",
              "      <td>16-Jan-2022</td>\n",
              "      <td>https://drive.google.com/file/d/1o2GzaBi0anD19...</td>\n",
              "      <td>nil</td>\n",
              "      <td>N</td>\n",
              "      <td>N</td>\n",
              "      <td>N</td>\n",
              "    </tr>\n",
              "    <tr>\n",
              "      <th>4</th>\n",
              "      <td>NaN</td>\n",
              "      <td>4</td>\n",
              "      <td>18I203</td>\n",
              "      <td>ADITHYA HARISH S M</td>\n",
              "      <td>9.53</td>\n",
              "      <td>Fidelity Investments</td>\n",
              "      <td>Manyata tech park, Outer ring road, Nagavara,....</td>\n",
              "      <td>07-2021</td>\n",
              "      <td>12,93,000</td>\n",
              "      <td>35,000/ month</td>\n",
              "      <td>5 months</td>\n",
              "      <td>27 Nov 2021</td>\n",
              "      <td>24 Jan 2022</td>\n",
              "      <td>07 Dec 2021</td>\n",
              "      <td>NaN</td>\n",
              "      <td>https://drive.google.com/file/d/1h34ribpdcE3e5...</td>\n",
              "      <td>https://drive.google.com/file/d/1bUzOCoYulInbg...</td>\n",
              "      <td>N</td>\n",
              "      <td>N</td>\n",
              "      <td>N</td>\n",
              "    </tr>\n",
              "    <tr>\n",
              "      <th>5</th>\n",
              "      <td>NaN</td>\n",
              "      <td>5</td>\n",
              "      <td>18I204</td>\n",
              "      <td>AISHVARYA G</td>\n",
              "      <td>7.55</td>\n",
              "      <td>Dell technologies</td>\n",
              "      <td>NaN</td>\n",
              "      <td>11-2021</td>\n",
              "      <td>8,00,000</td>\n",
              "      <td>NaN</td>\n",
              "      <td>NaN</td>\n",
              "      <td>NaN</td>\n",
              "      <td>NaN</td>\n",
              "      <td>11-Jan-2022</td>\n",
              "      <td>NaN</td>\n",
              "      <td>NaN</td>\n",
              "      <td>https://drive.google.com/file/d/1OfLjv8WrbU57u...</td>\n",
              "      <td>NaN</td>\n",
              "      <td>NaN</td>\n",
              "      <td>NaN</td>\n",
              "    </tr>\n",
              "    <tr>\n",
              "      <th>...</th>\n",
              "      <td>...</td>\n",
              "      <td>...</td>\n",
              "      <td>...</td>\n",
              "      <td>...</td>\n",
              "      <td>...</td>\n",
              "      <td>...</td>\n",
              "      <td>...</td>\n",
              "      <td>...</td>\n",
              "      <td>...</td>\n",
              "      <td>...</td>\n",
              "      <td>...</td>\n",
              "      <td>...</td>\n",
              "      <td>...</td>\n",
              "      <td>...</td>\n",
              "      <td>...</td>\n",
              "      <td>...</td>\n",
              "      <td>...</td>\n",
              "      <td>...</td>\n",
              "      <td>...</td>\n",
              "      <td>...</td>\n",
              "    </tr>\n",
              "    <tr>\n",
              "      <th>64</th>\n",
              "      <td>NaN</td>\n",
              "      <td>64</td>\n",
              "      <td>19I432</td>\n",
              "      <td>GOPIKUMAR S</td>\n",
              "      <td>Not Opted</td>\n",
              "      <td>NaN</td>\n",
              "      <td>NaN</td>\n",
              "      <td>NaN</td>\n",
              "      <td>NaN</td>\n",
              "      <td>NaN</td>\n",
              "      <td>NaN</td>\n",
              "      <td>NaN</td>\n",
              "      <td>NaN</td>\n",
              "      <td>NaN</td>\n",
              "      <td>NaN</td>\n",
              "      <td>NaN</td>\n",
              "      <td>NaN</td>\n",
              "      <td>NaN</td>\n",
              "      <td>NaN</td>\n",
              "      <td>NaN</td>\n",
              "    </tr>\n",
              "    <tr>\n",
              "      <th>65</th>\n",
              "      <td>NaN</td>\n",
              "      <td>65</td>\n",
              "      <td>19I433</td>\n",
              "      <td>NAVEEN G</td>\n",
              "      <td>9.23</td>\n",
              "      <td>Microsoft</td>\n",
              "      <td>NaN</td>\n",
              "      <td>9/13/2021</td>\n",
              "      <td>12,08,800</td>\n",
              "      <td>NIL</td>\n",
              "      <td>NIL</td>\n",
              "      <td>NIL</td>\n",
              "      <td>NIL</td>\n",
              "      <td>NIL</td>\n",
              "      <td>NaN</td>\n",
              "      <td>NIL</td>\n",
              "      <td>NaN</td>\n",
              "      <td>NaN</td>\n",
              "      <td>NaN</td>\n",
              "      <td>NaN</td>\n",
              "    </tr>\n",
              "    <tr>\n",
              "      <th>66</th>\n",
              "      <td>NaN</td>\n",
              "      <td>66</td>\n",
              "      <td>19I434</td>\n",
              "      <td>RISHIKA M</td>\n",
              "      <td>8.62</td>\n",
              "      <td>Wipro</td>\n",
              "      <td>NaN</td>\n",
              "      <td>9/21/2021</td>\n",
              "      <td>6,50,000</td>\n",
              "      <td>NaN</td>\n",
              "      <td>NaN</td>\n",
              "      <td>NaN</td>\n",
              "      <td>NaN</td>\n",
              "      <td>NaN</td>\n",
              "      <td>NaN</td>\n",
              "      <td>https://drive.google.com/file/d/16R3BulO5iaiZI...</td>\n",
              "      <td>NaN</td>\n",
              "      <td>NaN</td>\n",
              "      <td>NaN</td>\n",
              "      <td>NaN</td>\n",
              "    </tr>\n",
              "    <tr>\n",
              "      <th>67</th>\n",
              "      <td>NaN</td>\n",
              "      <td>67</td>\n",
              "      <td>19I435</td>\n",
              "      <td>ARUN KUMAR S</td>\n",
              "      <td>7.31</td>\n",
              "      <td>bosch</td>\n",
              "      <td>NaN</td>\n",
              "      <td>11/2/2022</td>\n",
              "      <td>5,00,000</td>\n",
              "      <td>NaN</td>\n",
              "      <td>NaN</td>\n",
              "      <td>NaN</td>\n",
              "      <td>NaN</td>\n",
              "      <td>Nil</td>\n",
              "      <td>NaN</td>\n",
              "      <td>NaN</td>\n",
              "      <td>NaN</td>\n",
              "      <td>NaN</td>\n",
              "      <td>NaN</td>\n",
              "      <td>NaN</td>\n",
              "    </tr>\n",
              "    <tr>\n",
              "      <th>68</th>\n",
              "      <td>NaN</td>\n",
              "      <td>68</td>\n",
              "      <td>19I436</td>\n",
              "      <td>VIJAYAN C</td>\n",
              "      <td>7.66</td>\n",
              "      <td>Wipro</td>\n",
              "      <td>NaN</td>\n",
              "      <td>9/21/2021</td>\n",
              "      <td>6,50,000</td>\n",
              "      <td>NaN</td>\n",
              "      <td>NaN</td>\n",
              "      <td>NaN</td>\n",
              "      <td>NaN</td>\n",
              "      <td>NaN</td>\n",
              "      <td>NaN</td>\n",
              "      <td>NaN</td>\n",
              "      <td>https://drive.google.com/file/d/1EE8Jq-hCURHcE...</td>\n",
              "      <td>NaN</td>\n",
              "      <td>NaN</td>\n",
              "      <td>NaN</td>\n",
              "    </tr>\n",
              "  </tbody>\n",
              "</table>\n",
              "<p>68 rows × 20 columns</p>\n",
              "</div>"
            ],
            "text/plain": [
              "0   NaN S.NO Roll Number                Name       CGPA  \\\n",
              "1   NaN    1      17I226       NANTHAGOPAN N       8.74   \n",
              "2   NaN    2      18I201         ABINAYA M P       8.91   \n",
              "3   NaN    3      18I202         ABIRAMI A P       8.17   \n",
              "4   NaN    4      18I203  ADITHYA HARISH S M       9.53   \n",
              "5   NaN    5      18I204         AISHVARYA G       7.55   \n",
              "..  ...  ...         ...                 ...        ...   \n",
              "64  NaN   64      19I432         GOPIKUMAR S  Not Opted   \n",
              "65  NaN   65      19I433            NAVEEN G       9.23   \n",
              "66  NaN   66      19I434           RISHIKA M       8.62   \n",
              "67  NaN   67      19I435        ARUN KUMAR S       7.31   \n",
              "68  NaN   68      19I436           VIJAYAN C       7.66   \n",
              "\n",
              "0             Company Name                     Location with complete details  \\\n",
              "1                  Verizon  8th Floor, Citius Block- B, Olympia Technology...   \n",
              "2              Caterpillar                                                NaN   \n",
              "3          Ericsson Global  Ericsson India Global Services Private Limited...   \n",
              "4     Fidelity Investments  Manyata tech park, Outer ring road, Nagavara,....   \n",
              "5        Dell technologies                                                NaN   \n",
              "..                     ...                                                ...   \n",
              "64                     NaN                                                NaN   \n",
              "65               Microsoft                                                NaN   \n",
              "66                   Wipro                                                NaN   \n",
              "67                   bosch                                                NaN   \n",
              "68                   Wipro                                                NaN   \n",
              "\n",
              "0  Month & Year Placed               Package (FTE) Package (Intern)  \\\n",
              "1              09-2021                    9,66,500     28,000/month   \n",
              "2              08-2021                   10,35,851              NaN   \n",
              "3              09-2021                   11,50,000     30,000/month   \n",
              "4              07-2021                   12,93,000    35,000/ month   \n",
              "5              11-2021                    8,00,000              NaN   \n",
              "..                 ...                         ...              ...   \n",
              "64                 NaN                         NaN              NaN   \n",
              "65           9/13/2021                   12,08,800              NIL   \n",
              "66           9/21/2021                    6,50,000              NaN   \n",
              "67           11/2/2022                    5,00,000              NaN   \n",
              "68           9/21/2021                    6,50,000              NaN   \n",
              "\n",
              "0  Internship Period Intern Offer Letter Received On Intern Joining Date  \\\n",
              "1         4.5 months                      3-Feb-2022         14-Feb-2022   \n",
              "2           6 months                     17-Dec-2021         03-Jan-2022   \n",
              "3           5 months                     10-Jan-2022         17-Jan-2022   \n",
              "4           5 months                     27 Nov 2021         24 Jan 2022   \n",
              "5                NaN                             NaN                 NaN   \n",
              "..               ...                             ...                 ...   \n",
              "64               NaN                             NaN                 NaN   \n",
              "65               NIL                             NIL                 NIL   \n",
              "66               NaN                             NaN                 NaN   \n",
              "67               NaN                             NaN                 NaN   \n",
              "68               NaN                             NaN                 NaN   \n",
              "\n",
              "0  Job Offer Letter Received On FTE Joining Date  \\\n",
              "1                   27 May 2022     18-July-2022   \n",
              "2                           NaN              NaN   \n",
              "3                           NaN      16-Jan-2022   \n",
              "4                   07 Dec 2021              NaN   \n",
              "5                   11-Jan-2022              NaN   \n",
              "..                          ...              ...   \n",
              "64                          NaN              NaN   \n",
              "65                          NIL              NaN   \n",
              "66                          NaN              NaN   \n",
              "67                          Nil              NaN   \n",
              "68                          NaN              NaN   \n",
              "\n",
              "0                      Upload Internship Offer Letter  \\\n",
              "1   https://drive.google.com/file/d/1YCD0YPj_xKJ2C...   \n",
              "2   https://drive.google.com/file/d/1nSKvi1_rcHMkX...   \n",
              "3   https://drive.google.com/file/d/1o2GzaBi0anD19...   \n",
              "4   https://drive.google.com/file/d/1h34ribpdcE3e5...   \n",
              "5                                                 NaN   \n",
              "..                                                ...   \n",
              "64                                                NaN   \n",
              "65                                                NIL   \n",
              "66  https://drive.google.com/file/d/16R3BulO5iaiZI...   \n",
              "67                                                NaN   \n",
              "68                                                NaN   \n",
              "\n",
              "0                       Upload Full Time Offer Letter Higher Studies (Y/N)  \\\n",
              "1   https://drive.google.com/file/d/1moVzC4oU1LOEU...                    N   \n",
              "2   https://drive.google.com/file/d/1Ah9otLvipxt32...                  NaN   \n",
              "3                                                 nil                    N   \n",
              "4   https://drive.google.com/file/d/1bUzOCoYulInbg...                    N   \n",
              "5   https://drive.google.com/file/d/1OfLjv8WrbU57u...                  NaN   \n",
              "..                                                ...                  ...   \n",
              "64                                                NaN                  NaN   \n",
              "65                                                NaN                  NaN   \n",
              "66                                                NaN                  NaN   \n",
              "67                                                NaN                  NaN   \n",
              "68  https://drive.google.com/file/d/1EE8Jq-hCURHcE...                  NaN   \n",
              "\n",
              "0  EXAMS Preparing for (GATE/IELTS/ TOEFL/GRE/MAT/CAT/XAT)  \\\n",
              "1                                                   N        \n",
              "2                                                 NaN        \n",
              "3                                                   N        \n",
              "4                                                   N        \n",
              "5                                                 NaN        \n",
              "..                                                ...        \n",
              "64                                                NaN        \n",
              "65                                                NaN        \n",
              "66                                                NaN        \n",
              "67                                                NaN        \n",
              "68                                                NaN        \n",
              "\n",
              "0  Higher Studies - College / University  \n",
              "1                                      N  \n",
              "2                                    NaN  \n",
              "3                                      N  \n",
              "4                                      N  \n",
              "5                                    NaN  \n",
              "..                                   ...  \n",
              "64                                   NaN  \n",
              "65                                   NaN  \n",
              "66                                   NaN  \n",
              "67                                   NaN  \n",
              "68                                   NaN  \n",
              "\n",
              "[68 rows x 20 columns]"
            ]
          },
          "execution_count": 191,
          "metadata": {},
          "output_type": "execute_result"
        }
      ],
      "source": [
        "data.columns = data.iloc[0]\n",
        "data.drop(0)"
      ]
    },
    {
      "cell_type": "code",
      "execution_count": 192,
      "metadata": {
        "colab": {
          "base_uri": "https://localhost:8080/",
          "height": 467
        },
        "id": "3WrPpprKZEdj",
        "outputId": "0bfd1a76-e6ec-4997-e365-28c7ce4caabd"
      },
      "outputs": [
        {
          "data": {
            "text/html": [
              "<div>\n",
              "<style scoped>\n",
              "    .dataframe tbody tr th:only-of-type {\n",
              "        vertical-align: middle;\n",
              "    }\n",
              "\n",
              "    .dataframe tbody tr th {\n",
              "        vertical-align: top;\n",
              "    }\n",
              "\n",
              "    .dataframe thead th {\n",
              "        text-align: right;\n",
              "    }\n",
              "</style>\n",
              "<table border=\"1\" class=\"dataframe\">\n",
              "  <thead>\n",
              "    <tr style=\"text-align: right;\">\n",
              "      <th></th>\n",
              "      <th>Roll Number</th>\n",
              "      <th>Name</th>\n",
              "      <th>CGPA</th>\n",
              "      <th>Company Name</th>\n",
              "      <th>Package (FTE)</th>\n",
              "      <th>Package (Intern)</th>\n",
              "      <th>Intern Joining Date</th>\n",
              "      <th>FTE Joining Date</th>\n",
              "    </tr>\n",
              "  </thead>\n",
              "  <tbody>\n",
              "    <tr>\n",
              "      <th>0</th>\n",
              "      <td>Roll Number</td>\n",
              "      <td>Name</td>\n",
              "      <td>CGPA</td>\n",
              "      <td>Company Name</td>\n",
              "      <td>Package (FTE)</td>\n",
              "      <td>Package (Intern)</td>\n",
              "      <td>Intern Joining Date</td>\n",
              "      <td>FTE Joining Date</td>\n",
              "    </tr>\n",
              "    <tr>\n",
              "      <th>1</th>\n",
              "      <td>17I226</td>\n",
              "      <td>NANTHAGOPAN N</td>\n",
              "      <td>8.74</td>\n",
              "      <td>Verizon</td>\n",
              "      <td>9,66,500</td>\n",
              "      <td>28,000/month</td>\n",
              "      <td>14-Feb-2022</td>\n",
              "      <td>18-July-2022</td>\n",
              "    </tr>\n",
              "    <tr>\n",
              "      <th>2</th>\n",
              "      <td>18I201</td>\n",
              "      <td>ABINAYA M P</td>\n",
              "      <td>8.91</td>\n",
              "      <td>Caterpillar</td>\n",
              "      <td>10,35,851</td>\n",
              "      <td>NaN</td>\n",
              "      <td>03-Jan-2022</td>\n",
              "      <td>NaN</td>\n",
              "    </tr>\n",
              "    <tr>\n",
              "      <th>3</th>\n",
              "      <td>18I202</td>\n",
              "      <td>ABIRAMI A P</td>\n",
              "      <td>8.17</td>\n",
              "      <td>Ericsson Global</td>\n",
              "      <td>11,50,000</td>\n",
              "      <td>30,000/month</td>\n",
              "      <td>17-Jan-2022</td>\n",
              "      <td>16-Jan-2022</td>\n",
              "    </tr>\n",
              "    <tr>\n",
              "      <th>4</th>\n",
              "      <td>18I203</td>\n",
              "      <td>ADITHYA HARISH S M</td>\n",
              "      <td>9.53</td>\n",
              "      <td>Fidelity Investments</td>\n",
              "      <td>12,93,000</td>\n",
              "      <td>35,000/ month</td>\n",
              "      <td>24 Jan 2022</td>\n",
              "      <td>NaN</td>\n",
              "    </tr>\n",
              "    <tr>\n",
              "      <th>...</th>\n",
              "      <td>...</td>\n",
              "      <td>...</td>\n",
              "      <td>...</td>\n",
              "      <td>...</td>\n",
              "      <td>...</td>\n",
              "      <td>...</td>\n",
              "      <td>...</td>\n",
              "      <td>...</td>\n",
              "    </tr>\n",
              "    <tr>\n",
              "      <th>64</th>\n",
              "      <td>19I432</td>\n",
              "      <td>GOPIKUMAR S</td>\n",
              "      <td>Not Opted</td>\n",
              "      <td>NaN</td>\n",
              "      <td>NaN</td>\n",
              "      <td>NaN</td>\n",
              "      <td>NaN</td>\n",
              "      <td>NaN</td>\n",
              "    </tr>\n",
              "    <tr>\n",
              "      <th>65</th>\n",
              "      <td>19I433</td>\n",
              "      <td>NAVEEN G</td>\n",
              "      <td>9.23</td>\n",
              "      <td>Microsoft</td>\n",
              "      <td>12,08,800</td>\n",
              "      <td>NIL</td>\n",
              "      <td>NIL</td>\n",
              "      <td>NaN</td>\n",
              "    </tr>\n",
              "    <tr>\n",
              "      <th>66</th>\n",
              "      <td>19I434</td>\n",
              "      <td>RISHIKA M</td>\n",
              "      <td>8.62</td>\n",
              "      <td>Wipro</td>\n",
              "      <td>6,50,000</td>\n",
              "      <td>NaN</td>\n",
              "      <td>NaN</td>\n",
              "      <td>NaN</td>\n",
              "    </tr>\n",
              "    <tr>\n",
              "      <th>67</th>\n",
              "      <td>19I435</td>\n",
              "      <td>ARUN KUMAR S</td>\n",
              "      <td>7.31</td>\n",
              "      <td>bosch</td>\n",
              "      <td>5,00,000</td>\n",
              "      <td>NaN</td>\n",
              "      <td>NaN</td>\n",
              "      <td>NaN</td>\n",
              "    </tr>\n",
              "    <tr>\n",
              "      <th>68</th>\n",
              "      <td>19I436</td>\n",
              "      <td>VIJAYAN C</td>\n",
              "      <td>7.66</td>\n",
              "      <td>Wipro</td>\n",
              "      <td>6,50,000</td>\n",
              "      <td>NaN</td>\n",
              "      <td>NaN</td>\n",
              "      <td>NaN</td>\n",
              "    </tr>\n",
              "  </tbody>\n",
              "</table>\n",
              "<p>69 rows × 8 columns</p>\n",
              "</div>"
            ],
            "text/plain": [
              "0   Roll Number                Name       CGPA            Company Name  \\\n",
              "0   Roll Number                Name       CGPA            Company Name   \n",
              "1        17I226       NANTHAGOPAN N       8.74                 Verizon   \n",
              "2        18I201         ABINAYA M P       8.91             Caterpillar   \n",
              "3        18I202         ABIRAMI A P       8.17         Ericsson Global   \n",
              "4        18I203  ADITHYA HARISH S M       9.53    Fidelity Investments   \n",
              "..          ...                 ...        ...                     ...   \n",
              "64       19I432         GOPIKUMAR S  Not Opted                     NaN   \n",
              "65       19I433            NAVEEN G       9.23               Microsoft   \n",
              "66       19I434           RISHIKA M       8.62                   Wipro   \n",
              "67       19I435        ARUN KUMAR S       7.31                   bosch   \n",
              "68       19I436           VIJAYAN C       7.66                   Wipro   \n",
              "\n",
              "0                Package (FTE)  Package (Intern)  Intern Joining Date  \\\n",
              "0                Package (FTE)  Package (Intern)  Intern Joining Date   \n",
              "1                     9,66,500      28,000/month          14-Feb-2022   \n",
              "2                    10,35,851               NaN          03-Jan-2022   \n",
              "3                    11,50,000      30,000/month          17-Jan-2022   \n",
              "4                    12,93,000     35,000/ month          24 Jan 2022   \n",
              "..                         ...               ...                  ...   \n",
              "64                         NaN               NaN                  NaN   \n",
              "65                   12,08,800               NIL                  NIL   \n",
              "66                    6,50,000               NaN                  NaN   \n",
              "67                    5,00,000               NaN                  NaN   \n",
              "68                    6,50,000               NaN                  NaN   \n",
              "\n",
              "0   FTE Joining Date  \n",
              "0   FTE Joining Date  \n",
              "1       18-July-2022  \n",
              "2                NaN  \n",
              "3        16-Jan-2022  \n",
              "4                NaN  \n",
              "..               ...  \n",
              "64               NaN  \n",
              "65               NaN  \n",
              "66               NaN  \n",
              "67               NaN  \n",
              "68               NaN  \n",
              "\n",
              "[69 rows x 8 columns]"
            ]
          },
          "execution_count": 192,
          "metadata": {},
          "output_type": "execute_result"
        }
      ],
      "source": [
        "data = data.drop(['S.NO','Location with complete details', 'Month & Year Placed', 'Internship Period', 'Intern Offer Letter Received On', 'Job Offer Letter Received On', 'Upload Internship Offer Letter',\t'Upload Full Time Offer Letter',\t'Higher Studies (Y/N)',\t'EXAMS Preparing for (GATE/IELTS/ TOEFL/GRE/MAT/CAT/XAT)',\t'Higher Studies - College / University'], axis=1)\n",
        "data = data[data.columns[1:]]\n",
        "data"
      ]
    },
    {
      "cell_type": "code",
      "execution_count": 193,
      "metadata": {
        "colab": {
          "base_uri": "https://localhost:8080/",
          "height": 467
        },
        "id": "tQvxO5AOaf-b",
        "outputId": "4828c033-5e12-4bb5-f2aa-98ac55b0b3e5"
      },
      "outputs": [
        {
          "data": {
            "text/html": [
              "<div>\n",
              "<style scoped>\n",
              "    .dataframe tbody tr th:only-of-type {\n",
              "        vertical-align: middle;\n",
              "    }\n",
              "\n",
              "    .dataframe tbody tr th {\n",
              "        vertical-align: top;\n",
              "    }\n",
              "\n",
              "    .dataframe thead th {\n",
              "        text-align: right;\n",
              "    }\n",
              "</style>\n",
              "<table border=\"1\" class=\"dataframe\">\n",
              "  <thead>\n",
              "    <tr style=\"text-align: right;\">\n",
              "      <th></th>\n",
              "      <th>Roll Number</th>\n",
              "      <th>Name</th>\n",
              "      <th>CGPA</th>\n",
              "      <th>Company Name</th>\n",
              "      <th>Package (FTE)</th>\n",
              "      <th>Package (Intern)</th>\n",
              "      <th>Intern Joining Date</th>\n",
              "      <th>FTE Joining Date</th>\n",
              "    </tr>\n",
              "  </thead>\n",
              "  <tbody>\n",
              "    <tr>\n",
              "      <th>2</th>\n",
              "      <td>18I201</td>\n",
              "      <td>ABINAYA M P</td>\n",
              "      <td>8.91</td>\n",
              "      <td>Caterpillar</td>\n",
              "      <td>10,35,851</td>\n",
              "      <td>NaN</td>\n",
              "      <td>03-Jan-2022</td>\n",
              "      <td>NaN</td>\n",
              "    </tr>\n",
              "    <tr>\n",
              "      <th>3</th>\n",
              "      <td>18I202</td>\n",
              "      <td>ABIRAMI A P</td>\n",
              "      <td>8.17</td>\n",
              "      <td>Ericsson Global</td>\n",
              "      <td>11,50,000</td>\n",
              "      <td>30,000/month</td>\n",
              "      <td>17-Jan-2022</td>\n",
              "      <td>16-Jan-2022</td>\n",
              "    </tr>\n",
              "    <tr>\n",
              "      <th>4</th>\n",
              "      <td>18I203</td>\n",
              "      <td>ADITHYA HARISH S M</td>\n",
              "      <td>9.53</td>\n",
              "      <td>Fidelity Investments</td>\n",
              "      <td>12,93,000</td>\n",
              "      <td>35,000/ month</td>\n",
              "      <td>24 Jan 2022</td>\n",
              "      <td>NaN</td>\n",
              "    </tr>\n",
              "    <tr>\n",
              "      <th>5</th>\n",
              "      <td>18I204</td>\n",
              "      <td>AISHVARYA G</td>\n",
              "      <td>7.55</td>\n",
              "      <td>Dell technologies</td>\n",
              "      <td>8,00,000</td>\n",
              "      <td>NaN</td>\n",
              "      <td>NaN</td>\n",
              "      <td>NaN</td>\n",
              "    </tr>\n",
              "    <tr>\n",
              "      <th>6</th>\n",
              "      <td>18I205</td>\n",
              "      <td>AKSHAYA B</td>\n",
              "      <td>8.68</td>\n",
              "      <td>Deloitte India</td>\n",
              "      <td>7,60,000</td>\n",
              "      <td>NIL</td>\n",
              "      <td>15-Mar-2021</td>\n",
              "      <td>NaN</td>\n",
              "    </tr>\n",
              "    <tr>\n",
              "      <th>...</th>\n",
              "      <td>...</td>\n",
              "      <td>...</td>\n",
              "      <td>...</td>\n",
              "      <td>...</td>\n",
              "      <td>...</td>\n",
              "      <td>...</td>\n",
              "      <td>...</td>\n",
              "      <td>...</td>\n",
              "    </tr>\n",
              "    <tr>\n",
              "      <th>64</th>\n",
              "      <td>19I432</td>\n",
              "      <td>GOPIKUMAR S</td>\n",
              "      <td>Not Opted</td>\n",
              "      <td>NaN</td>\n",
              "      <td>NaN</td>\n",
              "      <td>NaN</td>\n",
              "      <td>NaN</td>\n",
              "      <td>NaN</td>\n",
              "    </tr>\n",
              "    <tr>\n",
              "      <th>65</th>\n",
              "      <td>19I433</td>\n",
              "      <td>NAVEEN G</td>\n",
              "      <td>9.23</td>\n",
              "      <td>Microsoft</td>\n",
              "      <td>12,08,800</td>\n",
              "      <td>NIL</td>\n",
              "      <td>NIL</td>\n",
              "      <td>NaN</td>\n",
              "    </tr>\n",
              "    <tr>\n",
              "      <th>66</th>\n",
              "      <td>19I434</td>\n",
              "      <td>RISHIKA M</td>\n",
              "      <td>8.62</td>\n",
              "      <td>Wipro</td>\n",
              "      <td>6,50,000</td>\n",
              "      <td>NaN</td>\n",
              "      <td>NaN</td>\n",
              "      <td>NaN</td>\n",
              "    </tr>\n",
              "    <tr>\n",
              "      <th>67</th>\n",
              "      <td>19I435</td>\n",
              "      <td>ARUN KUMAR S</td>\n",
              "      <td>7.31</td>\n",
              "      <td>bosch</td>\n",
              "      <td>5,00,000</td>\n",
              "      <td>NaN</td>\n",
              "      <td>NaN</td>\n",
              "      <td>NaN</td>\n",
              "    </tr>\n",
              "    <tr>\n",
              "      <th>68</th>\n",
              "      <td>19I436</td>\n",
              "      <td>VIJAYAN C</td>\n",
              "      <td>7.66</td>\n",
              "      <td>Wipro</td>\n",
              "      <td>6,50,000</td>\n",
              "      <td>NaN</td>\n",
              "      <td>NaN</td>\n",
              "      <td>NaN</td>\n",
              "    </tr>\n",
              "  </tbody>\n",
              "</table>\n",
              "<p>67 rows × 8 columns</p>\n",
              "</div>"
            ],
            "text/plain": [
              "0  Roll Number                Name       CGPA            Company Name  \\\n",
              "2       18I201         ABINAYA M P       8.91             Caterpillar   \n",
              "3       18I202         ABIRAMI A P       8.17         Ericsson Global   \n",
              "4       18I203  ADITHYA HARISH S M       9.53    Fidelity Investments   \n",
              "5       18I204         AISHVARYA G       7.55       Dell technologies   \n",
              "6      18I205            AKSHAYA B       8.68          Deloitte India   \n",
              "..         ...                 ...        ...                     ...   \n",
              "64      19I432         GOPIKUMAR S  Not Opted                     NaN   \n",
              "65      19I433            NAVEEN G       9.23               Microsoft   \n",
              "66      19I434           RISHIKA M       8.62                   Wipro   \n",
              "67      19I435        ARUN KUMAR S       7.31                   bosch   \n",
              "68      19I436           VIJAYAN C       7.66                   Wipro   \n",
              "\n",
              "0                Package (FTE) Package (Intern) Intern Joining Date  \\\n",
              "2                    10,35,851              NaN         03-Jan-2022   \n",
              "3                    11,50,000     30,000/month         17-Jan-2022   \n",
              "4                    12,93,000    35,000/ month         24 Jan 2022   \n",
              "5                     8,00,000              NaN                 NaN   \n",
              "6                     7,60,000              NIL         15-Mar-2021   \n",
              "..                         ...              ...                 ...   \n",
              "64                         NaN              NaN                 NaN   \n",
              "65                   12,08,800              NIL                 NIL   \n",
              "66                    6,50,000              NaN                 NaN   \n",
              "67                    5,00,000              NaN                 NaN   \n",
              "68                    6,50,000              NaN                 NaN   \n",
              "\n",
              "0  FTE Joining Date  \n",
              "2               NaN  \n",
              "3       16-Jan-2022  \n",
              "4               NaN  \n",
              "5               NaN  \n",
              "6               NaN  \n",
              "..              ...  \n",
              "64              NaN  \n",
              "65              NaN  \n",
              "66              NaN  \n",
              "67              NaN  \n",
              "68              NaN  \n",
              "\n",
              "[67 rows x 8 columns]"
            ]
          },
          "execution_count": 193,
          "metadata": {},
          "output_type": "execute_result"
        }
      ],
      "source": [
        "data = data.drop(0)\n",
        "data = data.drop(1)\n",
        "data"
      ]
    },
    {
      "cell_type": "code",
      "execution_count": 194,
      "metadata": {},
      "outputs": [
        {
          "data": {
            "text/html": [
              "<div><svg style=\"position: absolute; width: 0; height: 0; overflow: hidden\">\n",
              "<defs>\n",
              "<symbol id=\"icon-database\" viewBox=\"0 0 32 32\">\n",
              "<path d=\"M16 0c-8.837 0-16 2.239-16 5v4c0 2.761 7.163 5 16 5s16-2.239 16-5v-4c0-2.761-7.163-5-16-5z\"></path>\n",
              "<path d=\"M16 17c-8.837 0-16-2.239-16-5v6c0 2.761 7.163 5 16 5s16-2.239 16-5v-6c0 2.761-7.163 5-16 5z\"></path>\n",
              "<path d=\"M16 26c-8.837 0-16-2.239-16-5v6c0 2.761 7.163 5 16 5s16-2.239 16-5v-6c0 2.761-7.163 5-16 5z\"></path>\n",
              "</symbol>\n",
              "<symbol id=\"icon-file-text2\" viewBox=\"0 0 32 32\">\n",
              "<path d=\"M28.681 7.159c-0.694-0.947-1.662-2.053-2.724-3.116s-2.169-2.030-3.116-2.724c-1.612-1.182-2.393-1.319-2.841-1.319h-15.5c-1.378 0-2.5 1.121-2.5 2.5v27c0 1.378 1.122 2.5 2.5 2.5h23c1.378 0 2.5-1.122 2.5-2.5v-19.5c0-0.448-0.137-1.23-1.319-2.841zM24.543 5.457c0.959 0.959 1.712 1.825 2.268 2.543h-4.811v-4.811c0.718 0.556 1.584 1.309 2.543 2.268zM28 29.5c0 0.271-0.229 0.5-0.5 0.5h-23c-0.271 0-0.5-0.229-0.5-0.5v-27c0-0.271 0.229-0.5 0.5-0.5 0 0 15.499-0 15.5 0v7c0 0.552 0.448 1 1 1h7v19.5z\"></path>\n",
              "<path d=\"M23 26h-14c-0.552 0-1-0.448-1-1s0.448-1 1-1h14c0.552 0 1 0.448 1 1s-0.448 1-1 1z\"></path>\n",
              "<path d=\"M23 22h-14c-0.552 0-1-0.448-1-1s0.448-1 1-1h14c0.552 0 1 0.448 1 1s-0.448 1-1 1z\"></path>\n",
              "<path d=\"M23 18h-14c-0.552 0-1-0.448-1-1s0.448-1 1-1h14c0.552 0 1 0.448 1 1s-0.448 1-1 1z\"></path>\n",
              "</symbol>\n",
              "</defs>\n",
              "</svg>\n",
              "<style>/* CSS stylesheet for displaying xarray objects in jupyterlab.\n",
              " *\n",
              " */\n",
              "\n",
              ":root {\n",
              "  --xr-font-color0: var(--jp-content-font-color0, rgba(0, 0, 0, 1));\n",
              "  --xr-font-color2: var(--jp-content-font-color2, rgba(0, 0, 0, 0.54));\n",
              "  --xr-font-color3: var(--jp-content-font-color3, rgba(0, 0, 0, 0.38));\n",
              "  --xr-border-color: var(--jp-border-color2, #e0e0e0);\n",
              "  --xr-disabled-color: var(--jp-layout-color3, #bdbdbd);\n",
              "  --xr-background-color: var(--jp-layout-color0, white);\n",
              "  --xr-background-color-row-even: var(--jp-layout-color1, white);\n",
              "  --xr-background-color-row-odd: var(--jp-layout-color2, #eeeeee);\n",
              "}\n",
              "\n",
              "html[theme=dark],\n",
              "body.vscode-dark {\n",
              "  --xr-font-color0: rgba(255, 255, 255, 1);\n",
              "  --xr-font-color2: rgba(255, 255, 255, 0.54);\n",
              "  --xr-font-color3: rgba(255, 255, 255, 0.38);\n",
              "  --xr-border-color: #1F1F1F;\n",
              "  --xr-disabled-color: #515151;\n",
              "  --xr-background-color: #111111;\n",
              "  --xr-background-color-row-even: #111111;\n",
              "  --xr-background-color-row-odd: #313131;\n",
              "}\n",
              "\n",
              ".xr-wrap {\n",
              "  display: block;\n",
              "  min-width: 300px;\n",
              "  max-width: 700px;\n",
              "}\n",
              "\n",
              ".xr-text-repr-fallback {\n",
              "  /* fallback to plain text repr when CSS is not injected (untrusted notebook) */\n",
              "  display: none;\n",
              "}\n",
              "\n",
              ".xr-header {\n",
              "  padding-top: 6px;\n",
              "  padding-bottom: 6px;\n",
              "  margin-bottom: 4px;\n",
              "  border-bottom: solid 1px var(--xr-border-color);\n",
              "}\n",
              "\n",
              ".xr-header > div,\n",
              ".xr-header > ul {\n",
              "  display: inline;\n",
              "  margin-top: 0;\n",
              "  margin-bottom: 0;\n",
              "}\n",
              "\n",
              ".xr-obj-type,\n",
              ".xr-array-name {\n",
              "  margin-left: 2px;\n",
              "  margin-right: 10px;\n",
              "}\n",
              "\n",
              ".xr-obj-type {\n",
              "  color: var(--xr-font-color2);\n",
              "}\n",
              "\n",
              ".xr-sections {\n",
              "  padding-left: 0 !important;\n",
              "  display: grid;\n",
              "  grid-template-columns: 150px auto auto 1fr 20px 20px;\n",
              "}\n",
              "\n",
              ".xr-section-item {\n",
              "  display: contents;\n",
              "}\n",
              "\n",
              ".xr-section-item input {\n",
              "  display: none;\n",
              "}\n",
              "\n",
              ".xr-section-item input + label {\n",
              "  color: var(--xr-disabled-color);\n",
              "}\n",
              "\n",
              ".xr-section-item input:enabled + label {\n",
              "  cursor: pointer;\n",
              "  color: var(--xr-font-color2);\n",
              "}\n",
              "\n",
              ".xr-section-item input:enabled + label:hover {\n",
              "  color: var(--xr-font-color0);\n",
              "}\n",
              "\n",
              ".xr-section-summary {\n",
              "  grid-column: 1;\n",
              "  color: var(--xr-font-color2);\n",
              "  font-weight: 500;\n",
              "}\n",
              "\n",
              ".xr-section-summary > span {\n",
              "  display: inline-block;\n",
              "  padding-left: 0.5em;\n",
              "}\n",
              "\n",
              ".xr-section-summary-in:disabled + label {\n",
              "  color: var(--xr-font-color2);\n",
              "}\n",
              "\n",
              ".xr-section-summary-in + label:before {\n",
              "  display: inline-block;\n",
              "  content: '►';\n",
              "  font-size: 11px;\n",
              "  width: 15px;\n",
              "  text-align: center;\n",
              "}\n",
              "\n",
              ".xr-section-summary-in:disabled + label:before {\n",
              "  color: var(--xr-disabled-color);\n",
              "}\n",
              "\n",
              ".xr-section-summary-in:checked + label:before {\n",
              "  content: '▼';\n",
              "}\n",
              "\n",
              ".xr-section-summary-in:checked + label > span {\n",
              "  display: none;\n",
              "}\n",
              "\n",
              ".xr-section-summary,\n",
              ".xr-section-inline-details {\n",
              "  padding-top: 4px;\n",
              "  padding-bottom: 4px;\n",
              "}\n",
              "\n",
              ".xr-section-inline-details {\n",
              "  grid-column: 2 / -1;\n",
              "}\n",
              "\n",
              ".xr-section-details {\n",
              "  display: none;\n",
              "  grid-column: 1 / -1;\n",
              "  margin-bottom: 5px;\n",
              "}\n",
              "\n",
              ".xr-section-summary-in:checked ~ .xr-section-details {\n",
              "  display: contents;\n",
              "}\n",
              "\n",
              ".xr-array-wrap {\n",
              "  grid-column: 1 / -1;\n",
              "  display: grid;\n",
              "  grid-template-columns: 20px auto;\n",
              "}\n",
              "\n",
              ".xr-array-wrap > label {\n",
              "  grid-column: 1;\n",
              "  vertical-align: top;\n",
              "}\n",
              "\n",
              ".xr-preview {\n",
              "  color: var(--xr-font-color3);\n",
              "}\n",
              "\n",
              ".xr-array-preview,\n",
              ".xr-array-data {\n",
              "  padding: 0 5px !important;\n",
              "  grid-column: 2;\n",
              "}\n",
              "\n",
              ".xr-array-data,\n",
              ".xr-array-in:checked ~ .xr-array-preview {\n",
              "  display: none;\n",
              "}\n",
              "\n",
              ".xr-array-in:checked ~ .xr-array-data,\n",
              ".xr-array-preview {\n",
              "  display: inline-block;\n",
              "}\n",
              "\n",
              ".xr-dim-list {\n",
              "  display: inline-block !important;\n",
              "  list-style: none;\n",
              "  padding: 0 !important;\n",
              "  margin: 0;\n",
              "}\n",
              "\n",
              ".xr-dim-list li {\n",
              "  display: inline-block;\n",
              "  padding: 0;\n",
              "  margin: 0;\n",
              "}\n",
              "\n",
              ".xr-dim-list:before {\n",
              "  content: '(';\n",
              "}\n",
              "\n",
              ".xr-dim-list:after {\n",
              "  content: ')';\n",
              "}\n",
              "\n",
              ".xr-dim-list li:not(:last-child):after {\n",
              "  content: ',';\n",
              "  padding-right: 5px;\n",
              "}\n",
              "\n",
              ".xr-has-index {\n",
              "  font-weight: bold;\n",
              "}\n",
              "\n",
              ".xr-var-list,\n",
              ".xr-var-item {\n",
              "  display: contents;\n",
              "}\n",
              "\n",
              ".xr-var-item > div,\n",
              ".xr-var-item label,\n",
              ".xr-var-item > .xr-var-name span {\n",
              "  background-color: var(--xr-background-color-row-even);\n",
              "  margin-bottom: 0;\n",
              "}\n",
              "\n",
              ".xr-var-item > .xr-var-name:hover span {\n",
              "  padding-right: 5px;\n",
              "}\n",
              "\n",
              ".xr-var-list > li:nth-child(odd) > div,\n",
              ".xr-var-list > li:nth-child(odd) > label,\n",
              ".xr-var-list > li:nth-child(odd) > .xr-var-name span {\n",
              "  background-color: var(--xr-background-color-row-odd);\n",
              "}\n",
              "\n",
              ".xr-var-name {\n",
              "  grid-column: 1;\n",
              "}\n",
              "\n",
              ".xr-var-dims {\n",
              "  grid-column: 2;\n",
              "}\n",
              "\n",
              ".xr-var-dtype {\n",
              "  grid-column: 3;\n",
              "  text-align: right;\n",
              "  color: var(--xr-font-color2);\n",
              "}\n",
              "\n",
              ".xr-var-preview {\n",
              "  grid-column: 4;\n",
              "}\n",
              "\n",
              ".xr-var-name,\n",
              ".xr-var-dims,\n",
              ".xr-var-dtype,\n",
              ".xr-preview,\n",
              ".xr-attrs dt {\n",
              "  white-space: nowrap;\n",
              "  overflow: hidden;\n",
              "  text-overflow: ellipsis;\n",
              "  padding-right: 10px;\n",
              "}\n",
              "\n",
              ".xr-var-name:hover,\n",
              ".xr-var-dims:hover,\n",
              ".xr-var-dtype:hover,\n",
              ".xr-attrs dt:hover {\n",
              "  overflow: visible;\n",
              "  width: auto;\n",
              "  z-index: 1;\n",
              "}\n",
              "\n",
              ".xr-var-attrs,\n",
              ".xr-var-data {\n",
              "  display: none;\n",
              "  background-color: var(--xr-background-color) !important;\n",
              "  padding-bottom: 5px !important;\n",
              "}\n",
              "\n",
              ".xr-var-attrs-in:checked ~ .xr-var-attrs,\n",
              ".xr-var-data-in:checked ~ .xr-var-data {\n",
              "  display: block;\n",
              "}\n",
              "\n",
              ".xr-var-data > table {\n",
              "  float: right;\n",
              "}\n",
              "\n",
              ".xr-var-name span,\n",
              ".xr-var-data,\n",
              ".xr-attrs {\n",
              "  padding-left: 25px !important;\n",
              "}\n",
              "\n",
              ".xr-attrs,\n",
              ".xr-var-attrs,\n",
              ".xr-var-data {\n",
              "  grid-column: 1 / -1;\n",
              "}\n",
              "\n",
              "dl.xr-attrs {\n",
              "  padding: 0;\n",
              "  margin: 0;\n",
              "  display: grid;\n",
              "  grid-template-columns: 125px auto;\n",
              "}\n",
              "\n",
              ".xr-attrs dt,\n",
              ".xr-attrs dd {\n",
              "  padding: 0;\n",
              "  margin: 0;\n",
              "  float: left;\n",
              "  padding-right: 10px;\n",
              "  width: auto;\n",
              "}\n",
              "\n",
              ".xr-attrs dt {\n",
              "  font-weight: normal;\n",
              "  grid-column: 1;\n",
              "}\n",
              "\n",
              ".xr-attrs dt:hover span {\n",
              "  display: inline-block;\n",
              "  background: var(--xr-background-color);\n",
              "  padding-right: 10px;\n",
              "}\n",
              "\n",
              ".xr-attrs dd {\n",
              "  grid-column: 2;\n",
              "  white-space: pre-wrap;\n",
              "  word-break: break-all;\n",
              "}\n",
              "\n",
              ".xr-icon-database,\n",
              ".xr-icon-file-text2 {\n",
              "  display: inline-block;\n",
              "  vertical-align: middle;\n",
              "  width: 1em;\n",
              "  height: 1.5em !important;\n",
              "  stroke-width: 0;\n",
              "  stroke: currentColor;\n",
              "  fill: currentColor;\n",
              "}\n",
              "</style><pre class='xr-text-repr-fallback'>&lt;xarray.DataArray &#x27;Package (FTE)&#x27; (index: 67)&gt;\n",
              "array([&#x27;10,35,851&#x27;, &#x27;11,50,000&#x27;, &#x27;12,93,000&#x27;, &#x27;8,00,000&#x27;, &#x27;7,60,000&#x27;,\n",
              "       &#x27;10,00,000&#x27;, &#x27;10,00,000&#x27;, &#x27;8,00,000&#x27;, &#x27;11,00,000&#x27;, nan, &#x27;7,60,000&#x27;,\n",
              "       &#x27;13,12,000&#x27;, &#x27;13,12,000&#x27;, &#x27;9,00,000&#x27;, nan, &#x27;11,79,000&#x27;, &#x27;4,50,000&#x27;,\n",
              "       &#x27;11,00,000&#x27;, &#x27;12,93,000&#x27;, &#x27;13,12,000&#x27;, &#x27;8,71,785&#x27;, &#x27;16,65,000&#x27;,\n",
              "       nan, &#x27;11,00,000&#x27;, &#x27;25,33,000&#x27;, &#x27;7,60,000&#x27;, nan, &#x27;11,00,000&#x27;,\n",
              "       &#x27;7,00,000&#x27;, &#x27;19,72,550&#x27;, &#x27;13,70,000&#x27;, &#x27;25,33,000&#x27;, &#x27;11,50,000&#x27;,\n",
              "       &#x27;13,12,000&#x27;, &#x27;4,50,000&#x27;, &#x27;23,39,800&#x27;, nan, &#x27;6,50,000&#x27;, &#x27;5,00,000&#x27;,\n",
              "       &#x27;5,00,000&#x27;, &#x27;20,67,400&#x27;, &#x27;14,00,000&#x27;, &#x27;12,93,000&#x27;, &#x27;7,00,000&#x27;,\n",
              "       &#x27;9,00,000&#x27;, &#x27;13,12,000&#x27;, nan, nan, &#x27;5,00,000&#x27;, &#x27;19,72,550&#x27;,\n",
              "       &#x27;12,93,000&#x27;, &#x27;10,00,000&#x27;, &#x27;12,93,000&#x27;, &#x27;7,00,000&#x27;, nan,\n",
              "       &#x27;13,70,000&#x27;, &#x27;6,50,000&#x27;, &#x27;6,50,000&#x27;, &#x27;9,00,000&#x27;, &#x27;11,50,000&#x27;,\n",
              "       &#x27;19,00,000&#x27;, &#x27;5,00,000&#x27;, nan, &#x27;12,08,800&#x27;, &#x27;6,50,000&#x27;, &#x27;5,00,000&#x27;,\n",
              "       &#x27;                  6,50,000&#x27;], dtype=object)\n",
              "Coordinates:\n",
              "  * index    (index) int64 2 3 4 5 6 7 8 9 10 11 ... 60 61 62 63 64 65 66 67 68</pre><div class='xr-wrap' hidden><div class='xr-header'><div class='xr-obj-type'>xarray.DataArray</div><div class='xr-array-name'>'Package (FTE)'</div><ul class='xr-dim-list'><li><span class='xr-has-index'>index</span>: 67</li></ul></div><ul class='xr-sections'><li class='xr-section-item'><div class='xr-array-wrap'><input id='section-81b9ca56-8c4d-4511-9324-e1acb09538dd' class='xr-array-in' type='checkbox' checked><label for='section-81b9ca56-8c4d-4511-9324-e1acb09538dd' title='Show/hide data repr'><svg class='icon xr-icon-database'><use xlink:href='#icon-database'></use></svg></label><div class='xr-array-preview xr-preview'><span>&#x27;10,35,851&#x27; &#x27;11,50,000&#x27; ... &#x27;5,00,000&#x27; &#x27;                  6,50,000&#x27;</span></div><div class='xr-array-data'><pre>array([&#x27;10,35,851&#x27;, &#x27;11,50,000&#x27;, &#x27;12,93,000&#x27;, &#x27;8,00,000&#x27;, &#x27;7,60,000&#x27;,\n",
              "       &#x27;10,00,000&#x27;, &#x27;10,00,000&#x27;, &#x27;8,00,000&#x27;, &#x27;11,00,000&#x27;, nan, &#x27;7,60,000&#x27;,\n",
              "       &#x27;13,12,000&#x27;, &#x27;13,12,000&#x27;, &#x27;9,00,000&#x27;, nan, &#x27;11,79,000&#x27;, &#x27;4,50,000&#x27;,\n",
              "       &#x27;11,00,000&#x27;, &#x27;12,93,000&#x27;, &#x27;13,12,000&#x27;, &#x27;8,71,785&#x27;, &#x27;16,65,000&#x27;,\n",
              "       nan, &#x27;11,00,000&#x27;, &#x27;25,33,000&#x27;, &#x27;7,60,000&#x27;, nan, &#x27;11,00,000&#x27;,\n",
              "       &#x27;7,00,000&#x27;, &#x27;19,72,550&#x27;, &#x27;13,70,000&#x27;, &#x27;25,33,000&#x27;, &#x27;11,50,000&#x27;,\n",
              "       &#x27;13,12,000&#x27;, &#x27;4,50,000&#x27;, &#x27;23,39,800&#x27;, nan, &#x27;6,50,000&#x27;, &#x27;5,00,000&#x27;,\n",
              "       &#x27;5,00,000&#x27;, &#x27;20,67,400&#x27;, &#x27;14,00,000&#x27;, &#x27;12,93,000&#x27;, &#x27;7,00,000&#x27;,\n",
              "       &#x27;9,00,000&#x27;, &#x27;13,12,000&#x27;, nan, nan, &#x27;5,00,000&#x27;, &#x27;19,72,550&#x27;,\n",
              "       &#x27;12,93,000&#x27;, &#x27;10,00,000&#x27;, &#x27;12,93,000&#x27;, &#x27;7,00,000&#x27;, nan,\n",
              "       &#x27;13,70,000&#x27;, &#x27;6,50,000&#x27;, &#x27;6,50,000&#x27;, &#x27;9,00,000&#x27;, &#x27;11,50,000&#x27;,\n",
              "       &#x27;19,00,000&#x27;, &#x27;5,00,000&#x27;, nan, &#x27;12,08,800&#x27;, &#x27;6,50,000&#x27;, &#x27;5,00,000&#x27;,\n",
              "       &#x27;                  6,50,000&#x27;], dtype=object)</pre></div></div></li><li class='xr-section-item'><input id='section-5c847289-8e30-489f-ae75-8df88bea0bc1' class='xr-section-summary-in' type='checkbox'  checked><label for='section-5c847289-8e30-489f-ae75-8df88bea0bc1' class='xr-section-summary' >Coordinates: <span>(1)</span></label><div class='xr-section-inline-details'></div><div class='xr-section-details'><ul class='xr-var-list'><li class='xr-var-item'><div class='xr-var-name'><span class='xr-has-index'>index</span></div><div class='xr-var-dims'>(index)</div><div class='xr-var-dtype'>int64</div><div class='xr-var-preview xr-preview'>2 3 4 5 6 7 8 ... 63 64 65 66 67 68</div><input id='attrs-01c593a1-e5b2-4e16-985b-9e668c7f1ed9' class='xr-var-attrs-in' type='checkbox' disabled><label for='attrs-01c593a1-e5b2-4e16-985b-9e668c7f1ed9' title='Show/Hide attributes'><svg class='icon xr-icon-file-text2'><use xlink:href='#icon-file-text2'></use></svg></label><input id='data-3fc1cc0d-ee1b-43b6-9fa1-16a92399e67b' class='xr-var-data-in' type='checkbox'><label for='data-3fc1cc0d-ee1b-43b6-9fa1-16a92399e67b' title='Show/Hide data repr'><svg class='icon xr-icon-database'><use xlink:href='#icon-database'></use></svg></label><div class='xr-var-attrs'><dl class='xr-attrs'></dl></div><div class='xr-var-data'><pre>array([ 2,  3,  4,  5,  6,  7,  8,  9, 10, 11, 12, 13, 14, 15, 16, 17, 18, 19,\n",
              "       20, 21, 22, 23, 24, 25, 26, 27, 28, 29, 30, 31, 32, 33, 34, 35, 36, 37,\n",
              "       38, 39, 40, 41, 42, 43, 44, 45, 46, 47, 48, 49, 50, 51, 52, 53, 54, 55,\n",
              "       56, 57, 58, 59, 60, 61, 62, 63, 64, 65, 66, 67, 68])</pre></div></li></ul></div></li><li class='xr-section-item'><input id='section-c2ca4883-3055-4a8a-ba23-cd14d29659c4' class='xr-section-summary-in' type='checkbox' disabled ><label for='section-c2ca4883-3055-4a8a-ba23-cd14d29659c4' class='xr-section-summary'  title='Expand/collapse section'>Attributes: <span>(0)</span></label><div class='xr-section-inline-details'></div><div class='xr-section-details'><dl class='xr-attrs'></dl></div></li></ul></div></div>"
            ],
            "text/plain": [
              "<xarray.DataArray 'Package (FTE)' (index: 67)>\n",
              "array(['10,35,851', '11,50,000', '12,93,000', '8,00,000', '7,60,000',\n",
              "       '10,00,000', '10,00,000', '8,00,000', '11,00,000', nan, '7,60,000',\n",
              "       '13,12,000', '13,12,000', '9,00,000', nan, '11,79,000', '4,50,000',\n",
              "       '11,00,000', '12,93,000', '13,12,000', '8,71,785', '16,65,000',\n",
              "       nan, '11,00,000', '25,33,000', '7,60,000', nan, '11,00,000',\n",
              "       '7,00,000', '19,72,550', '13,70,000', '25,33,000', '11,50,000',\n",
              "       '13,12,000', '4,50,000', '23,39,800', nan, '6,50,000', '5,00,000',\n",
              "       '5,00,000', '20,67,400', '14,00,000', '12,93,000', '7,00,000',\n",
              "       '9,00,000', '13,12,000', nan, nan, '5,00,000', '19,72,550',\n",
              "       '12,93,000', '10,00,000', '12,93,000', '7,00,000', nan,\n",
              "       '13,70,000', '6,50,000', '6,50,000', '9,00,000', '11,50,000',\n",
              "       '19,00,000', '5,00,000', nan, '12,08,800', '6,50,000', '5,00,000',\n",
              "       '                  6,50,000'], dtype=object)\n",
              "Coordinates:\n",
              "  * index    (index) int64 2 3 4 5 6 7 8 9 10 11 ... 60 61 62 63 64 65 66 67 68"
            ]
          },
          "execution_count": 194,
          "metadata": {},
          "output_type": "execute_result"
        }
      ],
      "source": [
        "data['Package (FTE)'].to_xarray()"
      ]
    },
    {
      "cell_type": "code",
      "execution_count": 195,
      "metadata": {
        "colab": {
          "base_uri": "https://localhost:8080/"
        },
        "id": "PCvZanh7bvCp",
        "outputId": "7995b9a0-bbba-4006-cf5c-56140ed01398"
      },
      "outputs": [
        {
          "data": {
            "text/plain": [
              "True"
            ]
          },
          "execution_count": 195,
          "metadata": {},
          "output_type": "execute_result"
        }
      ],
      "source": [
        "data['Roll Number'].is_unique"
      ]
    },
    {
      "cell_type": "code",
      "execution_count": 196,
      "metadata": {
        "colab": {
          "base_uri": "https://localhost:8080/",
          "height": 237
        },
        "id": "0CZDxRy8sWAr",
        "outputId": "1cca2ee9-8c57-484d-ab52-4d63cc676c4b"
      },
      "outputs": [
        {
          "data": {
            "text/html": [
              "<div>\n",
              "<style scoped>\n",
              "    .dataframe tbody tr th:only-of-type {\n",
              "        vertical-align: middle;\n",
              "    }\n",
              "\n",
              "    .dataframe tbody tr th {\n",
              "        vertical-align: top;\n",
              "    }\n",
              "\n",
              "    .dataframe thead th {\n",
              "        text-align: right;\n",
              "    }\n",
              "</style>\n",
              "<table border=\"1\" class=\"dataframe\">\n",
              "  <thead>\n",
              "    <tr style=\"text-align: right;\">\n",
              "      <th></th>\n",
              "      <th>Name</th>\n",
              "      <th>CGPA</th>\n",
              "      <th>Company Name</th>\n",
              "      <th>Package (FTE)</th>\n",
              "      <th>Package (Intern)</th>\n",
              "      <th>Intern Joining Date</th>\n",
              "      <th>FTE Joining Date</th>\n",
              "    </tr>\n",
              "    <tr>\n",
              "      <th>Roll Number</th>\n",
              "      <th></th>\n",
              "      <th></th>\n",
              "      <th></th>\n",
              "      <th></th>\n",
              "      <th></th>\n",
              "      <th></th>\n",
              "      <th></th>\n",
              "    </tr>\n",
              "  </thead>\n",
              "  <tbody>\n",
              "    <tr>\n",
              "      <th>18I201</th>\n",
              "      <td>ABINAYA M P</td>\n",
              "      <td>8.91</td>\n",
              "      <td>Caterpillar</td>\n",
              "      <td>10,35,851</td>\n",
              "      <td>NaN</td>\n",
              "      <td>03-Jan-2022</td>\n",
              "      <td>NaN</td>\n",
              "    </tr>\n",
              "    <tr>\n",
              "      <th>18I202</th>\n",
              "      <td>ABIRAMI A P</td>\n",
              "      <td>8.17</td>\n",
              "      <td>Ericsson Global</td>\n",
              "      <td>11,50,000</td>\n",
              "      <td>30,000/month</td>\n",
              "      <td>17-Jan-2022</td>\n",
              "      <td>16-Jan-2022</td>\n",
              "    </tr>\n",
              "    <tr>\n",
              "      <th>18I203</th>\n",
              "      <td>ADITHYA HARISH S M</td>\n",
              "      <td>9.53</td>\n",
              "      <td>Fidelity Investments</td>\n",
              "      <td>12,93,000</td>\n",
              "      <td>35,000/ month</td>\n",
              "      <td>24 Jan 2022</td>\n",
              "      <td>NaN</td>\n",
              "    </tr>\n",
              "    <tr>\n",
              "      <th>18I204</th>\n",
              "      <td>AISHVARYA G</td>\n",
              "      <td>7.55</td>\n",
              "      <td>Dell technologies</td>\n",
              "      <td>8,00,000</td>\n",
              "      <td>NaN</td>\n",
              "      <td>NaN</td>\n",
              "      <td>NaN</td>\n",
              "    </tr>\n",
              "    <tr>\n",
              "      <th>18I205</th>\n",
              "      <td>AKSHAYA B</td>\n",
              "      <td>8.68</td>\n",
              "      <td>Deloitte India</td>\n",
              "      <td>7,60,000</td>\n",
              "      <td>NIL</td>\n",
              "      <td>15-Mar-2021</td>\n",
              "      <td>NaN</td>\n",
              "    </tr>\n",
              "  </tbody>\n",
              "</table>\n",
              "</div>"
            ],
            "text/plain": [
              "0                          Name  CGPA          Company Name Package (FTE)  \\\n",
              "Roll Number                                                                 \n",
              "18I201              ABINAYA M P  8.91           Caterpillar     10,35,851   \n",
              "18I202              ABIRAMI A P  8.17       Ericsson Global     11,50,000   \n",
              "18I203       ADITHYA HARISH S M  9.53  Fidelity Investments     12,93,000   \n",
              "18I204              AISHVARYA G  7.55     Dell technologies      8,00,000   \n",
              "18I205                AKSHAYA B  8.68        Deloitte India      7,60,000   \n",
              "\n",
              "0           Package (Intern) Intern Joining Date FTE Joining Date  \n",
              "Roll Number                                                        \n",
              "18I201                   NaN         03-Jan-2022              NaN  \n",
              "18I202          30,000/month         17-Jan-2022      16-Jan-2022  \n",
              "18I203         35,000/ month         24 Jan 2022              NaN  \n",
              "18I204                   NaN                 NaN              NaN  \n",
              "18I205                   NIL         15-Mar-2021              NaN  "
            ]
          },
          "execution_count": 196,
          "metadata": {},
          "output_type": "execute_result"
        }
      ],
      "source": [
        "data = data.set_index('Roll Number')\n",
        "data.head()"
      ]
    },
    {
      "cell_type": "code",
      "execution_count": 197,
      "metadata": {
        "colab": {
          "base_uri": "https://localhost:8080/",
          "height": 438
        },
        "id": "iTk4-xkpuIHU",
        "outputId": "4f6ca56f-ff44-4a02-90bc-491b0c920444"
      },
      "outputs": [
        {
          "data": {
            "text/html": [
              "<div>\n",
              "<style scoped>\n",
              "    .dataframe tbody tr th:only-of-type {\n",
              "        vertical-align: middle;\n",
              "    }\n",
              "\n",
              "    .dataframe tbody tr th {\n",
              "        vertical-align: top;\n",
              "    }\n",
              "\n",
              "    .dataframe thead th {\n",
              "        text-align: right;\n",
              "    }\n",
              "</style>\n",
              "<table border=\"1\" class=\"dataframe\">\n",
              "  <thead>\n",
              "    <tr style=\"text-align: right;\">\n",
              "      <th></th>\n",
              "      <th>Name</th>\n",
              "      <th>CGPA</th>\n",
              "      <th>Company Name</th>\n",
              "      <th>Package (FTE)</th>\n",
              "      <th>Package (Intern)</th>\n",
              "      <th>Intern Joining Date</th>\n",
              "      <th>FTE Joining Date</th>\n",
              "    </tr>\n",
              "    <tr>\n",
              "      <th>Roll Number</th>\n",
              "      <th></th>\n",
              "      <th></th>\n",
              "      <th></th>\n",
              "      <th></th>\n",
              "      <th></th>\n",
              "      <th></th>\n",
              "      <th></th>\n",
              "    </tr>\n",
              "  </thead>\n",
              "  <tbody>\n",
              "    <tr>\n",
              "      <th>18I201</th>\n",
              "      <td>ABINAYA M P</td>\n",
              "      <td>8.91</td>\n",
              "      <td>Caterpillar</td>\n",
              "      <td>10,35,851</td>\n",
              "      <td>NaN</td>\n",
              "      <td>03-Jan-2022</td>\n",
              "      <td>NaN</td>\n",
              "    </tr>\n",
              "    <tr>\n",
              "      <th>18I202</th>\n",
              "      <td>ABIRAMI A P</td>\n",
              "      <td>8.17</td>\n",
              "      <td>Ericsson Global</td>\n",
              "      <td>11,50,000</td>\n",
              "      <td>30,000/month</td>\n",
              "      <td>17-Jan-2022</td>\n",
              "      <td>16-Jan-2022</td>\n",
              "    </tr>\n",
              "    <tr>\n",
              "      <th>18I203</th>\n",
              "      <td>ADITHYA HARISH S M</td>\n",
              "      <td>9.53</td>\n",
              "      <td>Fidelity Investments</td>\n",
              "      <td>12,93,000</td>\n",
              "      <td>35,000/ month</td>\n",
              "      <td>24 Jan 2022</td>\n",
              "      <td>NaN</td>\n",
              "    </tr>\n",
              "    <tr>\n",
              "      <th>18I204</th>\n",
              "      <td>AISHVARYA G</td>\n",
              "      <td>7.55</td>\n",
              "      <td>Dell technologies</td>\n",
              "      <td>8,00,000</td>\n",
              "      <td>NaN</td>\n",
              "      <td>NaN</td>\n",
              "      <td>NaN</td>\n",
              "    </tr>\n",
              "    <tr>\n",
              "      <th>18I205</th>\n",
              "      <td>AKSHAYA B</td>\n",
              "      <td>8.68</td>\n",
              "      <td>Deloitte India</td>\n",
              "      <td>7,60,000</td>\n",
              "      <td>NIL</td>\n",
              "      <td>15-Mar-2021</td>\n",
              "      <td>NaN</td>\n",
              "    </tr>\n",
              "    <tr>\n",
              "      <th>18I206</th>\n",
              "      <td>ANNAPOORNA K ATHREYA</td>\n",
              "      <td>8.7</td>\n",
              "      <td>Mckinsey</td>\n",
              "      <td>10,00,000</td>\n",
              "      <td>50,000/month</td>\n",
              "      <td>8-Feb-2022</td>\n",
              "      <td>NaN</td>\n",
              "    </tr>\n",
              "    <tr>\n",
              "      <th>18I207</th>\n",
              "      <td>ASHWIN BALAJI.S</td>\n",
              "      <td>7.45</td>\n",
              "      <td>CoreStack</td>\n",
              "      <td>10,00,000</td>\n",
              "      <td>-</td>\n",
              "      <td>NaN</td>\n",
              "      <td>NaN</td>\n",
              "    </tr>\n",
              "    <tr>\n",
              "      <th>18I208</th>\n",
              "      <td>BARANI DEVI E</td>\n",
              "      <td>8.22</td>\n",
              "      <td>Mad Street Den</td>\n",
              "      <td>8,00,000</td>\n",
              "      <td>21,500/month</td>\n",
              "      <td>06-Dec-2021</td>\n",
              "      <td>NaN</td>\n",
              "    </tr>\n",
              "    <tr>\n",
              "      <th>18I209</th>\n",
              "      <td>BHARATH S</td>\n",
              "      <td>8.42</td>\n",
              "      <td>Infibeam avenues</td>\n",
              "      <td>11,00,000</td>\n",
              "      <td>20000/month</td>\n",
              "      <td>07-Feb-2021</td>\n",
              "      <td>NaN</td>\n",
              "    </tr>\n",
              "    <tr>\n",
              "      <th>18I210</th>\n",
              "      <td>BHARATHLAKSHMI S</td>\n",
              "      <td>Not Opted</td>\n",
              "      <td>NaN</td>\n",
              "      <td>NaN</td>\n",
              "      <td>NaN</td>\n",
              "      <td>NaN</td>\n",
              "      <td>NaN</td>\n",
              "    </tr>\n",
              "  </tbody>\n",
              "</table>\n",
              "</div>"
            ],
            "text/plain": [
              "0                            Name       CGPA          Company Name  \\\n",
              "Roll Number                                                          \n",
              "18I201                ABINAYA M P       8.91           Caterpillar   \n",
              "18I202                ABIRAMI A P       8.17       Ericsson Global   \n",
              "18I203         ADITHYA HARISH S M       9.53  Fidelity Investments   \n",
              "18I204                AISHVARYA G       7.55     Dell technologies   \n",
              "18I205                  AKSHAYA B       8.68        Deloitte India   \n",
              "18I206       ANNAPOORNA K ATHREYA        8.7              Mckinsey   \n",
              "18I207            ASHWIN BALAJI.S       7.45             CoreStack   \n",
              "18I208              BARANI DEVI E       8.22        Mad Street Den   \n",
              "18I209                  BHARATH S       8.42      Infibeam avenues   \n",
              "18I210           BHARATHLAKSHMI S  Not Opted                   NaN   \n",
              "\n",
              "0           Package (FTE) Package (Intern) Intern Joining Date  \\\n",
              "Roll Number                                                      \n",
              "18I201          10,35,851              NaN         03-Jan-2022   \n",
              "18I202          11,50,000     30,000/month         17-Jan-2022   \n",
              "18I203          12,93,000    35,000/ month         24 Jan 2022   \n",
              "18I204           8,00,000              NaN                 NaN   \n",
              "18I205           7,60,000              NIL         15-Mar-2021   \n",
              "18I206          10,00,000     50,000/month          8-Feb-2022   \n",
              "18I207          10,00,000                -                 NaN   \n",
              "18I208           8,00,000     21,500/month         06-Dec-2021   \n",
              "18I209          11,00,000      20000/month         07-Feb-2021   \n",
              "18I210                NaN              NaN                 NaN   \n",
              "\n",
              "0           FTE Joining Date  \n",
              "Roll Number                   \n",
              "18I201                   NaN  \n",
              "18I202           16-Jan-2022  \n",
              "18I203                   NaN  \n",
              "18I204                   NaN  \n",
              "18I205                   NaN  \n",
              "18I206                   NaN  \n",
              "18I207                   NaN  \n",
              "18I208                   NaN  \n",
              "18I209                   NaN  \n",
              "18I210                   NaN  "
            ]
          },
          "execution_count": 197,
          "metadata": {},
          "output_type": "execute_result"
        }
      ],
      "source": [
        "data.head(10)"
      ]
    },
    {
      "cell_type": "code",
      "execution_count": 198,
      "metadata": {
        "id": "jqOuRGlVbf2p"
      },
      "outputs": [],
      "source": [
        "data = data.fillna(0)"
      ]
    },
    {
      "cell_type": "code",
      "execution_count": 199,
      "metadata": {
        "colab": {
          "base_uri": "https://localhost:8080/",
          "height": 455
        },
        "id": "7c25WzbLvXJo",
        "outputId": "41f04f4f-9661-4f6d-8a98-11d4dbc7fd59"
      },
      "outputs": [
        {
          "data": {
            "text/html": [
              "<div>\n",
              "<style scoped>\n",
              "    .dataframe tbody tr th:only-of-type {\n",
              "        vertical-align: middle;\n",
              "    }\n",
              "\n",
              "    .dataframe tbody tr th {\n",
              "        vertical-align: top;\n",
              "    }\n",
              "\n",
              "    .dataframe thead th {\n",
              "        text-align: right;\n",
              "    }\n",
              "</style>\n",
              "<table border=\"1\" class=\"dataframe\">\n",
              "  <thead>\n",
              "    <tr style=\"text-align: right;\">\n",
              "      <th></th>\n",
              "      <th>Name</th>\n",
              "      <th>CGPA</th>\n",
              "      <th>Company Name</th>\n",
              "      <th>Package (FTE)</th>\n",
              "      <th>Package (Intern)</th>\n",
              "      <th>Intern Joining Date</th>\n",
              "      <th>FTE Joining Date</th>\n",
              "    </tr>\n",
              "    <tr>\n",
              "      <th>Roll Number</th>\n",
              "      <th></th>\n",
              "      <th></th>\n",
              "      <th></th>\n",
              "      <th></th>\n",
              "      <th></th>\n",
              "      <th></th>\n",
              "      <th></th>\n",
              "    </tr>\n",
              "  </thead>\n",
              "  <tbody>\n",
              "    <tr>\n",
              "      <th>18I201</th>\n",
              "      <td>ABINAYA M P</td>\n",
              "      <td>8.91</td>\n",
              "      <td>Caterpillar</td>\n",
              "      <td>10,35,851</td>\n",
              "      <td>0</td>\n",
              "      <td>03-Jan-2022</td>\n",
              "      <td>0</td>\n",
              "    </tr>\n",
              "    <tr>\n",
              "      <th>18I202</th>\n",
              "      <td>ABIRAMI A P</td>\n",
              "      <td>8.17</td>\n",
              "      <td>Ericsson Global</td>\n",
              "      <td>11,50,000</td>\n",
              "      <td>30,000/month</td>\n",
              "      <td>17-Jan-2022</td>\n",
              "      <td>16-Jan-2022</td>\n",
              "    </tr>\n",
              "    <tr>\n",
              "      <th>18I203</th>\n",
              "      <td>ADITHYA HARISH S M</td>\n",
              "      <td>9.53</td>\n",
              "      <td>Fidelity Investments</td>\n",
              "      <td>12,93,000</td>\n",
              "      <td>35,000/ month</td>\n",
              "      <td>24 Jan 2022</td>\n",
              "      <td>0</td>\n",
              "    </tr>\n",
              "    <tr>\n",
              "      <th>18I204</th>\n",
              "      <td>AISHVARYA G</td>\n",
              "      <td>7.55</td>\n",
              "      <td>Dell technologies</td>\n",
              "      <td>8,00,000</td>\n",
              "      <td>0</td>\n",
              "      <td>0</td>\n",
              "      <td>0</td>\n",
              "    </tr>\n",
              "    <tr>\n",
              "      <th>18I205</th>\n",
              "      <td>AKSHAYA B</td>\n",
              "      <td>8.68</td>\n",
              "      <td>Deloitte India</td>\n",
              "      <td>7,60,000</td>\n",
              "      <td>NIL</td>\n",
              "      <td>15-Mar-2021</td>\n",
              "      <td>0</td>\n",
              "    </tr>\n",
              "    <tr>\n",
              "      <th>...</th>\n",
              "      <td>...</td>\n",
              "      <td>...</td>\n",
              "      <td>...</td>\n",
              "      <td>...</td>\n",
              "      <td>...</td>\n",
              "      <td>...</td>\n",
              "      <td>...</td>\n",
              "    </tr>\n",
              "    <tr>\n",
              "      <th>19I432</th>\n",
              "      <td>GOPIKUMAR S</td>\n",
              "      <td>Not Opted</td>\n",
              "      <td>0</td>\n",
              "      <td>0</td>\n",
              "      <td>0</td>\n",
              "      <td>0</td>\n",
              "      <td>0</td>\n",
              "    </tr>\n",
              "    <tr>\n",
              "      <th>19I433</th>\n",
              "      <td>NAVEEN G</td>\n",
              "      <td>9.23</td>\n",
              "      <td>Microsoft</td>\n",
              "      <td>12,08,800</td>\n",
              "      <td>NIL</td>\n",
              "      <td>NIL</td>\n",
              "      <td>0</td>\n",
              "    </tr>\n",
              "    <tr>\n",
              "      <th>19I434</th>\n",
              "      <td>RISHIKA M</td>\n",
              "      <td>8.62</td>\n",
              "      <td>Wipro</td>\n",
              "      <td>6,50,000</td>\n",
              "      <td>0</td>\n",
              "      <td>0</td>\n",
              "      <td>0</td>\n",
              "    </tr>\n",
              "    <tr>\n",
              "      <th>19I435</th>\n",
              "      <td>ARUN KUMAR S</td>\n",
              "      <td>7.31</td>\n",
              "      <td>bosch</td>\n",
              "      <td>5,00,000</td>\n",
              "      <td>0</td>\n",
              "      <td>0</td>\n",
              "      <td>0</td>\n",
              "    </tr>\n",
              "    <tr>\n",
              "      <th>19I436</th>\n",
              "      <td>VIJAYAN C</td>\n",
              "      <td>7.66</td>\n",
              "      <td>Wipro</td>\n",
              "      <td>6,50,000</td>\n",
              "      <td>0</td>\n",
              "      <td>0</td>\n",
              "      <td>0</td>\n",
              "    </tr>\n",
              "  </tbody>\n",
              "</table>\n",
              "<p>67 rows × 7 columns</p>\n",
              "</div>"
            ],
            "text/plain": [
              "0                          Name       CGPA            Company Name  \\\n",
              "Roll Number                                                          \n",
              "18I201              ABINAYA M P       8.91             Caterpillar   \n",
              "18I202              ABIRAMI A P       8.17         Ericsson Global   \n",
              "18I203       ADITHYA HARISH S M       9.53    Fidelity Investments   \n",
              "18I204              AISHVARYA G       7.55       Dell technologies   \n",
              "18I205                AKSHAYA B       8.68          Deloitte India   \n",
              "...                         ...        ...                     ...   \n",
              "19I432              GOPIKUMAR S  Not Opted                       0   \n",
              "19I433                 NAVEEN G       9.23               Microsoft   \n",
              "19I434                RISHIKA M       8.62                   Wipro   \n",
              "19I435             ARUN KUMAR S       7.31                   bosch   \n",
              "19I436                VIJAYAN C       7.66                   Wipro   \n",
              "\n",
              "0                         Package (FTE) Package (Intern) Intern Joining Date  \\\n",
              "Roll Number                                                                    \n",
              "18I201                        10,35,851                0         03-Jan-2022   \n",
              "18I202                        11,50,000     30,000/month         17-Jan-2022   \n",
              "18I203                        12,93,000    35,000/ month         24 Jan 2022   \n",
              "18I204                         8,00,000                0                   0   \n",
              "18I205                         7,60,000              NIL         15-Mar-2021   \n",
              "...                                 ...              ...                 ...   \n",
              "19I432                                0                0                   0   \n",
              "19I433                        12,08,800              NIL                 NIL   \n",
              "19I434                         6,50,000                0                   0   \n",
              "19I435                         5,00,000                0                   0   \n",
              "19I436                         6,50,000                0                   0   \n",
              "\n",
              "0           FTE Joining Date  \n",
              "Roll Number                   \n",
              "18I201                     0  \n",
              "18I202           16-Jan-2022  \n",
              "18I203                     0  \n",
              "18I204                     0  \n",
              "18I205                     0  \n",
              "...                      ...  \n",
              "19I432                     0  \n",
              "19I433                     0  \n",
              "19I434                     0  \n",
              "19I435                     0  \n",
              "19I436                     0  \n",
              "\n",
              "[67 rows x 7 columns]"
            ]
          },
          "execution_count": 199,
          "metadata": {},
          "output_type": "execute_result"
        }
      ],
      "source": [
        "data.replace('NIL', 0)\n",
        "data.replace('NaN', 0)\n",
        "data.replace('nan', 0)"
      ]
    },
    {
      "cell_type": "markdown",
      "metadata": {
        "id": "R9mvO2-On-jC"
      },
      "source": [
        "convert obj to int\n"
      ]
    },
    {
      "cell_type": "code",
      "execution_count": 200,
      "metadata": {
        "colab": {
          "base_uri": "https://localhost:8080/",
          "height": 375
        },
        "id": "MD9l3pAvQ0IV",
        "outputId": "434f92a8-8925-4b1c-f6eb-3092230a67dd"
      },
      "outputs": [
        {
          "data": {
            "text/html": [
              "<div>\n",
              "<style scoped>\n",
              "    .dataframe tbody tr th:only-of-type {\n",
              "        vertical-align: middle;\n",
              "    }\n",
              "\n",
              "    .dataframe tbody tr th {\n",
              "        vertical-align: top;\n",
              "    }\n",
              "\n",
              "    .dataframe thead th {\n",
              "        text-align: right;\n",
              "    }\n",
              "</style>\n",
              "<table border=\"1\" class=\"dataframe\">\n",
              "  <thead>\n",
              "    <tr style=\"text-align: right;\">\n",
              "      <th></th>\n",
              "      <th>Name</th>\n",
              "      <th>CGPA</th>\n",
              "      <th>Company Name</th>\n",
              "      <th>Package (FTE)</th>\n",
              "      <th>Package (Intern)</th>\n",
              "      <th>Intern Joining Date</th>\n",
              "      <th>FTE Joining Date</th>\n",
              "    </tr>\n",
              "    <tr>\n",
              "      <th>Roll Number</th>\n",
              "      <th></th>\n",
              "      <th></th>\n",
              "      <th></th>\n",
              "      <th></th>\n",
              "      <th></th>\n",
              "      <th></th>\n",
              "      <th></th>\n",
              "    </tr>\n",
              "  </thead>\n",
              "  <tbody>\n",
              "    <tr>\n",
              "      <th>18I210</th>\n",
              "      <td>BHARATHLAKSHMI S</td>\n",
              "      <td>Not Opted</td>\n",
              "      <td>0</td>\n",
              "      <td>0</td>\n",
              "      <td>0</td>\n",
              "      <td>0</td>\n",
              "      <td>0</td>\n",
              "    </tr>\n",
              "    <tr>\n",
              "      <th>18I215</th>\n",
              "      <td>DEEPIKA T</td>\n",
              "      <td>Not Opted</td>\n",
              "      <td>0</td>\n",
              "      <td>0</td>\n",
              "      <td>0</td>\n",
              "      <td>0</td>\n",
              "      <td>0</td>\n",
              "    </tr>\n",
              "    <tr>\n",
              "      <th>18I223</th>\n",
              "      <td>KAVI DHARSHINI A</td>\n",
              "      <td>Not Opted</td>\n",
              "      <td>0</td>\n",
              "      <td>0</td>\n",
              "      <td>8000/month</td>\n",
              "      <td>07-Mar-2022</td>\n",
              "      <td>0</td>\n",
              "    </tr>\n",
              "    <tr>\n",
              "      <th>18I227</th>\n",
              "      <td>KRITHIKA M</td>\n",
              "      <td>Not Opted</td>\n",
              "      <td>0</td>\n",
              "      <td>0</td>\n",
              "      <td>8000/month</td>\n",
              "      <td>07-Mar-2022</td>\n",
              "      <td>0</td>\n",
              "    </tr>\n",
              "    <tr>\n",
              "      <th>18I238</th>\n",
              "      <td>PARITSCHATH KARTHIKEYAN L M</td>\n",
              "      <td>Not Opted</td>\n",
              "      <td>0</td>\n",
              "      <td>0</td>\n",
              "      <td>0</td>\n",
              "      <td>0</td>\n",
              "      <td>0</td>\n",
              "    </tr>\n",
              "    <tr>\n",
              "      <th>18I248</th>\n",
              "      <td>SANCHANA S</td>\n",
              "      <td>Not Opted</td>\n",
              "      <td>0</td>\n",
              "      <td>0</td>\n",
              "      <td>0</td>\n",
              "      <td>0</td>\n",
              "      <td>0</td>\n",
              "    </tr>\n",
              "    <tr>\n",
              "      <th>18I257</th>\n",
              "      <td>SHREE RAKSHA.S</td>\n",
              "      <td>Not Opted</td>\n",
              "      <td>0</td>\n",
              "      <td>0</td>\n",
              "      <td>NIL</td>\n",
              "      <td>01 Mar 2022</td>\n",
              "      <td>0</td>\n",
              "    </tr>\n",
              "    <tr>\n",
              "      <th>19I432</th>\n",
              "      <td>GOPIKUMAR S</td>\n",
              "      <td>Not Opted</td>\n",
              "      <td>0</td>\n",
              "      <td>0</td>\n",
              "      <td>0</td>\n",
              "      <td>0</td>\n",
              "      <td>0</td>\n",
              "    </tr>\n",
              "  </tbody>\n",
              "</table>\n",
              "</div>"
            ],
            "text/plain": [
              "0                                   Name        CGPA Company Name  \\\n",
              "Roll Number                                                         \n",
              "18I210                  BHARATHLAKSHMI S   Not Opted            0   \n",
              "18I215                         DEEPIKA T   Not Opted            0   \n",
              "18I223                  KAVI DHARSHINI A  Not Opted             0   \n",
              "18I227                        KRITHIKA M   Not Opted            0   \n",
              "18I238       PARITSCHATH KARTHIKEYAN L M   Not Opted            0   \n",
              "18I248                        SANCHANA S   Not Opted            0   \n",
              "18I257                    SHREE RAKSHA.S   Not Opted            0   \n",
              "19I432                       GOPIKUMAR S   Not Opted            0   \n",
              "\n",
              "0           Package (FTE) Package (Intern) Intern Joining Date  \\\n",
              "Roll Number                                                      \n",
              "18I210                  0                0                   0   \n",
              "18I215                  0                0                   0   \n",
              "18I223                  0       8000/month         07-Mar-2022   \n",
              "18I227                  0       8000/month         07-Mar-2022   \n",
              "18I238                  0                0                   0   \n",
              "18I248                  0                0                   0   \n",
              "18I257                  0              NIL         01 Mar 2022   \n",
              "19I432                  0                0                   0   \n",
              "\n",
              "0           FTE Joining Date  \n",
              "Roll Number                   \n",
              "18I210                     0  \n",
              "18I215                     0  \n",
              "18I223                     0  \n",
              "18I227                     0  \n",
              "18I238                     0  \n",
              "18I248                     0  \n",
              "18I257                     0  \n",
              "19I432                     0  "
            ]
          },
          "execution_count": 200,
          "metadata": {},
          "output_type": "execute_result"
        }
      ],
      "source": [
        "higher = data[pd.to_numeric(data['CGPA'], errors='coerce').isna()]\n",
        "higher"
      ]
    },
    {
      "cell_type": "code",
      "execution_count": 201,
      "metadata": {
        "colab": {
          "base_uri": "https://localhost:8080/"
        },
        "id": "INEuNMeDSJxX",
        "outputId": "4bb8eeb9-907b-4621-d7b4-53ca364a373a"
      },
      "outputs": [
        {
          "data": {
            "text/plain": [
              "(59, 7)"
            ]
          },
          "execution_count": 201,
          "metadata": {},
          "output_type": "execute_result"
        }
      ],
      "source": [
        "placement = pd.concat([data,higher]).drop_duplicates(keep=False)\n",
        "placement.shape"
      ]
    },
    {
      "cell_type": "code",
      "execution_count": 202,
      "metadata": {
        "colab": {
          "base_uri": "https://localhost:8080/"
        },
        "id": "K4rEPaDVVQUq",
        "outputId": "bf102f52-51f4-496b-feb3-8563f029ee25"
      },
      "outputs": [
        {
          "data": {
            "text/plain": [
              "pandas.core.frame.DataFrame"
            ]
          },
          "execution_count": 202,
          "metadata": {},
          "output_type": "execute_result"
        }
      ],
      "source": [
        "type(data)"
      ]
    },
    {
      "cell_type": "code",
      "execution_count": 203,
      "metadata": {
        "colab": {
          "base_uri": "https://localhost:8080/"
        },
        "id": "7uNx4VUwVtjJ",
        "outputId": "28738d12-660a-4278-d55a-ebda3c7c57b3"
      },
      "outputs": [
        {
          "data": {
            "text/plain": [
              "0\n",
              "Name                   object\n",
              "CGPA                   object\n",
              "Company Name           object\n",
              "Package (FTE)          object\n",
              "Package (Intern)       object\n",
              "Intern Joining Date    object\n",
              "FTE Joining Date       object\n",
              "dtype: object"
            ]
          },
          "execution_count": 203,
          "metadata": {},
          "output_type": "execute_result"
        }
      ],
      "source": [
        "placement.dtypes"
      ]
    },
    {
      "cell_type": "code",
      "execution_count": 204,
      "metadata": {
        "id": "DU09JrOydWFC"
      },
      "outputs": [],
      "source": [
        "placement['Package (FTE)'] = placement['Package (FTE)'].str.replace(',','')"
      ]
    },
    {
      "cell_type": "code",
      "execution_count": 205,
      "metadata": {},
      "outputs": [],
      "source": [
        "placement.dropna(inplace=True)"
      ]
    },
    {
      "cell_type": "code",
      "execution_count": 206,
      "metadata": {
        "id": "VBMI1VVndENi"
      },
      "outputs": [],
      "source": [
        "placement['Package (FTE)'] = placement['Package (FTE)'].astype(str).astype(int)"
      ]
    },
    {
      "cell_type": "code",
      "execution_count": 207,
      "metadata": {
        "id": "P6vZvHMM-kuB"
      },
      "outputs": [],
      "source": [
        "placement['CGPA'] = placement['CGPA'].astype(str).astype(float)"
      ]
    },
    {
      "cell_type": "code",
      "execution_count": 208,
      "metadata": {
        "id": "1AjqBApOo1fq"
      },
      "outputs": [],
      "source": [
        "placement['CGPA_round'] = placement['CGPA'].round()"
      ]
    },
    {
      "cell_type": "code",
      "execution_count": 209,
      "metadata": {
        "colab": {
          "base_uri": "https://localhost:8080/"
        },
        "id": "5hG3GoMVom5x",
        "outputId": "4785d658-2dd8-4b2d-bade-32860f852d25"
      },
      "outputs": [
        {
          "data": {
            "text/plain": [
              "<pandas.core.groupby.generic.DataFrameGroupBy object at 0x7fe1a9340be0>"
            ]
          },
          "execution_count": 209,
          "metadata": {},
          "output_type": "execute_result"
        }
      ],
      "source": [
        "company_group = placement.groupby(['Company Name'])\n",
        "company_group"
      ]
    },
    {
      "cell_type": "code",
      "execution_count": 210,
      "metadata": {},
      "outputs": [],
      "source": [
        "import base64\n",
        "from IPython.display import HTML\n",
        "\n",
        "def create_download_link( df, title = \"Download CSV file\", filename = \"data.csv\"):  \n",
        "    csv = df.to_csv()\n",
        "    b64 = base64.b64encode(csv.encode())\n",
        "    payload = b64.decode()\n",
        "    html = '<a download=\"{filename}\" href=\"data:text/csv;base64,{payload}\" target=\"_blank\">{title}</a>'\n",
        "    html = html.format(payload=payload,title=title,filename=filename)\n",
        "    return HTML(html)"
      ]
    },
    {
      "cell_type": "markdown",
      "metadata": {
        "id": "r5X7Fw6joCgO"
      },
      "source": [
        "# Telematics \n",
        "\n",
        "\n",
        "- placement = placement extracted df\n",
        "- company_group = grouped df\n",
        "- higher = not opted df"
      ]
    },
    {
      "cell_type": "code",
      "execution_count": 211,
      "metadata": {
        "colab": {
          "base_uri": "https://localhost:8080/"
        },
        "id": "q7XCdAgWddvx",
        "outputId": "fc1cb8f2-6d83-48c7-ab87-ddf0eb15e517"
      },
      "outputs": [
        {
          "data": {
            "text/plain": [
              "0\n",
              "Name                      KEERTHANA S\n",
              "CGPA                             9.39\n",
              "Company Name           Morgan Stanley\n",
              "Package (FTE)                 2533000\n",
              "Package (Intern)         87,000/month\n",
              "Intern Joining Date       24 Jan 2022\n",
              "FTE Joining Date                    0\n",
              "CGPA_round                        9.0\n",
              "Name: 18I225, dtype: object"
            ]
          },
          "execution_count": 211,
          "metadata": {},
          "output_type": "execute_result"
        }
      ],
      "source": [
        "placement.loc[placement['Package (FTE)'].idxmax()]"
      ]
    },
    {
      "cell_type": "code",
      "execution_count": 212,
      "metadata": {
        "colab": {
          "base_uri": "https://localhost:8080/"
        },
        "id": "wjwRQ_j5V2CA",
        "outputId": "59b20ef9-22f9-46fc-f04f-09bea27dd6bd"
      },
      "outputs": [
        {
          "data": {
            "text/plain": [
              "0\n",
              "Name                   GAYATHRI A\n",
              "CGPA                         7.83\n",
              "Company Name            Accenture\n",
              "Package (FTE)              450000\n",
              "Package (Intern)                0\n",
              "Intern Joining Date             0\n",
              "FTE Joining Date                0\n",
              "CGPA_round                    8.0\n",
              "Name: 18I217, dtype: object"
            ]
          },
          "execution_count": 212,
          "metadata": {},
          "output_type": "execute_result"
        }
      ],
      "source": [
        "placement.loc[placement['Package (FTE)'].idxmin()]"
      ]
    },
    {
      "cell_type": "code",
      "execution_count": 213,
      "metadata": {
        "colab": {
          "base_uri": "https://localhost:8080/"
        },
        "id": "TNm6B-VajWdH",
        "outputId": "e98bca40-47ab-4bdc-a747-cdae5277a34f"
      },
      "outputs": [
        {
          "name": "stdout",
          "output_type": "stream",
          "text": [
            "Highest Package: 2533000\n",
            "Average Package: 1114202\n",
            "Lowest Package: 450000\n"
          ]
        }
      ],
      "source": [
        "print(\"Highest Package: \" + str(placement['Package (FTE)'].max()))\n",
        "print(\"Average Package: \" + str(int(placement['Package (FTE)'].mean())))\n",
        "print(\"Lowest Package: \" + str(placement['Package (FTE)'].min()))"
      ]
    },
    {
      "cell_type": "code",
      "execution_count": 214,
      "metadata": {
        "colab": {
          "base_uri": "https://localhost:8080/"
        },
        "id": "5amGDIDoBlXy",
        "outputId": "787b1059-b431-4b61-f312-454037af47fe"
      },
      "outputs": [
        {
          "name": "stdout",
          "output_type": "stream",
          "text": [
            "Highest CGPA: 9.71\n",
            "Average CGPA: 8\n",
            "Lowest CGPA: 7.1\n"
          ]
        }
      ],
      "source": [
        "print(\"Highest CGPA: \" + str(placement['CGPA'].max()))\n",
        "print(\"Average CGPA: \" + str(int(placement['CGPA'].mean())))\n",
        "print(\"Lowest CGPA: \" + str(placement['CGPA'].min()))"
      ]
    },
    {
      "cell_type": "code",
      "execution_count": 215,
      "metadata": {
        "colab": {
          "base_uri": "https://localhost:8080/",
          "height": 472
        },
        "id": "24yyFZgo--fX",
        "outputId": "055be97a-c267-48e7-dbc9-2061b22eead9"
      },
      "outputs": [
        {
          "data": {
            "image/png": "[encoded data removed]",
            "text/plain": [
              "<Figure size 640x480 with 1 Axes>"
            ]
          },
          "metadata": {},
          "output_type": "display_data"
        }
      ],
      "source": [
        "plt.bar(placement['CGPA'], placement['Package (FTE)'])\n",
        "plt.xlim(6,11)\n",
        "plt.ylim(450000, 2800000)\n",
        "plt.grid(True)\n",
        "plt.xlabel('CGPA')\n",
        "plt.ylabel('Package (FTE)')\n",
        "plt.title('The relationship between CGPA and the Package')\n",
        "plt.show()"
      ]
    },
    {
      "cell_type": "code",
      "execution_count": 216,
      "metadata": {},
      "outputs": [
        {
          "data": {
            "text/html": [
              "<div>\n",
              "<style scoped>\n",
              "    .dataframe tbody tr th:only-of-type {\n",
              "        vertical-align: middle;\n",
              "    }\n",
              "\n",
              "    .dataframe tbody tr th {\n",
              "        vertical-align: top;\n",
              "    }\n",
              "\n",
              "    .dataframe thead th {\n",
              "        text-align: right;\n",
              "    }\n",
              "</style>\n",
              "<table border=\"1\" class=\"dataframe\">\n",
              "  <thead>\n",
              "    <tr style=\"text-align: right;\">\n",
              "      <th></th>\n",
              "      <th>Name</th>\n",
              "      <th>CGPA</th>\n",
              "      <th>Company Name</th>\n",
              "      <th>Package (FTE)</th>\n",
              "      <th>Package (Intern)</th>\n",
              "      <th>Intern Joining Date</th>\n",
              "      <th>FTE Joining Date</th>\n",
              "      <th>CGPA_round</th>\n",
              "    </tr>\n",
              "    <tr>\n",
              "      <th>Roll Number</th>\n",
              "      <th></th>\n",
              "      <th></th>\n",
              "      <th></th>\n",
              "      <th></th>\n",
              "      <th></th>\n",
              "      <th></th>\n",
              "      <th></th>\n",
              "      <th></th>\n",
              "    </tr>\n",
              "  </thead>\n",
              "  <tbody>\n",
              "    <tr>\n",
              "      <th>18I201</th>\n",
              "      <td>ABINAYA M P</td>\n",
              "      <td>8.91</td>\n",
              "      <td>Caterpillar</td>\n",
              "      <td>1035851</td>\n",
              "      <td>0</td>\n",
              "      <td>03-Jan-2022</td>\n",
              "      <td>0</td>\n",
              "      <td>9.0</td>\n",
              "    </tr>\n",
              "    <tr>\n",
              "      <th>18I208</th>\n",
              "      <td>BARANI DEVI E</td>\n",
              "      <td>8.22</td>\n",
              "      <td>Mad Street Den</td>\n",
              "      <td>800000</td>\n",
              "      <td>21,500/month</td>\n",
              "      <td>06-Dec-2021</td>\n",
              "      <td>0</td>\n",
              "      <td>8.0</td>\n",
              "    </tr>\n",
              "    <tr>\n",
              "      <th>18I214</th>\n",
              "      <td>DARSINI V</td>\n",
              "      <td>9.25</td>\n",
              "      <td>[24]7. ai</td>\n",
              "      <td>900000</td>\n",
              "      <td>40,000/month</td>\n",
              "      <td>10-Jan-2022</td>\n",
              "      <td>0</td>\n",
              "      <td>9.0</td>\n",
              "    </tr>\n",
              "    <tr>\n",
              "      <th>18I205</th>\n",
              "      <td>AKSHAYA B</td>\n",
              "      <td>8.68</td>\n",
              "      <td>Deloitte India</td>\n",
              "      <td>760000</td>\n",
              "      <td>NIL</td>\n",
              "      <td>15-Mar-2021</td>\n",
              "      <td>0</td>\n",
              "      <td>9.0</td>\n",
              "    </tr>\n",
              "    <tr>\n",
              "      <th>18I255</th>\n",
              "      <td>SHARAVANAN B</td>\n",
              "      <td>8.94</td>\n",
              "      <td>Fidelity Investments</td>\n",
              "      <td>1293000</td>\n",
              "      <td>35,000/month</td>\n",
              "      <td>24 Jan 2022</td>\n",
              "      <td>22-Aug-2022</td>\n",
              "      <td>9.0</td>\n",
              "    </tr>\n",
              "    <tr>\n",
              "      <th>18I237</th>\n",
              "      <td>NIVETHA R</td>\n",
              "      <td>9.16</td>\n",
              "      <td>Walmart</td>\n",
              "      <td>2339800</td>\n",
              "      <td>85,000/month</td>\n",
              "      <td>18 Jan 2022</td>\n",
              "      <td>0</td>\n",
              "      <td>9.0</td>\n",
              "    </tr>\n",
              "    <tr>\n",
              "      <th>18I261</th>\n",
              "      <td>VAISHNAVEE R N</td>\n",
              "      <td>9.45</td>\n",
              "      <td>Danske IT</td>\n",
              "      <td>900000</td>\n",
              "      <td>20,000/month</td>\n",
              "      <td>19 Jan 2022</td>\n",
              "      <td>0</td>\n",
              "      <td>9.0</td>\n",
              "    </tr>\n",
              "    <tr>\n",
              "      <th>18I212</th>\n",
              "      <td>BHUVANESHWARAN R</td>\n",
              "      <td>8.12</td>\n",
              "      <td>Societe Generale</td>\n",
              "      <td>1312000</td>\n",
              "      <td>0</td>\n",
              "      <td>0</td>\n",
              "      <td>07-Jul-2022</td>\n",
              "      <td>8.0</td>\n",
              "    </tr>\n",
              "    <tr>\n",
              "      <th>18I224</th>\n",
              "      <td>KAVYA S</td>\n",
              "      <td>8.57</td>\n",
              "      <td>Optum Insights</td>\n",
              "      <td>1100000</td>\n",
              "      <td>22,000/month</td>\n",
              "      <td>24-Jan-2022</td>\n",
              "      <td>0</td>\n",
              "      <td>9.0</td>\n",
              "    </tr>\n",
              "    <tr>\n",
              "      <th>18I204</th>\n",
              "      <td>AISHVARYA G</td>\n",
              "      <td>7.55</td>\n",
              "      <td>Dell technologies</td>\n",
              "      <td>800000</td>\n",
              "      <td>0</td>\n",
              "      <td>0</td>\n",
              "      <td>0</td>\n",
              "      <td>8.0</td>\n",
              "    </tr>\n",
              "    <tr>\n",
              "      <th>18I211</th>\n",
              "      <td>BHAVADHARANI S</td>\n",
              "      <td>9.17</td>\n",
              "      <td>Deloitte USI</td>\n",
              "      <td>760000</td>\n",
              "      <td>25,000/month</td>\n",
              "      <td>17-Jan-2022</td>\n",
              "      <td>0</td>\n",
              "      <td>9.0</td>\n",
              "    </tr>\n",
              "    <tr>\n",
              "      <th>18I232</th>\n",
              "      <td>NAVEENRAJ R</td>\n",
              "      <td>9.34</td>\n",
              "      <td>Morgan Stanley</td>\n",
              "      <td>2533000</td>\n",
              "      <td>87,000/month</td>\n",
              "      <td>24 Jan 2022</td>\n",
              "      <td>0</td>\n",
              "      <td>9.0</td>\n",
              "    </tr>\n",
              "    <tr>\n",
              "      <th>18I240</th>\n",
              "      <td>PRADEPA S</td>\n",
              "      <td>8.69</td>\n",
              "      <td>Robert Bosch</td>\n",
              "      <td>500000</td>\n",
              "      <td>25,000/month</td>\n",
              "      <td>07-Feb-2022</td>\n",
              "      <td>0</td>\n",
              "      <td>9.0</td>\n",
              "    </tr>\n",
              "    <tr>\n",
              "      <th>18I220</th>\n",
              "      <td>HARIHARAN K</td>\n",
              "      <td>8.85</td>\n",
              "      <td>Societe Generale</td>\n",
              "      <td>1312000</td>\n",
              "      <td>NIL</td>\n",
              "      <td>07-Mar-2022</td>\n",
              "      <td>0</td>\n",
              "      <td>9.0</td>\n",
              "    </tr>\n",
              "    <tr>\n",
              "      <th>18I236</th>\n",
              "      <td>NITHYASRI  N</td>\n",
              "      <td>7.10</td>\n",
              "      <td>Accenture</td>\n",
              "      <td>450000</td>\n",
              "      <td>8000/month</td>\n",
              "      <td>07 Mar 2022</td>\n",
              "      <td>0</td>\n",
              "      <td>7.0</td>\n",
              "    </tr>\n",
              "  </tbody>\n",
              "</table>\n",
              "</div>"
            ],
            "text/plain": [
              "0                        Name  CGPA          Company Name  Package (FTE)  \\\n",
              "Roll Number                                                                \n",
              "18I201            ABINAYA M P  8.91           Caterpillar        1035851   \n",
              "18I208          BARANI DEVI E  8.22        Mad Street Den         800000   \n",
              "18I214              DARSINI V  9.25             [24]7. ai         900000   \n",
              "18I205              AKSHAYA B  8.68        Deloitte India         760000   \n",
              "18I255           SHARAVANAN B  8.94  Fidelity Investments        1293000   \n",
              "18I237              NIVETHA R  9.16               Walmart        2339800   \n",
              "18I261         VAISHNAVEE R N  9.45             Danske IT         900000   \n",
              "18I212       BHUVANESHWARAN R  8.12      Societe Generale        1312000   \n",
              "18I224                KAVYA S  8.57        Optum Insights        1100000   \n",
              "18I204            AISHVARYA G  7.55     Dell technologies         800000   \n",
              "18I211         BHAVADHARANI S  9.17          Deloitte USI         760000   \n",
              "18I232            NAVEENRAJ R  9.34        Morgan Stanley        2533000   \n",
              "18I240             PRADEPA S   8.69          Robert Bosch         500000   \n",
              "18I220            HARIHARAN K  8.85      Societe Generale        1312000   \n",
              "18I236           NITHYASRI  N  7.10             Accenture         450000   \n",
              "\n",
              "0           Package (Intern) Intern Joining Date FTE Joining Date  CGPA_round  \n",
              "Roll Number                                                                    \n",
              "18I201                     0         03-Jan-2022                0         9.0  \n",
              "18I208          21,500/month         06-Dec-2021                0         8.0  \n",
              "18I214          40,000/month         10-Jan-2022                0         9.0  \n",
              "18I205                   NIL         15-Mar-2021                0         9.0  \n",
              "18I255          35,000/month         24 Jan 2022      22-Aug-2022         9.0  \n",
              "18I237          85,000/month         18 Jan 2022                0         9.0  \n",
              "18I261          20,000/month         19 Jan 2022                0         9.0  \n",
              "18I212                     0                   0      07-Jul-2022         8.0  \n",
              "18I224          22,000/month         24-Jan-2022                0         9.0  \n",
              "18I204                     0                   0                0         8.0  \n",
              "18I211          25,000/month         17-Jan-2022                0         9.0  \n",
              "18I232          87,000/month         24 Jan 2022                0         9.0  \n",
              "18I240          25,000/month         07-Feb-2022                0         9.0  \n",
              "18I220                   NIL         07-Mar-2022                0         9.0  \n",
              "18I236            8000/month         07 Mar 2022                0         7.0  "
            ]
          },
          "execution_count": 216,
          "metadata": {},
          "output_type": "execute_result"
        }
      ],
      "source": [
        "placement.sample(15)"
      ]
    },
    {
      "cell_type": "code",
      "execution_count": 217,
      "metadata": {
        "colab": {
          "base_uri": "https://localhost:8080/",
          "height": 542
        },
        "id": "7sGt6yTNdMUn",
        "outputId": "e8cf1a58-f31e-4fb3-93b0-f61404af08d4"
      },
      "outputs": [
        {
          "data": {
            "application/vnd.plotly.v1+json": {
              "config": {
                "plotlyServerURL": "https://plot.ly"
              },
              "data": [
                {
                  "customdata": [
                    [
                      "ABINAYA M P"
                    ],
                    [
                      "ABIRAMI A P"
                    ],
                    [
                      "ADITHYA HARISH S M"
                    ],
                    [
                      "AISHVARYA G"
                    ],
                    [
                      "AKSHAYA B"
                    ],
                    [
                      "ANNAPOORNA K ATHREYA"
                    ],
                    [
                      "ASHWIN BALAJI.S"
                    ],
                    [
                      "BARANI DEVI E"
                    ],
                    [
                      "BHARATH S"
                    ],
                    [
                      "BHAVADHARANI S"
                    ],
                    [
                      "BHUVANESHWARAN R"
                    ],
                    [
                      "CHATRASHWAR G V"
                    ],
                    [
                      "DARSINI V"
                    ],
                    [
                      "EZHILARASAN S"
                    ],
                    [
                      "GAYATHRI A"
                    ],
                    [
                      "GAYATHRI S"
                    ],
                    [
                      "GOKUL KUMAR B"
                    ],
                    [
                      "HARIHARAN K"
                    ],
                    [
                      "JAI BHAARATH S"
                    ],
                    [
                      "KARTHI VIJAYAKUMAAR"
                    ],
                    [
                      "KAVYA S"
                    ],
                    [
                      "KEERTHANA S"
                    ],
                    [
                      "KOKILA S"
                    ],
                    [
                      "LAKSHITHA R"
                    ],
                    [
                      "MAHITHA SHREE M"
                    ],
                    [
                      "MOHAMED MURSHIDH A"
                    ],
                    [
                      "MOHANA LAKSHMI M"
                    ],
                    [
                      "NAVEENRAJ R"
                    ],
                    [
                      "NISHAND S"
                    ],
                    [
                      "NITHIN CHRISTOPHER"
                    ],
                    [
                      "NITHYASRI  N"
                    ],
                    [
                      "NIVETHA R"
                    ],
                    [
                      "POOJASHREE B"
                    ],
                    [
                      "PRADEPA S "
                    ],
                    [
                      "PREETHA P"
                    ],
                    [
                      "PREETHA SB"
                    ],
                    [
                      "PRIYADHARSHINI G"
                    ],
                    [
                      "RAVI SUBRAMANIAN N"
                    ],
                    [
                      "REENA PRABHA M"
                    ],
                    [
                      "RITESH NIRMAL R"
                    ],
                    [
                      "SAMYUKTA R"
                    ],
                    [
                      "SARANYA S"
                    ],
                    [
                      "SARANYA V"
                    ],
                    [
                      "SENEHA V S"
                    ],
                    [
                      "SHANKAR.M"
                    ],
                    [
                      "SHARAVANAN B"
                    ],
                    [
                      "SHARUKH KHAN I M"
                    ],
                    [
                      "SHRIHARI SENTHIL KUMAR"
                    ],
                    [
                      "TAARINIE SEN"
                    ],
                    [
                      "TARIKA SEN"
                    ],
                    [
                      "VAISHNAVEE R N"
                    ],
                    [
                      "VAISHNAVI G"
                    ],
                    [
                      "VARSHA PRABHU"
                    ],
                    [
                      "GAUTAMAN M"
                    ],
                    [
                      "NAVEEN G"
                    ],
                    [
                      "RISHIKA M"
                    ],
                    [
                      "ARUN KUMAR S"
                    ],
                    [
                      "VIJAYAN C"
                    ]
                  ],
                  "hovertemplate": "CGPA=%{marker.color}<br>Package (FTE)=%{y}<br>Name=%{customdata[0]}<extra></extra>",
                  "legendgroup": "",
                  "marker": {
                    "color": [
                      8.91,
                      8.17,
                      9.53,
                      7.55,
                      8.68,
                      8.7,
                      7.45,
                      8.22,
                      8.42,
                      9.17,
                      8.12,
                      9.01,
                      9.25,
                      7.88,
                      7.83,
                      9.29,
                      9.43,
                      8.85,
                      8.11,
                      9.53,
                      8.57,
                      9.39,
                      9.12,
                      9.4,
                      8.57,
                      8.53,
                      9.01,
                      9.34,
                      8.43,
                      7.88,
                      7.1,
                      9.16,
                      7.82,
                      8.69,
                      8.12,
                      9.23,
                      9.54,
                      9.71,
                      8.39,
                      7.84,
                      8.33,
                      9.29,
                      8.86,
                      9.21,
                      7.53,
                      8.94,
                      7.65,
                      8.47,
                      7.61,
                      7.61,
                      9.45,
                      9,
                      8.17,
                      8.7,
                      9.23,
                      8.62,
                      7.31,
                      7.66
                    ],
                    "coloraxis": "coloraxis",
                    "size": [
                      8.91,
                      8.17,
                      9.53,
                      7.55,
                      8.68,
                      8.7,
                      7.45,
                      8.22,
                      8.42,
                      9.17,
                      8.12,
                      9.01,
                      9.25,
                      7.88,
                      7.83,
                      9.29,
                      9.43,
                      8.85,
                      8.11,
                      9.53,
                      8.57,
                      9.39,
                      9.12,
                      9.4,
                      8.57,
                      8.53,
                      9.01,
                      9.34,
                      8.43,
                      7.88,
                      7.1,
                      9.16,
                      7.82,
                      8.69,
                      8.12,
                      9.23,
                      9.54,
                      9.71,
                      8.39,
                      7.84,
                      8.33,
                      9.29,
                      8.86,
                      9.21,
                      7.53,
                      8.94,
                      7.65,
                      8.47,
                      7.61,
                      7.61,
                      9.45,
                      9,
                      8.17,
                      8.7,
                      9.23,
                      8.62,
                      7.31,
                      7.66
                    ],
                    "sizemode": "area",
                    "sizeref": 0.024275,
                    "symbol": "circle"
                  },
                  "mode": "markers",
                  "name": "",
                  "orientation": "v",
                  "showlegend": false,
                  "type": "scatter",
                  "x": [
                    8.91,
                    8.17,
                    9.53,
                    7.55,
                    8.68,
                    8.7,
                    7.45,
                    8.22,
                    8.42,
                    9.17,
                    8.12,
                    9.01,
                    9.25,
                    7.88,
                    7.83,
                    9.29,
                    9.43,
                    8.85,
                    8.11,
                    9.53,
                    8.57,
                    9.39,
                    9.12,
                    9.4,
                    8.57,
                    8.53,
                    9.01,
                    9.34,
                    8.43,
                    7.88,
                    7.1,
                    9.16,
                    7.82,
                    8.69,
                    8.12,
                    9.23,
                    9.54,
                    9.71,
                    8.39,
                    7.84,
                    8.33,
                    9.29,
                    8.86,
                    9.21,
                    7.53,
                    8.94,
                    7.65,
                    8.47,
                    7.61,
                    7.61,
                    9.45,
                    9,
                    8.17,
                    8.7,
                    9.23,
                    8.62,
                    7.31,
                    7.66
                  ],
                  "xaxis": "x",
                  "y": [
                    1035851,
                    1150000,
                    1293000,
                    800000,
                    760000,
                    1000000,
                    1000000,
                    800000,
                    1100000,
                    760000,
                    1312000,
                    1312000,
                    900000,
                    1179000,
                    450000,
                    1100000,
                    1293000,
                    1312000,
                    871785,
                    1665000,
                    1100000,
                    2533000,
                    760000,
                    1100000,
                    700000,
                    1972550,
                    1370000,
                    2533000,
                    1150000,
                    1312000,
                    450000,
                    2339800,
                    650000,
                    500000,
                    500000,
                    2067400,
                    1400000,
                    1293000,
                    700000,
                    900000,
                    1312000,
                    500000,
                    1972550,
                    1293000,
                    1000000,
                    1293000,
                    700000,
                    1370000,
                    650000,
                    650000,
                    900000,
                    1150000,
                    1900000,
                    500000,
                    1208800,
                    650000,
                    500000,
                    650000
                  ],
                  "yaxis": "y"
                }
              ],
              "layout": {
                "coloraxis": {
                  "colorbar": {
                    "title": {
                      "text": "CGPA"
                    }
                  },
                  "colorscale": [
                    [
                      0,
                      "#0d0887"
                    ],
                    [
                      0.1111111111111111,
                      "#46039f"
                    ],
                    [
                      0.2222222222222222,
                      "#7201a8"
                    ],
                    [
                      0.3333333333333333,
                      "#9c179e"
                    ],
                    [
                      0.4444444444444444,
                      "#bd3786"
                    ],
                    [
                      0.5555555555555556,
                      "#d8576b"
                    ],
                    [
                      0.6666666666666666,
                      "#ed7953"
                    ],
                    [
                      0.7777777777777778,
                      "#fb9f3a"
                    ],
                    [
                      0.8888888888888888,
                      "#fdca26"
                    ],
                    [
                      1,
                      "#f0f921"
                    ]
                  ]
                },
                "legend": {
                  "itemsizing": "constant",
                  "tracegroupgap": 0
                },
                "template": {
                  "data": {
                    "bar": [
                      {
                        "error_x": {
                          "color": "#2a3f5f"
                        },
                        "error_y": {
                          "color": "#2a3f5f"
                        },
                        "marker": {
                          "line": {
                            "color": "#E5ECF6",
                            "width": 0.5
                          },
                          "pattern": {
                            "fillmode": "overlay",
                            "size": 10,
                            "solidity": 0.2
                          }
                        },
                        "type": "bar"
                      }
                    ],
                    "barpolar": [
                      {
                        "marker": {
                          "line": {
                            "color": "#E5ECF6",
                            "width": 0.5
                          },
                          "pattern": {
                            "fillmode": "overlay",
                            "size": 10,
                            "solidity": 0.2
                          }
                        },
                        "type": "barpolar"
                      }
                    ],
                    "carpet": [
                      {
                        "aaxis": {
                          "endlinecolor": "#2a3f5f",
                          "gridcolor": "white",
                          "linecolor": "white",
                          "minorgridcolor": "white",
                          "startlinecolor": "#2a3f5f"
                        },
                        "baxis": {
                          "endlinecolor": "#2a3f5f",
                          "gridcolor": "white",
                          "linecolor": "white",
                          "minorgridcolor": "white",
                          "startlinecolor": "#2a3f5f"
                        },
                        "type": "carpet"
                      }
                    ],
                    "choropleth": [
                      {
                        "colorbar": {
                          "outlinewidth": 0,
                          "ticks": ""
                        },
                        "type": "choropleth"
                      }
                    ],
                    "contour": [
                      {
                        "colorbar": {
                          "outlinewidth": 0,
                          "ticks": ""
                        },
                        "colorscale": [
                          [
                            0,
                            "#0d0887"
                          ],
                          [
                            0.1111111111111111,
                            "#46039f"
                          ],
                          [
                            0.2222222222222222,
                            "#7201a8"
                          ],
                          [
                            0.3333333333333333,
                            "#9c179e"
                          ],
                          [
                            0.4444444444444444,
                            "#bd3786"
                          ],
                          [
                            0.5555555555555556,
                            "#d8576b"
                          ],
                          [
                            0.6666666666666666,
                            "#ed7953"
                          ],
                          [
                            0.7777777777777778,
                            "#fb9f3a"
                          ],
                          [
                            0.8888888888888888,
                            "#fdca26"
                          ],
                          [
                            1,
                            "#f0f921"
                          ]
                        ],
                        "type": "contour"
                      }
                    ],
                    "contourcarpet": [
                      {
                        "colorbar": {
                          "outlinewidth": 0,
                          "ticks": ""
                        },
                        "type": "contourcarpet"
                      }
                    ],
                    "heatmap": [
                      {
                        "colorbar": {
                          "outlinewidth": 0,
                          "ticks": ""
                        },
                        "colorscale": [
                          [
                            0,
                            "#0d0887"
                          ],
                          [
                            0.1111111111111111,
                            "#46039f"
                          ],
                          [
                            0.2222222222222222,
                            "#7201a8"
                          ],
                          [
                            0.3333333333333333,
                            "#9c179e"
                          ],
                          [
                            0.4444444444444444,
                            "#bd3786"
                          ],
                          [
                            0.5555555555555556,
                            "#d8576b"
                          ],
                          [
                            0.6666666666666666,
                            "#ed7953"
                          ],
                          [
                            0.7777777777777778,
                            "#fb9f3a"
                          ],
                          [
                            0.8888888888888888,
                            "#fdca26"
                          ],
                          [
                            1,
                            "#f0f921"
                          ]
                        ],
                        "type": "heatmap"
                      }
                    ],
                    "heatmapgl": [
                      {
                        "colorbar": {
                          "outlinewidth": 0,
                          "ticks": ""
                        },
                        "colorscale": [
                          [
                            0,
                            "#0d0887"
                          ],
                          [
                            0.1111111111111111,
                            "#46039f"
                          ],
                          [
                            0.2222222222222222,
                            "#7201a8"
                          ],
                          [
                            0.3333333333333333,
                            "#9c179e"
                          ],
                          [
                            0.4444444444444444,
                            "#bd3786"
                          ],
                          [
                            0.5555555555555556,
                            "#d8576b"
                          ],
                          [
                            0.6666666666666666,
                            "#ed7953"
                          ],
                          [
                            0.7777777777777778,
                            "#fb9f3a"
                          ],
                          [
                            0.8888888888888888,
                            "#fdca26"
                          ],
                          [
                            1,
                            "#f0f921"
                          ]
                        ],
                        "type": "heatmapgl"
                      }
                    ],
                    "histogram": [
                      {
                        "marker": {
                          "pattern": {
                            "fillmode": "overlay",
                            "size": 10,
                            "solidity": 0.2
                          }
                        },
                        "type": "histogram"
                      }
                    ],
                    "histogram2d": [
                      {
                        "colorbar": {
                          "outlinewidth": 0,
                          "ticks": ""
                        },
                        "colorscale": [
                          [
                            0,
                            "#0d0887"
                          ],
                          [
                            0.1111111111111111,
                            "#46039f"
                          ],
                          [
                            0.2222222222222222,
                            "#7201a8"
                          ],
                          [
                            0.3333333333333333,
                            "#9c179e"
                          ],
                          [
                            0.4444444444444444,
                            "#bd3786"
                          ],
                          [
                            0.5555555555555556,
                            "#d8576b"
                          ],
                          [
                            0.6666666666666666,
                            "#ed7953"
                          ],
                          [
                            0.7777777777777778,
                            "#fb9f3a"
                          ],
                          [
                            0.8888888888888888,
                            "#fdca26"
                          ],
                          [
                            1,
                            "#f0f921"
                          ]
                        ],
                        "type": "histogram2d"
                      }
                    ],
                    "histogram2dcontour": [
                      {
                        "colorbar": {
                          "outlinewidth": 0,
                          "ticks": ""
                        },
                        "colorscale": [
                          [
                            0,
                            "#0d0887"
                          ],
                          [
                            0.1111111111111111,
                            "#46039f"
                          ],
                          [
                            0.2222222222222222,
                            "#7201a8"
                          ],
                          [
                            0.3333333333333333,
                            "#9c179e"
                          ],
                          [
                            0.4444444444444444,
                            "#bd3786"
                          ],
                          [
                            0.5555555555555556,
                            "#d8576b"
                          ],
                          [
                            0.6666666666666666,
                            "#ed7953"
                          ],
                          [
                            0.7777777777777778,
                            "#fb9f3a"
                          ],
                          [
                            0.8888888888888888,
                            "#fdca26"
                          ],
                          [
                            1,
                            "#f0f921"
                          ]
                        ],
                        "type": "histogram2dcontour"
                      }
                    ],
                    "mesh3d": [
                      {
                        "colorbar": {
                          "outlinewidth": 0,
                          "ticks": ""
                        },
                        "type": "mesh3d"
                      }
                    ],
                    "parcoords": [
                      {
                        "line": {
                          "colorbar": {
                            "outlinewidth": 0,
                            "ticks": ""
                          }
                        },
                        "type": "parcoords"
                      }
                    ],
                    "pie": [
                      {
                        "automargin": true,
                        "type": "pie"
                      }
                    ],
                    "scatter": [
                      {
                        "fillpattern": {
                          "fillmode": "overlay",
                          "size": 10,
                          "solidity": 0.2
                        },
                        "type": "scatter"
                      }
                    ],
                    "scatter3d": [
                      {
                        "line": {
                          "colorbar": {
                            "outlinewidth": 0,
                            "ticks": ""
                          }
                        },
                        "marker": {
                          "colorbar": {
                            "outlinewidth": 0,
                            "ticks": ""
                          }
                        },
                        "type": "scatter3d"
                      }
                    ],
                    "scattercarpet": [
                      {
                        "marker": {
                          "colorbar": {
                            "outlinewidth": 0,
                            "ticks": ""
                          }
                        },
                        "type": "scattercarpet"
                      }
                    ],
                    "scattergeo": [
                      {
                        "marker": {
                          "colorbar": {
                            "outlinewidth": 0,
                            "ticks": ""
                          }
                        },
                        "type": "scattergeo"
                      }
                    ],
                    "scattergl": [
                      {
                        "marker": {
                          "colorbar": {
                            "outlinewidth": 0,
                            "ticks": ""
                          }
                        },
                        "type": "scattergl"
                      }
                    ],
                    "scattermapbox": [
                      {
                        "marker": {
                          "colorbar": {
                            "outlinewidth": 0,
                            "ticks": ""
                          }
                        },
                        "type": "scattermapbox"
                      }
                    ],
                    "scatterpolar": [
                      {
                        "marker": {
                          "colorbar": {
                            "outlinewidth": 0,
                            "ticks": ""
                          }
                        },
                        "type": "scatterpolar"
                      }
                    ],
                    "scatterpolargl": [
                      {
                        "marker": {
                          "colorbar": {
                            "outlinewidth": 0,
                            "ticks": ""
                          }
                        },
                        "type": "scatterpolargl"
                      }
                    ],
                    "scatterternary": [
                      {
                        "marker": {
                          "colorbar": {
                            "outlinewidth": 0,
                            "ticks": ""
                          }
                        },
                        "type": "scatterternary"
                      }
                    ],
                    "surface": [
                      {
                        "colorbar": {
                          "outlinewidth": 0,
                          "ticks": ""
                        },
                        "colorscale": [
                          [
                            0,
                            "#0d0887"
                          ],
                          [
                            0.1111111111111111,
                            "#46039f"
                          ],
                          [
                            0.2222222222222222,
                            "#7201a8"
                          ],
                          [
                            0.3333333333333333,
                            "#9c179e"
                          ],
                          [
                            0.4444444444444444,
                            "#bd3786"
                          ],
                          [
                            0.5555555555555556,
                            "#d8576b"
                          ],
                          [
                            0.6666666666666666,
                            "#ed7953"
                          ],
                          [
                            0.7777777777777778,
                            "#fb9f3a"
                          ],
                          [
                            0.8888888888888888,
                            "#fdca26"
                          ],
                          [
                            1,
                            "#f0f921"
                          ]
                        ],
                        "type": "surface"
                      }
                    ],
                    "table": [
                      {
                        "cells": {
                          "fill": {
                            "color": "#EBF0F8"
                          },
                          "line": {
                            "color": "white"
                          }
                        },
                        "header": {
                          "fill": {
                            "color": "#C8D4E3"
                          },
                          "line": {
                            "color": "white"
                          }
                        },
                        "type": "table"
                      }
                    ]
                  },
                  "layout": {
                    "annotationdefaults": {
                      "arrowcolor": "#2a3f5f",
                      "arrowhead": 0,
                      "arrowwidth": 1
                    },
                    "autotypenumbers": "strict",
                    "coloraxis": {
                      "colorbar": {
                        "outlinewidth": 0,
                        "ticks": ""
                      }
                    },
                    "colorscale": {
                      "diverging": [
                        [
                          0,
                          "#8e0152"
                        ],
                        [
                          0.1,
                          "#c51b7d"
                        ],
                        [
                          0.2,
                          "#de77ae"
                        ],
                        [
                          0.3,
                          "#f1b6da"
                        ],
                        [
                          0.4,
                          "#fde0ef"
                        ],
                        [
                          0.5,
                          "#f7f7f7"
                        ],
                        [
                          0.6,
                          "#e6f5d0"
                        ],
                        [
                          0.7,
                          "#b8e186"
                        ],
                        [
                          0.8,
                          "#7fbc41"
                        ],
                        [
                          0.9,
                          "#4d9221"
                        ],
                        [
                          1,
                          "#276419"
                        ]
                      ],
                      "sequential": [
                        [
                          0,
                          "#0d0887"
                        ],
                        [
                          0.1111111111111111,
                          "#46039f"
                        ],
                        [
                          0.2222222222222222,
                          "#7201a8"
                        ],
                        [
                          0.3333333333333333,
                          "#9c179e"
                        ],
                        [
                          0.4444444444444444,
                          "#bd3786"
                        ],
                        [
                          0.5555555555555556,
                          "#d8576b"
                        ],
                        [
                          0.6666666666666666,
                          "#ed7953"
                        ],
                        [
                          0.7777777777777778,
                          "#fb9f3a"
                        ],
                        [
                          0.8888888888888888,
                          "#fdca26"
                        ],
                        [
                          1,
                          "#f0f921"
                        ]
                      ],
                      "sequentialminus": [
                        [
                          0,
                          "#0d0887"
                        ],
                        [
                          0.1111111111111111,
                          "#46039f"
                        ],
                        [
                          0.2222222222222222,
                          "#7201a8"
                        ],
                        [
                          0.3333333333333333,
                          "#9c179e"
                        ],
                        [
                          0.4444444444444444,
                          "#bd3786"
                        ],
                        [
                          0.5555555555555556,
                          "#d8576b"
                        ],
                        [
                          0.6666666666666666,
                          "#ed7953"
                        ],
                        [
                          0.7777777777777778,
                          "#fb9f3a"
                        ],
                        [
                          0.8888888888888888,
                          "#fdca26"
                        ],
                        [
                          1,
                          "#f0f921"
                        ]
                      ]
                    },
                    "colorway": [
                      "#636efa",
                      "#EF553B",
                      "#00cc96",
                      "#ab63fa",
                      "#FFA15A",
                      "#19d3f3",
                      "#FF6692",
                      "#B6E880",
                      "#FF97FF",
                      "#FECB52"
                    ],
                    "font": {
                      "color": "#2a3f5f"
                    },
                    "geo": {
                      "bgcolor": "white",
                      "lakecolor": "white",
                      "landcolor": "#E5ECF6",
                      "showlakes": true,
                      "showland": true,
                      "subunitcolor": "white"
                    },
                    "hoverlabel": {
                      "align": "left"
                    },
                    "hovermode": "closest",
                    "mapbox": {
                      "style": "light"
                    },
                    "paper_bgcolor": "white",
                    "plot_bgcolor": "#E5ECF6",
                    "polar": {
                      "angularaxis": {
                        "gridcolor": "white",
                        "linecolor": "white",
                        "ticks": ""
                      },
                      "bgcolor": "#E5ECF6",
                      "radialaxis": {
                        "gridcolor": "white",
                        "linecolor": "white",
                        "ticks": ""
                      }
                    },
                    "scene": {
                      "xaxis": {
                        "backgroundcolor": "#E5ECF6",
                        "gridcolor": "white",
                        "gridwidth": 2,
                        "linecolor": "white",
                        "showbackground": true,
                        "ticks": "",
                        "zerolinecolor": "white"
                      },
                      "yaxis": {
                        "backgroundcolor": "#E5ECF6",
                        "gridcolor": "white",
                        "gridwidth": 2,
                        "linecolor": "white",
                        "showbackground": true,
                        "ticks": "",
                        "zerolinecolor": "white"
                      },
                      "zaxis": {
                        "backgroundcolor": "#E5ECF6",
                        "gridcolor": "white",
                        "gridwidth": 2,
                        "linecolor": "white",
                        "showbackground": true,
                        "ticks": "",
                        "zerolinecolor": "white"
                      }
                    },
                    "shapedefaults": {
                      "line": {
                        "color": "#2a3f5f"
                      }
                    },
                    "ternary": {
                      "aaxis": {
                        "gridcolor": "white",
                        "linecolor": "white",
                        "ticks": ""
                      },
                      "baxis": {
                        "gridcolor": "white",
                        "linecolor": "white",
                        "ticks": ""
                      },
                      "bgcolor": "#E5ECF6",
                      "caxis": {
                        "gridcolor": "white",
                        "linecolor": "white",
                        "ticks": ""
                      }
                    },
                    "title": {
                      "x": 0.05
                    },
                    "xaxis": {
                      "automargin": true,
                      "gridcolor": "white",
                      "linecolor": "white",
                      "ticks": "",
                      "title": {
                        "standoff": 15
                      },
                      "zerolinecolor": "white",
                      "zerolinewidth": 2
                    },
                    "yaxis": {
                      "automargin": true,
                      "gridcolor": "white",
                      "linecolor": "white",
                      "ticks": "",
                      "title": {
                        "standoff": 15
                      },
                      "zerolinecolor": "white",
                      "zerolinewidth": 2
                    }
                  }
                },
                "title": {
                  "text": "Hover on the bubble to know the names"
                },
                "xaxis": {
                  "anchor": "y",
                  "domain": [
                    0,
                    1
                  ],
                  "title": {
                    "text": "CGPA"
                  }
                },
                "yaxis": {
                  "anchor": "x",
                  "domain": [
                    0,
                    1
                  ],
                  "title": {
                    "text": "Package (FTE)"
                  }
                }
              }
            }
          },
          "metadata": {},
          "output_type": "display_data"
        }
      ],
      "source": [
        "fig = px.scatter(placement, x=\"CGPA\", y=\"Package (FTE)\", color=\"CGPA\", title=\"Hover on the bubble to know the names\",\n",
        "                 size='CGPA', hover_data=['Name'])\n",
        "fig.show()"
      ]
    },
    {
      "cell_type": "code",
      "execution_count": 218,
      "metadata": {
        "colab": {
          "base_uri": "https://localhost:8080/",
          "height": 542
        },
        "id": "EK7QIBO1xBGZ",
        "outputId": "c038eb02-c81a-4f26-c264-623287b4e10f"
      },
      "outputs": [
        {
          "data": {
            "application/vnd.plotly.v1+json": {
              "config": {
                "plotlyServerURL": "https://plot.ly"
              },
              "data": [
                {
                  "alignmentgroup": "True",
                  "customdata": [
                    [
                      "ABINAYA M P"
                    ],
                    [
                      "ABIRAMI A P"
                    ],
                    [
                      "ADITHYA HARISH S M"
                    ],
                    [
                      "AISHVARYA G"
                    ],
                    [
                      "AKSHAYA B"
                    ],
                    [
                      "ANNAPOORNA K ATHREYA"
                    ],
                    [
                      "ASHWIN BALAJI.S"
                    ],
                    [
                      "BARANI DEVI E"
                    ],
                    [
                      "BHARATH S"
                    ],
                    [
                      "BHAVADHARANI S"
                    ],
                    [
                      "BHUVANESHWARAN R"
                    ],
                    [
                      "CHATRASHWAR G V"
                    ],
                    [
                      "DARSINI V"
                    ],
                    [
                      "EZHILARASAN S"
                    ],
                    [
                      "GAYATHRI A"
                    ],
                    [
                      "GAYATHRI S"
                    ],
                    [
                      "GOKUL KUMAR B"
                    ],
                    [
                      "HARIHARAN K"
                    ],
                    [
                      "JAI BHAARATH S"
                    ],
                    [
                      "KARTHI VIJAYAKUMAAR"
                    ],
                    [
                      "KAVYA S"
                    ],
                    [
                      "KEERTHANA S"
                    ],
                    [
                      "KOKILA S"
                    ],
                    [
                      "LAKSHITHA R"
                    ],
                    [
                      "MAHITHA SHREE M"
                    ],
                    [
                      "MOHAMED MURSHIDH A"
                    ],
                    [
                      "MOHANA LAKSHMI M"
                    ],
                    [
                      "NAVEENRAJ R"
                    ],
                    [
                      "NISHAND S"
                    ],
                    [
                      "NITHIN CHRISTOPHER"
                    ],
                    [
                      "NITHYASRI  N"
                    ],
                    [
                      "NIVETHA R"
                    ],
                    [
                      "POOJASHREE B"
                    ],
                    [
                      "PRADEPA S "
                    ],
                    [
                      "PREETHA P"
                    ],
                    [
                      "PREETHA SB"
                    ],
                    [
                      "PRIYADHARSHINI G"
                    ],
                    [
                      "RAVI SUBRAMANIAN N"
                    ],
                    [
                      "REENA PRABHA M"
                    ],
                    [
                      "RITESH NIRMAL R"
                    ],
                    [
                      "SAMYUKTA R"
                    ],
                    [
                      "SARANYA S"
                    ],
                    [
                      "SARANYA V"
                    ],
                    [
                      "SENEHA V S"
                    ],
                    [
                      "SHANKAR.M"
                    ],
                    [
                      "SHARAVANAN B"
                    ],
                    [
                      "SHARUKH KHAN I M"
                    ],
                    [
                      "SHRIHARI SENTHIL KUMAR"
                    ],
                    [
                      "TAARINIE SEN"
                    ],
                    [
                      "TARIKA SEN"
                    ],
                    [
                      "VAISHNAVEE R N"
                    ],
                    [
                      "VAISHNAVI G"
                    ],
                    [
                      "VARSHA PRABHU"
                    ],
                    [
                      "GAUTAMAN M"
                    ],
                    [
                      "NAVEEN G"
                    ],
                    [
                      "RISHIKA M"
                    ],
                    [
                      "ARUN KUMAR S"
                    ],
                    [
                      "VIJAYAN C"
                    ]
                  ],
                  "hovertemplate": "CGPA_round=%{x}<br>Package (FTE)=%{y}<br>Name=%{customdata[0]}<extra></extra>",
                  "legendgroup": "",
                  "marker": {
                    "color": "#636efa"
                  },
                  "name": "",
                  "notched": false,
                  "offsetgroup": "",
                  "orientation": "v",
                  "showlegend": false,
                  "type": "box",
                  "x": [
                    9,
                    8,
                    10,
                    8,
                    9,
                    9,
                    7,
                    8,
                    8,
                    9,
                    8,
                    9,
                    9,
                    8,
                    8,
                    9,
                    9,
                    9,
                    8,
                    10,
                    9,
                    9,
                    9,
                    9,
                    9,
                    9,
                    9,
                    9,
                    8,
                    8,
                    7,
                    9,
                    8,
                    9,
                    8,
                    9,
                    10,
                    10,
                    8,
                    8,
                    8,
                    9,
                    9,
                    9,
                    8,
                    9,
                    8,
                    8,
                    8,
                    8,
                    9,
                    9,
                    8,
                    9,
                    9,
                    9,
                    7,
                    8
                  ],
                  "x0": " ",
                  "xaxis": "x",
                  "y": [
                    1035851,
                    1150000,
                    1293000,
                    800000,
                    760000,
                    1000000,
                    1000000,
                    800000,
                    1100000,
                    760000,
                    1312000,
                    1312000,
                    900000,
                    1179000,
                    450000,
                    1100000,
                    1293000,
                    1312000,
                    871785,
                    1665000,
                    1100000,
                    2533000,
                    760000,
                    1100000,
                    700000,
                    1972550,
                    1370000,
                    2533000,
                    1150000,
                    1312000,
                    450000,
                    2339800,
                    650000,
                    500000,
                    500000,
                    2067400,
                    1400000,
                    1293000,
                    700000,
                    900000,
                    1312000,
                    500000,
                    1972550,
                    1293000,
                    1000000,
                    1293000,
                    700000,
                    1370000,
                    650000,
                    650000,
                    900000,
                    1150000,
                    1900000,
                    500000,
                    1208800,
                    650000,
                    500000,
                    650000
                  ],
                  "y0": " ",
                  "yaxis": "y"
                }
              ],
              "layout": {
                "boxmode": "group",
                "legend": {
                  "tracegroupgap": 0
                },
                "template": {
                  "data": {
                    "bar": [
                      {
                        "error_x": {
                          "color": "#2a3f5f"
                        },
                        "error_y": {
                          "color": "#2a3f5f"
                        },
                        "marker": {
                          "line": {
                            "color": "#E5ECF6",
                            "width": 0.5
                          },
                          "pattern": {
                            "fillmode": "overlay",
                            "size": 10,
                            "solidity": 0.2
                          }
                        },
                        "type": "bar"
                      }
                    ],
                    "barpolar": [
                      {
                        "marker": {
                          "line": {
                            "color": "#E5ECF6",
                            "width": 0.5
                          },
                          "pattern": {
                            "fillmode": "overlay",
                            "size": 10,
                            "solidity": 0.2
                          }
                        },
                        "type": "barpolar"
                      }
                    ],
                    "carpet": [
                      {
                        "aaxis": {
                          "endlinecolor": "#2a3f5f",
                          "gridcolor": "white",
                          "linecolor": "white",
                          "minorgridcolor": "white",
                          "startlinecolor": "#2a3f5f"
                        },
                        "baxis": {
                          "endlinecolor": "#2a3f5f",
                          "gridcolor": "white",
                          "linecolor": "white",
                          "minorgridcolor": "white",
                          "startlinecolor": "#2a3f5f"
                        },
                        "type": "carpet"
                      }
                    ],
                    "choropleth": [
                      {
                        "colorbar": {
                          "outlinewidth": 0,
                          "ticks": ""
                        },
                        "type": "choropleth"
                      }
                    ],
                    "contour": [
                      {
                        "colorbar": {
                          "outlinewidth": 0,
                          "ticks": ""
                        },
                        "colorscale": [
                          [
                            0,
                            "#0d0887"
                          ],
                          [
                            0.1111111111111111,
                            "#46039f"
                          ],
                          [
                            0.2222222222222222,
                            "#7201a8"
                          ],
                          [
                            0.3333333333333333,
                            "#9c179e"
                          ],
                          [
                            0.4444444444444444,
                            "#bd3786"
                          ],
                          [
                            0.5555555555555556,
                            "#d8576b"
                          ],
                          [
                            0.6666666666666666,
                            "#ed7953"
                          ],
                          [
                            0.7777777777777778,
                            "#fb9f3a"
                          ],
                          [
                            0.8888888888888888,
                            "#fdca26"
                          ],
                          [
                            1,
                            "#f0f921"
                          ]
                        ],
                        "type": "contour"
                      }
                    ],
                    "contourcarpet": [
                      {
                        "colorbar": {
                          "outlinewidth": 0,
                          "ticks": ""
                        },
                        "type": "contourcarpet"
                      }
                    ],
                    "heatmap": [
                      {
                        "colorbar": {
                          "outlinewidth": 0,
                          "ticks": ""
                        },
                        "colorscale": [
                          [
                            0,
                            "#0d0887"
                          ],
                          [
                            0.1111111111111111,
                            "#46039f"
                          ],
                          [
                            0.2222222222222222,
                            "#7201a8"
                          ],
                          [
                            0.3333333333333333,
                            "#9c179e"
                          ],
                          [
                            0.4444444444444444,
                            "#bd3786"
                          ],
                          [
                            0.5555555555555556,
                            "#d8576b"
                          ],
                          [
                            0.6666666666666666,
                            "#ed7953"
                          ],
                          [
                            0.7777777777777778,
                            "#fb9f3a"
                          ],
                          [
                            0.8888888888888888,
                            "#fdca26"
                          ],
                          [
                            1,
                            "#f0f921"
                          ]
                        ],
                        "type": "heatmap"
                      }
                    ],
                    "heatmapgl": [
                      {
                        "colorbar": {
                          "outlinewidth": 0,
                          "ticks": ""
                        },
                        "colorscale": [
                          [
                            0,
                            "#0d0887"
                          ],
                          [
                            0.1111111111111111,
                            "#46039f"
                          ],
                          [
                            0.2222222222222222,
                            "#7201a8"
                          ],
                          [
                            0.3333333333333333,
                            "#9c179e"
                          ],
                          [
                            0.4444444444444444,
                            "#bd3786"
                          ],
                          [
                            0.5555555555555556,
                            "#d8576b"
                          ],
                          [
                            0.6666666666666666,
                            "#ed7953"
                          ],
                          [
                            0.7777777777777778,
                            "#fb9f3a"
                          ],
                          [
                            0.8888888888888888,
                            "#fdca26"
                          ],
                          [
                            1,
                            "#f0f921"
                          ]
                        ],
                        "type": "heatmapgl"
                      }
                    ],
                    "histogram": [
                      {
                        "marker": {
                          "pattern": {
                            "fillmode": "overlay",
                            "size": 10,
                            "solidity": 0.2
                          }
                        },
                        "type": "histogram"
                      }
                    ],
                    "histogram2d": [
                      {
                        "colorbar": {
                          "outlinewidth": 0,
                          "ticks": ""
                        },
                        "colorscale": [
                          [
                            0,
                            "#0d0887"
                          ],
                          [
                            0.1111111111111111,
                            "#46039f"
                          ],
                          [
                            0.2222222222222222,
                            "#7201a8"
                          ],
                          [
                            0.3333333333333333,
                            "#9c179e"
                          ],
                          [
                            0.4444444444444444,
                            "#bd3786"
                          ],
                          [
                            0.5555555555555556,
                            "#d8576b"
                          ],
                          [
                            0.6666666666666666,
                            "#ed7953"
                          ],
                          [
                            0.7777777777777778,
                            "#fb9f3a"
                          ],
                          [
                            0.8888888888888888,
                            "#fdca26"
                          ],
                          [
                            1,
                            "#f0f921"
                          ]
                        ],
                        "type": "histogram2d"
                      }
                    ],
                    "histogram2dcontour": [
                      {
                        "colorbar": {
                          "outlinewidth": 0,
                          "ticks": ""
                        },
                        "colorscale": [
                          [
                            0,
                            "#0d0887"
                          ],
                          [
                            0.1111111111111111,
                            "#46039f"
                          ],
                          [
                            0.2222222222222222,
                            "#7201a8"
                          ],
                          [
                            0.3333333333333333,
                            "#9c179e"
                          ],
                          [
                            0.4444444444444444,
                            "#bd3786"
                          ],
                          [
                            0.5555555555555556,
                            "#d8576b"
                          ],
                          [
                            0.6666666666666666,
                            "#ed7953"
                          ],
                          [
                            0.7777777777777778,
                            "#fb9f3a"
                          ],
                          [
                            0.8888888888888888,
                            "#fdca26"
                          ],
                          [
                            1,
                            "#f0f921"
                          ]
                        ],
                        "type": "histogram2dcontour"
                      }
                    ],
                    "mesh3d": [
                      {
                        "colorbar": {
                          "outlinewidth": 0,
                          "ticks": ""
                        },
                        "type": "mesh3d"
                      }
                    ],
                    "parcoords": [
                      {
                        "line": {
                          "colorbar": {
                            "outlinewidth": 0,
                            "ticks": ""
                          }
                        },
                        "type": "parcoords"
                      }
                    ],
                    "pie": [
                      {
                        "automargin": true,
                        "type": "pie"
                      }
                    ],
                    "scatter": [
                      {
                        "fillpattern": {
                          "fillmode": "overlay",
                          "size": 10,
                          "solidity": 0.2
                        },
                        "type": "scatter"
                      }
                    ],
                    "scatter3d": [
                      {
                        "line": {
                          "colorbar": {
                            "outlinewidth": 0,
                            "ticks": ""
                          }
                        },
                        "marker": {
                          "colorbar": {
                            "outlinewidth": 0,
                            "ticks": ""
                          }
                        },
                        "type": "scatter3d"
                      }
                    ],
                    "scattercarpet": [
                      {
                        "marker": {
                          "colorbar": {
                            "outlinewidth": 0,
                            "ticks": ""
                          }
                        },
                        "type": "scattercarpet"
                      }
                    ],
                    "scattergeo": [
                      {
                        "marker": {
                          "colorbar": {
                            "outlinewidth": 0,
                            "ticks": ""
                          }
                        },
                        "type": "scattergeo"
                      }
                    ],
                    "scattergl": [
                      {
                        "marker": {
                          "colorbar": {
                            "outlinewidth": 0,
                            "ticks": ""
                          }
                        },
                        "type": "scattergl"
                      }
                    ],
                    "scattermapbox": [
                      {
                        "marker": {
                          "colorbar": {
                            "outlinewidth": 0,
                            "ticks": ""
                          }
                        },
                        "type": "scattermapbox"
                      }
                    ],
                    "scatterpolar": [
                      {
                        "marker": {
                          "colorbar": {
                            "outlinewidth": 0,
                            "ticks": ""
                          }
                        },
                        "type": "scatterpolar"
                      }
                    ],
                    "scatterpolargl": [
                      {
                        "marker": {
                          "colorbar": {
                            "outlinewidth": 0,
                            "ticks": ""
                          }
                        },
                        "type": "scatterpolargl"
                      }
                    ],
                    "scatterternary": [
                      {
                        "marker": {
                          "colorbar": {
                            "outlinewidth": 0,
                            "ticks": ""
                          }
                        },
                        "type": "scatterternary"
                      }
                    ],
                    "surface": [
                      {
                        "colorbar": {
                          "outlinewidth": 0,
                          "ticks": ""
                        },
                        "colorscale": [
                          [
                            0,
                            "#0d0887"
                          ],
                          [
                            0.1111111111111111,
                            "#46039f"
                          ],
                          [
                            0.2222222222222222,
                            "#7201a8"
                          ],
                          [
                            0.3333333333333333,
                            "#9c179e"
                          ],
                          [
                            0.4444444444444444,
                            "#bd3786"
                          ],
                          [
                            0.5555555555555556,
                            "#d8576b"
                          ],
                          [
                            0.6666666666666666,
                            "#ed7953"
                          ],
                          [
                            0.7777777777777778,
                            "#fb9f3a"
                          ],
                          [
                            0.8888888888888888,
                            "#fdca26"
                          ],
                          [
                            1,
                            "#f0f921"
                          ]
                        ],
                        "type": "surface"
                      }
                    ],
                    "table": [
                      {
                        "cells": {
                          "fill": {
                            "color": "#EBF0F8"
                          },
                          "line": {
                            "color": "white"
                          }
                        },
                        "header": {
                          "fill": {
                            "color": "#C8D4E3"
                          },
                          "line": {
                            "color": "white"
                          }
                        },
                        "type": "table"
                      }
                    ]
                  },
                  "layout": {
                    "annotationdefaults": {
                      "arrowcolor": "#2a3f5f",
                      "arrowhead": 0,
                      "arrowwidth": 1
                    },
                    "autotypenumbers": "strict",
                    "coloraxis": {
                      "colorbar": {
                        "outlinewidth": 0,
                        "ticks": ""
                      }
                    },
                    "colorscale": {
                      "diverging": [
                        [
                          0,
                          "#8e0152"
                        ],
                        [
                          0.1,
                          "#c51b7d"
                        ],
                        [
                          0.2,
                          "#de77ae"
                        ],
                        [
                          0.3,
                          "#f1b6da"
                        ],
                        [
                          0.4,
                          "#fde0ef"
                        ],
                        [
                          0.5,
                          "#f7f7f7"
                        ],
                        [
                          0.6,
                          "#e6f5d0"
                        ],
                        [
                          0.7,
                          "#b8e186"
                        ],
                        [
                          0.8,
                          "#7fbc41"
                        ],
                        [
                          0.9,
                          "#4d9221"
                        ],
                        [
                          1,
                          "#276419"
                        ]
                      ],
                      "sequential": [
                        [
                          0,
                          "#0d0887"
                        ],
                        [
                          0.1111111111111111,
                          "#46039f"
                        ],
                        [
                          0.2222222222222222,
                          "#7201a8"
                        ],
                        [
                          0.3333333333333333,
                          "#9c179e"
                        ],
                        [
                          0.4444444444444444,
                          "#bd3786"
                        ],
                        [
                          0.5555555555555556,
                          "#d8576b"
                        ],
                        [
                          0.6666666666666666,
                          "#ed7953"
                        ],
                        [
                          0.7777777777777778,
                          "#fb9f3a"
                        ],
                        [
                          0.8888888888888888,
                          "#fdca26"
                        ],
                        [
                          1,
                          "#f0f921"
                        ]
                      ],
                      "sequentialminus": [
                        [
                          0,
                          "#0d0887"
                        ],
                        [
                          0.1111111111111111,
                          "#46039f"
                        ],
                        [
                          0.2222222222222222,
                          "#7201a8"
                        ],
                        [
                          0.3333333333333333,
                          "#9c179e"
                        ],
                        [
                          0.4444444444444444,
                          "#bd3786"
                        ],
                        [
                          0.5555555555555556,
                          "#d8576b"
                        ],
                        [
                          0.6666666666666666,
                          "#ed7953"
                        ],
                        [
                          0.7777777777777778,
                          "#fb9f3a"
                        ],
                        [
                          0.8888888888888888,
                          "#fdca26"
                        ],
                        [
                          1,
                          "#f0f921"
                        ]
                      ]
                    },
                    "colorway": [
                      "#636efa",
                      "#EF553B",
                      "#00cc96",
                      "#ab63fa",
                      "#FFA15A",
                      "#19d3f3",
                      "#FF6692",
                      "#B6E880",
                      "#FF97FF",
                      "#FECB52"
                    ],
                    "font": {
                      "color": "#2a3f5f"
                    },
                    "geo": {
                      "bgcolor": "white",
                      "lakecolor": "white",
                      "landcolor": "#E5ECF6",
                      "showlakes": true,
                      "showland": true,
                      "subunitcolor": "white"
                    },
                    "hoverlabel": {
                      "align": "left"
                    },
                    "hovermode": "closest",
                    "mapbox": {
                      "style": "light"
                    },
                    "paper_bgcolor": "white",
                    "plot_bgcolor": "#E5ECF6",
                    "polar": {
                      "angularaxis": {
                        "gridcolor": "white",
                        "linecolor": "white",
                        "ticks": ""
                      },
                      "bgcolor": "#E5ECF6",
                      "radialaxis": {
                        "gridcolor": "white",
                        "linecolor": "white",
                        "ticks": ""
                      }
                    },
                    "scene": {
                      "xaxis": {
                        "backgroundcolor": "#E5ECF6",
                        "gridcolor": "white",
                        "gridwidth": 2,
                        "linecolor": "white",
                        "showbackground": true,
                        "ticks": "",
                        "zerolinecolor": "white"
                      },
                      "yaxis": {
                        "backgroundcolor": "#E5ECF6",
                        "gridcolor": "white",
                        "gridwidth": 2,
                        "linecolor": "white",
                        "showbackground": true,
                        "ticks": "",
                        "zerolinecolor": "white"
                      },
                      "zaxis": {
                        "backgroundcolor": "#E5ECF6",
                        "gridcolor": "white",
                        "gridwidth": 2,
                        "linecolor": "white",
                        "showbackground": true,
                        "ticks": "",
                        "zerolinecolor": "white"
                      }
                    },
                    "shapedefaults": {
                      "line": {
                        "color": "#2a3f5f"
                      }
                    },
                    "ternary": {
                      "aaxis": {
                        "gridcolor": "white",
                        "linecolor": "white",
                        "ticks": ""
                      },
                      "baxis": {
                        "gridcolor": "white",
                        "linecolor": "white",
                        "ticks": ""
                      },
                      "bgcolor": "#E5ECF6",
                      "caxis": {
                        "gridcolor": "white",
                        "linecolor": "white",
                        "ticks": ""
                      }
                    },
                    "title": {
                      "x": 0.05
                    },
                    "xaxis": {
                      "automargin": true,
                      "gridcolor": "white",
                      "linecolor": "white",
                      "ticks": "",
                      "title": {
                        "standoff": 15
                      },
                      "zerolinecolor": "white",
                      "zerolinewidth": 2
                    },
                    "yaxis": {
                      "automargin": true,
                      "gridcolor": "white",
                      "linecolor": "white",
                      "ticks": "",
                      "title": {
                        "standoff": 15
                      },
                      "zerolinecolor": "white",
                      "zerolinewidth": 2
                    }
                  }
                },
                "title": {
                  "text": "Hover on the bubble to know the names"
                },
                "xaxis": {
                  "anchor": "y",
                  "domain": [
                    0,
                    1
                  ],
                  "title": {
                    "text": "CGPA_round"
                  }
                },
                "yaxis": {
                  "anchor": "x",
                  "domain": [
                    0,
                    1
                  ],
                  "title": {
                    "text": "Package (FTE)"
                  }
                }
              }
            }
          },
          "metadata": {},
          "output_type": "display_data"
        }
      ],
      "source": [
        "fig = px.box(placement, x=\"CGPA_round\", y=\"Package (FTE)\", title=\"Hover on the bubble to know the names\", hover_data=['Name'])\n",
        "fig.show()"
      ]
    },
    {
      "cell_type": "code",
      "execution_count": 219,
      "metadata": {
        "colab": {
          "base_uri": "https://localhost:8080/",
          "height": 143
        },
        "id": "J167r32TiwdN",
        "outputId": "d6e25dad-cd46-4837-e0a3-1c431937272e"
      },
      "outputs": [
        {
          "data": {
            "text/html": [
              "<div>\n",
              "<style scoped>\n",
              "    .dataframe tbody tr th:only-of-type {\n",
              "        vertical-align: middle;\n",
              "    }\n",
              "\n",
              "    .dataframe tbody tr th {\n",
              "        vertical-align: top;\n",
              "    }\n",
              "\n",
              "    .dataframe thead th {\n",
              "        text-align: right;\n",
              "    }\n",
              "</style>\n",
              "<table border=\"1\" class=\"dataframe\">\n",
              "  <thead>\n",
              "    <tr style=\"text-align: right;\">\n",
              "      <th></th>\n",
              "      <th>Name</th>\n",
              "      <th>CGPA</th>\n",
              "      <th>Company Name</th>\n",
              "      <th>Package (FTE)</th>\n",
              "      <th>Package (Intern)</th>\n",
              "      <th>Intern Joining Date</th>\n",
              "      <th>FTE Joining Date</th>\n",
              "      <th>CGPA_round</th>\n",
              "    </tr>\n",
              "    <tr>\n",
              "      <th>Roll Number</th>\n",
              "      <th></th>\n",
              "      <th></th>\n",
              "      <th></th>\n",
              "      <th></th>\n",
              "      <th></th>\n",
              "      <th></th>\n",
              "      <th></th>\n",
              "      <th></th>\n",
              "    </tr>\n",
              "  </thead>\n",
              "  <tbody>\n",
              "    <tr>\n",
              "      <th>18I225</th>\n",
              "      <td>KEERTHANA S</td>\n",
              "      <td>9.39</td>\n",
              "      <td>Morgan Stanley</td>\n",
              "      <td>2533000</td>\n",
              "      <td>87,000/month</td>\n",
              "      <td>24 Jan 2022</td>\n",
              "      <td>0</td>\n",
              "      <td>9.0</td>\n",
              "    </tr>\n",
              "    <tr>\n",
              "      <th>18I232</th>\n",
              "      <td>NAVEENRAJ R</td>\n",
              "      <td>9.34</td>\n",
              "      <td>Morgan Stanley</td>\n",
              "      <td>2533000</td>\n",
              "      <td>87,000/month</td>\n",
              "      <td>24 Jan 2022</td>\n",
              "      <td>0</td>\n",
              "      <td>9.0</td>\n",
              "    </tr>\n",
              "  </tbody>\n",
              "</table>\n",
              "</div>"
            ],
            "text/plain": [
              "0                   Name  CGPA    Company Name  Package (FTE)  \\\n",
              "Roll Number                                                     \n",
              "18I225       KEERTHANA S  9.39  Morgan Stanley        2533000   \n",
              "18I232       NAVEENRAJ R  9.34  Morgan Stanley        2533000   \n",
              "\n",
              "0           Package (Intern) Intern Joining Date FTE Joining Date  CGPA_round  \n",
              "Roll Number                                                                    \n",
              "18I225          87,000/month         24 Jan 2022                0         9.0  \n",
              "18I232          87,000/month         24 Jan 2022                0         9.0  "
            ]
          },
          "execution_count": 219,
          "metadata": {},
          "output_type": "execute_result"
        }
      ],
      "source": [
        "placement[placement['Package (FTE)'] == placement['Package (FTE)'].max()]"
      ]
    },
    {
      "cell_type": "code",
      "execution_count": 220,
      "metadata": {
        "colab": {
          "base_uri": "https://localhost:8080/",
          "height": 156
        },
        "id": "y6kCGHqfpLa9",
        "outputId": "6b24382b-fc8e-42e5-c33b-8ce5af2b7925"
      },
      "outputs": [
        {
          "data": {
            "text/html": [
              "<div>\n",
              "<style scoped>\n",
              "    .dataframe tbody tr th:only-of-type {\n",
              "        vertical-align: middle;\n",
              "    }\n",
              "\n",
              "    .dataframe tbody tr th {\n",
              "        vertical-align: top;\n",
              "    }\n",
              "\n",
              "    .dataframe thead th {\n",
              "        text-align: right;\n",
              "    }\n",
              "</style>\n",
              "<table border=\"1\" class=\"dataframe\">\n",
              "  <thead>\n",
              "    <tr style=\"text-align: right;\">\n",
              "      <th></th>\n",
              "      <th>Name</th>\n",
              "      <th>CGPA</th>\n",
              "      <th>Company Name</th>\n",
              "      <th>Package (FTE)</th>\n",
              "      <th>Package (Intern)</th>\n",
              "      <th>Intern Joining Date</th>\n",
              "      <th>FTE Joining Date</th>\n",
              "      <th>CGPA_round</th>\n",
              "    </tr>\n",
              "    <tr>\n",
              "      <th>Roll Number</th>\n",
              "      <th></th>\n",
              "      <th></th>\n",
              "      <th></th>\n",
              "      <th></th>\n",
              "      <th></th>\n",
              "      <th></th>\n",
              "      <th></th>\n",
              "      <th></th>\n",
              "    </tr>\n",
              "  </thead>\n",
              "  <tbody>\n",
              "    <tr>\n",
              "      <th>18I244</th>\n",
              "      <td>RAVI SUBRAMANIAN N</td>\n",
              "      <td>9.71</td>\n",
              "      <td>Fidelity Investments</td>\n",
              "      <td>1293000</td>\n",
              "      <td>35,000/month</td>\n",
              "      <td>24 Jan 2022</td>\n",
              "      <td>0</td>\n",
              "      <td>10.0</td>\n",
              "    </tr>\n",
              "  </tbody>\n",
              "</table>\n",
              "</div>"
            ],
            "text/plain": [
              "0                          Name  CGPA          Company Name  Package (FTE)  \\\n",
              "Roll Number                                                                  \n",
              "18I244       RAVI SUBRAMANIAN N  9.71  Fidelity Investments        1293000   \n",
              "\n",
              "0           Package (Intern) Intern Joining Date FTE Joining Date  CGPA_round  \n",
              "Roll Number                                                                    \n",
              "18I244          35,000/month         24 Jan 2022                0        10.0  "
            ]
          },
          "execution_count": 220,
          "metadata": {},
          "output_type": "execute_result"
        }
      ],
      "source": [
        "placement[placement['CGPA'] == placement['CGPA'].max()]"
      ]
    },
    {
      "cell_type": "code",
      "execution_count": 221,
      "metadata": {},
      "outputs": [],
      "source": [
        "CGPA_group = placement.groupby(['CGPA_round'])"
      ]
    },
    {
      "cell_type": "code",
      "execution_count": 235,
      "metadata": {},
      "outputs": [
        {
          "data": {
            "text/plain": [
              "list"
            ]
          },
          "execution_count": 235,
          "metadata": {},
          "output_type": "execute_result"
        }
      ],
      "source": [
        "type(company_group['Company Name'].unique().tolist())"
      ]
    },
    {
      "cell_type": "code",
      "execution_count": 231,
      "metadata": {},
      "outputs": [
        {
          "data": {
            "text/html": [
              "<div>\n",
              "<style scoped>\n",
              "    .dataframe tbody tr th:only-of-type {\n",
              "        vertical-align: middle;\n",
              "    }\n",
              "\n",
              "    .dataframe tbody tr th {\n",
              "        vertical-align: top;\n",
              "    }\n",
              "\n",
              "    .dataframe thead th {\n",
              "        text-align: right;\n",
              "    }\n",
              "</style>\n",
              "<table border=\"1\" class=\"dataframe\">\n",
              "  <thead>\n",
              "    <tr style=\"text-align: right;\">\n",
              "      <th></th>\n",
              "      <th>Name</th>\n",
              "      <th>CGPA</th>\n",
              "      <th>Company Name</th>\n",
              "      <th>Package (FTE)</th>\n",
              "      <th>Package (Intern)</th>\n",
              "      <th>Intern Joining Date</th>\n",
              "      <th>FTE Joining Date</th>\n",
              "      <th>CGPA_round</th>\n",
              "    </tr>\n",
              "    <tr>\n",
              "      <th>Roll Number</th>\n",
              "      <th></th>\n",
              "      <th></th>\n",
              "      <th></th>\n",
              "      <th></th>\n",
              "      <th></th>\n",
              "      <th></th>\n",
              "      <th></th>\n",
              "      <th></th>\n",
              "    </tr>\n",
              "  </thead>\n",
              "  <tbody>\n",
              "    <tr>\n",
              "      <th>18I203</th>\n",
              "      <td>ADITHYA HARISH S M</td>\n",
              "      <td>9.53</td>\n",
              "      <td>Fidelity Investments</td>\n",
              "      <td>1293000</td>\n",
              "      <td>35,000/ month</td>\n",
              "      <td>24 Jan 2022</td>\n",
              "      <td>0</td>\n",
              "      <td>10.0</td>\n",
              "    </tr>\n",
              "    <tr>\n",
              "      <th>18I222</th>\n",
              "      <td>KARTHI VIJAYAKUMAAR</td>\n",
              "      <td>9.53</td>\n",
              "      <td>Oracle</td>\n",
              "      <td>1665000</td>\n",
              "      <td>50,000/month</td>\n",
              "      <td>12-Jan-2022</td>\n",
              "      <td>0</td>\n",
              "      <td>10.0</td>\n",
              "    </tr>\n",
              "    <tr>\n",
              "      <th>18I243</th>\n",
              "      <td>PRIYADHARSHINI G</td>\n",
              "      <td>9.54</td>\n",
              "      <td>JP Morgan Chase</td>\n",
              "      <td>1400000</td>\n",
              "      <td>50,000/month</td>\n",
              "      <td>10 Jan 2020</td>\n",
              "      <td>0</td>\n",
              "      <td>10.0</td>\n",
              "    </tr>\n",
              "    <tr>\n",
              "      <th>18I244</th>\n",
              "      <td>RAVI SUBRAMANIAN N</td>\n",
              "      <td>9.71</td>\n",
              "      <td>Fidelity Investments</td>\n",
              "      <td>1293000</td>\n",
              "      <td>35,000/month</td>\n",
              "      <td>24 Jan 2022</td>\n",
              "      <td>0</td>\n",
              "      <td>10.0</td>\n",
              "    </tr>\n",
              "  </tbody>\n",
              "</table>\n",
              "</div>"
            ],
            "text/plain": [
              "0                           Name  CGPA          Company Name  Package (FTE)  \\\n",
              "Roll Number                                                                   \n",
              "18I203        ADITHYA HARISH S M  9.53  Fidelity Investments        1293000   \n",
              "18I222       KARTHI VIJAYAKUMAAR  9.53                Oracle        1665000   \n",
              "18I243          PRIYADHARSHINI G  9.54       JP Morgan Chase        1400000   \n",
              "18I244        RAVI SUBRAMANIAN N  9.71  Fidelity Investments        1293000   \n",
              "\n",
              "0           Package (Intern) Intern Joining Date FTE Joining Date  CGPA_round  \n",
              "Roll Number                                                                    \n",
              "18I203         35,000/ month         24 Jan 2022                0        10.0  \n",
              "18I222          50,000/month         12-Jan-2022                0        10.0  \n",
              "18I243          50,000/month         10 Jan 2020                0        10.0  \n",
              "18I244          35,000/month         24 Jan 2022                0        10.0  "
            ]
          },
          "execution_count": 231,
          "metadata": {},
          "output_type": "execute_result"
        }
      ],
      "source": [
        "CGPA_group.get_group(10)"
      ]
    },
    {
      "cell_type": "code",
      "execution_count": 223,
      "metadata": {
        "colab": {
          "base_uri": "https://localhost:8080/",
          "height": 725
        },
        "id": "Tb9N4BXqiVVz",
        "outputId": "1b695cd0-0ede-4557-baf3-7f40c0b82a57"
      },
      "outputs": [
        {
          "name": "stdout",
          "output_type": "stream",
          "text": [
            "Nine Pointers\n"
          ]
        },
        {
          "data": {
            "text/html": [
              "<div>\n",
              "<style scoped>\n",
              "    .dataframe tbody tr th:only-of-type {\n",
              "        vertical-align: middle;\n",
              "    }\n",
              "\n",
              "    .dataframe tbody tr th {\n",
              "        vertical-align: top;\n",
              "    }\n",
              "\n",
              "    .dataframe thead th {\n",
              "        text-align: right;\n",
              "    }\n",
              "</style>\n",
              "<table border=\"1\" class=\"dataframe\">\n",
              "  <thead>\n",
              "    <tr style=\"text-align: right;\">\n",
              "      <th></th>\n",
              "      <th>Name</th>\n",
              "      <th>Company Name</th>\n",
              "    </tr>\n",
              "    <tr>\n",
              "      <th>Roll Number</th>\n",
              "      <th></th>\n",
              "      <th></th>\n",
              "    </tr>\n",
              "  </thead>\n",
              "  <tbody>\n",
              "    <tr>\n",
              "      <th>18I203</th>\n",
              "      <td>ADITHYA HARISH S M</td>\n",
              "      <td>Fidelity Investments</td>\n",
              "    </tr>\n",
              "    <tr>\n",
              "      <th>18I211</th>\n",
              "      <td>BHAVADHARANI S</td>\n",
              "      <td>Deloitte USI</td>\n",
              "    </tr>\n",
              "    <tr>\n",
              "      <th>18I213</th>\n",
              "      <td>CHATRASHWAR G V</td>\n",
              "      <td>Societe Generale</td>\n",
              "    </tr>\n",
              "    <tr>\n",
              "      <th>18I214</th>\n",
              "      <td>DARSINI V</td>\n",
              "      <td>[24]7. ai</td>\n",
              "    </tr>\n",
              "    <tr>\n",
              "      <th>18I218</th>\n",
              "      <td>GAYATHRI S</td>\n",
              "      <td>Software AG India</td>\n",
              "    </tr>\n",
              "    <tr>\n",
              "      <th>18I219</th>\n",
              "      <td>GOKUL KUMAR B</td>\n",
              "      <td>Fidelity Investments</td>\n",
              "    </tr>\n",
              "    <tr>\n",
              "      <th>18I222</th>\n",
              "      <td>KARTHI VIJAYAKUMAAR</td>\n",
              "      <td>Oracle</td>\n",
              "    </tr>\n",
              "    <tr>\n",
              "      <th>18I225</th>\n",
              "      <td>KEERTHANA S</td>\n",
              "      <td>Morgan Stanley</td>\n",
              "    </tr>\n",
              "    <tr>\n",
              "      <th>18I226</th>\n",
              "      <td>KOKILA S</td>\n",
              "      <td>Deloitte USI</td>\n",
              "    </tr>\n",
              "    <tr>\n",
              "      <th>18I228</th>\n",
              "      <td>LAKSHITHA R</td>\n",
              "      <td>Software AG India</td>\n",
              "    </tr>\n",
              "    <tr>\n",
              "      <th>18I231</th>\n",
              "      <td>MOHANA LAKSHMI M</td>\n",
              "      <td>Citi India</td>\n",
              "    </tr>\n",
              "    <tr>\n",
              "      <th>18I232</th>\n",
              "      <td>NAVEENRAJ R</td>\n",
              "      <td>Morgan Stanley</td>\n",
              "    </tr>\n",
              "    <tr>\n",
              "      <th>18I237</th>\n",
              "      <td>NIVETHA R</td>\n",
              "      <td>Walmart</td>\n",
              "    </tr>\n",
              "    <tr>\n",
              "      <th>18I242</th>\n",
              "      <td>PREETHA SB</td>\n",
              "      <td>Walmart</td>\n",
              "    </tr>\n",
              "    <tr>\n",
              "      <th>18I243</th>\n",
              "      <td>PRIYADHARSHINI G</td>\n",
              "      <td>JP Morgan Chase</td>\n",
              "    </tr>\n",
              "    <tr>\n",
              "      <th>18I244</th>\n",
              "      <td>RAVI SUBRAMANIAN N</td>\n",
              "      <td>Fidelity Investments</td>\n",
              "    </tr>\n",
              "    <tr>\n",
              "      <th>18I251</th>\n",
              "      <td>SARANYA S</td>\n",
              "      <td>Robert Bosch</td>\n",
              "    </tr>\n",
              "    <tr>\n",
              "      <th>18I253</th>\n",
              "      <td>SENEHA V S</td>\n",
              "      <td>Fidelity Investments</td>\n",
              "    </tr>\n",
              "    <tr>\n",
              "      <th>18I261</th>\n",
              "      <td>VAISHNAVEE R N</td>\n",
              "      <td>Danske IT</td>\n",
              "    </tr>\n",
              "    <tr>\n",
              "      <th>19I433</th>\n",
              "      <td>NAVEEN G</td>\n",
              "      <td>Microsoft</td>\n",
              "    </tr>\n",
              "  </tbody>\n",
              "</table>\n",
              "</div>"
            ],
            "text/plain": [
              "0                           Name          Company Name\n",
              "Roll Number                                           \n",
              "18I203        ADITHYA HARISH S M  Fidelity Investments\n",
              "18I211            BHAVADHARANI S          Deloitte USI\n",
              "18I213           CHATRASHWAR G V      Societe Generale\n",
              "18I214                 DARSINI V             [24]7. ai\n",
              "18I218                GAYATHRI S     Software AG India\n",
              "18I219             GOKUL KUMAR B  Fidelity Investments\n",
              "18I222       KARTHI VIJAYAKUMAAR                Oracle\n",
              "18I225               KEERTHANA S        Morgan Stanley\n",
              "18I226                  KOKILA S          Deloitte USI\n",
              "18I228               LAKSHITHA R     Software AG India\n",
              "18I231          MOHANA LAKSHMI M            Citi India\n",
              "18I232               NAVEENRAJ R        Morgan Stanley\n",
              "18I237                 NIVETHA R               Walmart\n",
              "18I242                PREETHA SB               Walmart\n",
              "18I243          PRIYADHARSHINI G       JP Morgan Chase\n",
              "18I244        RAVI SUBRAMANIAN N  Fidelity Investments\n",
              "18I251                 SARANYA S          Robert Bosch\n",
              "18I253                SENEHA V S  Fidelity Investments\n",
              "18I261            VAISHNAVEE R N             Danske IT\n",
              "19I433                  NAVEEN G             Microsoft"
            ]
          },
          "execution_count": 223,
          "metadata": {},
          "output_type": "execute_result"
        }
      ],
      "source": [
        "based_on_CGPA = placement[placement['CGPA'] > 9]\n",
        "print('Nine Pointers')\n",
        "based_on_CGPA[['Name', 'Company Name']]"
      ]
    },
    {
      "cell_type": "code",
      "execution_count": 224,
      "metadata": {
        "colab": {
          "base_uri": "https://localhost:8080/"
        },
        "id": "gXzaXGYSjGl2",
        "outputId": "4f7d804e-ab04-4c5d-e0e6-48b0197dad35"
      },
      "outputs": [
        {
          "name": "stdout",
          "output_type": "stream",
          "text": [
            "Top 5 Companies that hired most number of students\n"
          ]
        },
        {
          "data": {
            "text/plain": [
              "Company Name\n",
              "Fidelity Investments    5\n",
              "Societe Generale        5\n",
              "Wipro                   4\n",
              "Robert Bosch            4\n",
              "Deloitte USI            2\n",
              "Name: Name, dtype: int64"
            ]
          },
          "execution_count": 224,
          "metadata": {},
          "output_type": "execute_result"
        }
      ],
      "source": [
        "print(\"Top 5 Companies that hired most number of students\")\n",
        "placement.groupby(['Company Name'])['Name'].count().sort_values(ascending=False).head(5)"
      ]
    },
    {
      "cell_type": "code",
      "execution_count": 225,
      "metadata": {
        "colab": {
          "base_uri": "https://localhost:8080/",
          "height": 237
        },
        "id": "5LE5WY-OuR8-",
        "outputId": "c91d646d-eee0-4b2f-8b88-2b75ae58674a"
      },
      "outputs": [
        {
          "data": {
            "text/html": [
              "<div>\n",
              "<style scoped>\n",
              "    .dataframe tbody tr th:only-of-type {\n",
              "        vertical-align: middle;\n",
              "    }\n",
              "\n",
              "    .dataframe tbody tr th {\n",
              "        vertical-align: top;\n",
              "    }\n",
              "\n",
              "    .dataframe thead th {\n",
              "        text-align: right;\n",
              "    }\n",
              "</style>\n",
              "<table border=\"1\" class=\"dataframe\">\n",
              "  <thead>\n",
              "    <tr style=\"text-align: right;\">\n",
              "      <th></th>\n",
              "      <th>Name</th>\n",
              "      <th>CGPA</th>\n",
              "    </tr>\n",
              "    <tr>\n",
              "      <th>Roll Number</th>\n",
              "      <th></th>\n",
              "      <th></th>\n",
              "    </tr>\n",
              "  </thead>\n",
              "  <tbody>\n",
              "    <tr>\n",
              "      <th>18I203</th>\n",
              "      <td>ADITHYA HARISH S M</td>\n",
              "      <td>9.53</td>\n",
              "    </tr>\n",
              "    <tr>\n",
              "      <th>18I219</th>\n",
              "      <td>GOKUL KUMAR B</td>\n",
              "      <td>9.43</td>\n",
              "    </tr>\n",
              "    <tr>\n",
              "      <th>18I244</th>\n",
              "      <td>RAVI SUBRAMANIAN N</td>\n",
              "      <td>9.71</td>\n",
              "    </tr>\n",
              "    <tr>\n",
              "      <th>18I253</th>\n",
              "      <td>SENEHA V S</td>\n",
              "      <td>9.21</td>\n",
              "    </tr>\n",
              "    <tr>\n",
              "      <th>18I255</th>\n",
              "      <td>SHARAVANAN B</td>\n",
              "      <td>8.94</td>\n",
              "    </tr>\n",
              "  </tbody>\n",
              "</table>\n",
              "</div>"
            ],
            "text/plain": [
              "0                          Name  CGPA\n",
              "Roll Number                          \n",
              "18I203       ADITHYA HARISH S M  9.53\n",
              "18I219            GOKUL KUMAR B  9.43\n",
              "18I244       RAVI SUBRAMANIAN N  9.71\n",
              "18I253               SENEHA V S  9.21\n",
              "18I255             SHARAVANAN B  8.94"
            ]
          },
          "execution_count": 225,
          "metadata": {},
          "output_type": "execute_result"
        }
      ],
      "source": [
        "company_group.get_group('Fidelity Investments')[['Name', 'CGPA']]"
      ]
    },
    {
      "cell_type": "code",
      "execution_count": 226,
      "metadata": {
        "colab": {
          "base_uri": "https://localhost:8080/",
          "height": 143
        },
        "id": "l1JbAkhupa2R",
        "outputId": "fa90636f-4309-4fc7-85fa-87f1bc928690"
      },
      "outputs": [
        {
          "data": {
            "text/html": [
              "<div>\n",
              "<style scoped>\n",
              "    .dataframe tbody tr th:only-of-type {\n",
              "        vertical-align: middle;\n",
              "    }\n",
              "\n",
              "    .dataframe tbody tr th {\n",
              "        vertical-align: top;\n",
              "    }\n",
              "\n",
              "    .dataframe thead th {\n",
              "        text-align: right;\n",
              "    }\n",
              "</style>\n",
              "<table border=\"1\" class=\"dataframe\">\n",
              "  <thead>\n",
              "    <tr style=\"text-align: right;\">\n",
              "      <th></th>\n",
              "      <th>Name</th>\n",
              "      <th>CGPA</th>\n",
              "    </tr>\n",
              "    <tr>\n",
              "      <th>Roll Number</th>\n",
              "      <th></th>\n",
              "      <th></th>\n",
              "    </tr>\n",
              "  </thead>\n",
              "  <tbody>\n",
              "    <tr>\n",
              "      <th>18I225</th>\n",
              "      <td>KEERTHANA S</td>\n",
              "      <td>9.39</td>\n",
              "    </tr>\n",
              "    <tr>\n",
              "      <th>18I232</th>\n",
              "      <td>NAVEENRAJ R</td>\n",
              "      <td>9.34</td>\n",
              "    </tr>\n",
              "  </tbody>\n",
              "</table>\n",
              "</div>"
            ],
            "text/plain": [
              "0                   Name  CGPA\n",
              "Roll Number                   \n",
              "18I225       KEERTHANA S  9.39\n",
              "18I232       NAVEENRAJ R  9.34"
            ]
          },
          "execution_count": 226,
          "metadata": {},
          "output_type": "execute_result"
        }
      ],
      "source": [
        "company_group.get_group('Morgan Stanley')[['Name', 'CGPA']]"
      ]
    },
    {
      "cell_type": "code",
      "execution_count": 227,
      "metadata": {
        "colab": {
          "base_uri": "https://localhost:8080/"
        },
        "id": "ZxY8Gr2WdVl-",
        "outputId": "e7961bf8-befc-4f2f-cfcd-950655a44a17"
      },
      "outputs": [
        {
          "name": "stdout",
          "output_type": "stream",
          "text": [
            "Total No. of students: 67\n",
            "No. of students opted: 58\n",
            "No. of students not opted: 8\n",
            "Students with insufficient data: 1\n"
          ]
        }
      ],
      "source": [
        "print(\"Total No. of students: \" + str(data.shape[0]))\n",
        "print(\"No. of students opted: \" + str(placement.shape[0]))\n",
        "print(\"No. of students not opted: \" + str(higher.shape[0]))\n",
        "diff = data.shape[0] - (placement.shape[0]+higher.shape[0])\n",
        "print(\"Students with insufficient data: \" + str(diff))"
      ]
    },
    {
      "cell_type": "code",
      "execution_count": 228,
      "metadata": {},
      "outputs": [
        {
          "data": {
            "text/html": [
              "<a download=\"data.csv\" href=\"data:text/csv;base64,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\" target=\"_blank\">Download CSV file</a>"
            ],
            "text/plain": [
              "<IPython.core.display.HTML object>"
            ]
          },
          "execution_count": 228,
          "metadata": {},
          "output_type": "execute_result"
        }
      ],
      "source": [
        "create_download_link(data)"
      ]
    },
    {
      "cell_type": "code",
      "execution_count": 229,
      "metadata": {},
      "outputs": [
        {
          "data": {
            "text/html": [
              "<a download=\"data.csv\" href=\"data:text/csv;base64,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\" target=\"_blank\">Download CSV file</a>"
            ],
            "text/plain": [
              "<IPython.core.display.HTML object>"
            ]
          },
          "execution_count": 229,
          "metadata": {},
          "output_type": "execute_result"
        }
      ],
      "source": [
        "create_download_link(placement)"
      ]
    },
    {
      "cell_type": "code",
      "execution_count": 230,
      "metadata": {},
      "outputs": [
        {
          "data": {
            "text/html": [
              "<a download=\"data.csv\" href=\"data:text/csv;base64,Um9sbCBOdW1iZXIsTmFtZSxDR1BBLENvbXBhbnkgTmFtZSxQYWNrYWdlIChGVEUpLFBhY2thZ2UgKEludGVybiksSW50ZXJuIEpvaW5pbmcgRGF0ZSxGVEUgSm9pbmluZyBEYXRlCjE4STIxMCxCSEFSQVRITEFLU0hNSSBTLE5vdCBPcHRlZCwwLDAsMCwwLDAKMThJMjE1LERFRVBJS0EgVCxOb3QgT3B0ZWQsMCwwLDAsMCwwCjE4STIyMyxLQVZJIERIQVJTSElOSSBBLE5vdCBPcHRlZCAsMCwwLDgwMDAvbW9udGgsMDctTWFyLTIwMjIsMAoxOEkyMjcsS1JJVEhJS0EgTSxOb3QgT3B0ZWQsMCwwLDgwMDAvbW9udGgsMDctTWFyLTIwMjIsMAoxOEkyMzgsUEFSSVRTQ0hBVEggS0FSVEhJS0VZQU4gTCBNLE5vdCBPcHRlZCwwLDAsMCwwLDAKMThJMjQ4LFNBTkNIQU5BIFMsTm90IE9wdGVkLDAsMCwwLDAsMAoxOEkyNTcsU0hSRUUgUkFLU0hBLlMsTm90IE9wdGVkLDAsMCxOSUwsMDEgTWFyIDIwMjIsMAoxOUk0MzIsR09QSUtVTUFSIFMsTm90IE9wdGVkLDAsMCwwLDAsMAo=\" target=\"_blank\">Download CSV file</a>"
            ],
            "text/plain": [
              "<IPython.core.display.HTML object>"
            ]
          },
          "execution_count": 230,
          "metadata": {},
          "output_type": "execute_result"
        }
      ],
      "source": [
        "create_download_link(higher)"
      ]
    },
    {
      "cell_type": "code",
      "execution_count": null,
      "metadata": {},
      "outputs": [],
      "source": []
    }
  ],
  "metadata": {
    "colab": {
      "provenance": []
    },
    "kernelspec": {
      "display_name": "Python 3.9.15 ('base')",
      "language": "python",
      "name": "python3"
    },
    "language_info": {
      "codemirror_mode": {
        "name": "ipython",
        "version": 3
      },
      "file_extension": ".py",
      "mimetype": "text/x-python",
      "name": "python",
      "nbconvert_exporter": "python",
      "pygments_lexer": "ipython3",
      "version": "3.9.15"
    },
    "vscode": {
      "interpreter": {
        "hash": "6d078e1f986311ba69e81807d89f356c587768ef183ea6239107e6c3f97337dc"
      }
    }
  },
  "nbformat": 4,
  "nbformat_minor": 0
}
